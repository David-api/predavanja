{
 "cells": [
  {
   "cell_type": "markdown",
   "metadata": {},
   "source": [
    "## Prenašalci\n",
    "\n",
    "Ana je šla na kavo. Berta tudi. Ana je bila pri tem kot oni genij, ki sem ga zadnjič videl v Hofru: načelno je imel masko (čez usta, nos se mu je zdel prelep, da bi ga skril), le kadar se je pogovarjal z ženo, jo je potegnil dol (mislim, masko), da je lažje govoril. No, resnici na ljubo jo je Ana morala sneti tudi zato, da je lahko pila kavo. Potem je šla Ana še k zdravniku. Dani tudi. Cilka je bila pa tudi na kavi. Pa še na telovadbi. Tam je bila tudi Ema.\n",
    "\n",
    "V nekoliko drugačnem vrstnem redu, tako:\n",
    "\n",
    "```python\n",
    "obiski = [(\"Ana\", \"kava\"), (\"Berta\", \"kava\"), (\"Cilka\", \"telovadba\"),\n",
    "          (\"Dani\", \"zdravnik\"), (\"Ana\", \"zdravnik\"), (\"Cilka\", \"kava\"),\n",
    "          (\"Ema\", \"telovadba\")]\n",
    "```\n",
    "\n",
    "Napiši naslednje funkcije.\n",
    "\n",
    "- `osebe(obiski)` prejme seznam, kot je gornji in vrne množico imen vseh akterjev (v gornjem primeru `{\"Ana\", \"Berta\", \"Cilka\", \"Dani\", \"Ema\"}`);\n",
    "- `dejavnosti(obiski)` prejme takšen seznam in vrne množico vseh aktov (npr. `{\"kava\", \"telovadba\", \"zdravnik\"}`);\n",
    "- `dejavnosti_osebe(oseba, obiski)` vrne množico dejavnosti, ki se jih je udeležila podana oseba;\n",
    "- `udelezenci(dejavnost, obiski)` vrne množico oseb, ki so se udeležile podane dejavnosti;\n",
    "- `v_stiku(oseba1, oseba2, obiski)` vrne `True`, če sta se podani osebi udeležila kake iste dejavnosti;\n",
    "- `v_karanteno(oseba, obiski)` vrne množico oseb, ki jih je podana `oseba` morda okužila;\n",
    "- `zlatko(obiski)` vrne ime osebe, ki so bile v stiku z največ drugimi osebami. Če je enako zlatih prinašalcev več, lahko funkcija vrne kateregakoli od njih.\n",
    "- `osumljenci(zbolel, zdravi, obiski)` prejme ime nekoga, ki je zbolel in množico imen ljudi, ki so preverjeno zdravi. Vrniti mora množico oseb, za katere sumimo, da so morda okužili tega, ki je zbolel. Recimo, da pokličemo `osumljenci(\"Ana\", {\"Berta\"}, obiski)`. Se pravi: Ana je zbolela. Kdo jo je okužil? Ana se je družila z Berto, Cilko in Dani. Vendar vemo, da je Berta zdrava. Prav tako vemo, da Ane gotovo ni okužila Cilka: če bi virus stresala Cilka, bi zbolela tudi Berta. Kandidat za okužbo Ane je torej samo Dani. V splošnem: kandidati za okužbo zbolelega so tiste osebe, ki so se družile z zbolelim, niso pa se družile z nikomer od zdravih (in, seveda, tudi sami niso med preverjeno zdravimi).\n",
    "\n",
    "### Rešitev\n",
    "\n",
    "Prvi štiri funkcije bi morale biti trivialne."
   ]
  },
  {
   "cell_type": "code",
   "execution_count": 1,
   "metadata": {},
   "outputs": [],
   "source": [
    "def osebe(obiski):\n",
    "    vse_osebe = set()\n",
    "    for oseba, _ in obiski:\n",
    "        vse_osebe.add(oseba)\n",
    "    return vse_osebe\n",
    "\n",
    "def dejavnosti(obiski):\n",
    "    vse_dejavnosti = set()\n",
    "    for _, dejavnost in obiski:\n",
    "        vse_dejavnosti.add(dejavnost)\n",
    "    return vse_dejavnosti\n",
    "\n",
    "def dejavnosti_osebe(oseba, obiski):\n",
    "    dejavnosti = set()\n",
    "    for oseba1, dejavnost in obiski:\n",
    "        if oseba1 == oseba:\n",
    "            dejavnosti.add(dejavnost)\n",
    "    return dejavnosti\n",
    "\n",
    "def udelezenci(dejavnost, obiski):\n",
    "    osebe = set()\n",
    "    for oseba, dejavnost1 in obiski:\n",
    "        if dejavnost1 == dejavnost:\n",
    "            osebe.add(oseba)\n",
    "    return osebe"
   ]
  },
  {
   "cell_type": "markdown",
   "metadata": {},
   "source": [
    "Omembe vredna so le imena spremenljivk.\n",
    "- Prvi dve imata spremenljivko, katere vrednost nas ne zanima, tu je le zaradi zanke. Zato ji ne damo posebnega imena, temveč jo poimenujemo le podčrtaj.\n",
    "- Množico, ki jo moramo vrniti, bi v prvi funkciji najraje poimenovali `osebe` in v drugi `dejavnosti`. Tega nismo storili, ker vobče ni dobra ideja, če se spremenljivka znotraj funkcije imenuje enako kot funkcija (ali, načelno, enako kot katera druga funkcija). V tem programu s tem ne bi bilo težav, prišli pa bodo programi, kjer bomo morali na to resneje paziti.\n",
    "- V drugih dveh funkcijah bi nas mikalo napisati zanko `for oseba, dejavnost in obiski`, vendar bi s tem `oseba` ali `dejavnost` (v eni funkciji eno, v drugi drugo) imela enako ime kot argument funkcije in to zagotovo ne bi bilo dobro.\n",
    "\n",
    "Zdaj pa ostale štiri funkcije.\n",
    "\n",
    "Dve osebi sta bili v stiku, če sta se obe udeležili kake iste dejavnosti. Z drugimi besedami, če je presek njunih dejavnosti neprazen. To sprogramiramo, recimo, tako:"
   ]
  },
  {
   "cell_type": "code",
   "execution_count": 3,
   "metadata": {},
   "outputs": [],
   "source": [
    "def v_stiku(oseba1, oseba2, obiski):\n",
    "    return dejavnosti_osebe(oseba1, obiski) & dejavnosti_osebe(oseba2, obiski) != set()"
   ]
  },
  {
   "cell_type": "markdown",
   "metadata": {},
   "source": [
    "Naloga ne pove jasno, ali je vsaka oseba v stiku s seboj. V gornji rešitvi smo predpostavili, da je.\n",
    "\n",
    "Naslednja funkcija je potem spet podobna prvim štirim: sestavljamo množico vseh oseb, ki so bile v stiku s podano. Gremo čez vse osebe (ki nam jih da funkcija `osebe`) in tiste, ki so v stiku s podano, damo med potencialno okužene."
   ]
  },
  {
   "cell_type": "code",
   "execution_count": 4,
   "metadata": {},
   "outputs": [],
   "source": [
    "def v_karanteno(oseba, obiski):\n",
    "    okuzeni = set()\n",
    "    for oseba1 in osebe(obiski):\n",
    "        if oseba1 != oseba and v_stiku(oseba1, oseba, obiski):\n",
    "            okuzeni.add(oseba1)\n",
    "    return okuzeni"
   ]
  },
  {
   "cell_type": "markdown",
   "metadata": {},
   "source": [
    "Zlatka poiščemo tako, da gremo prek vseh oseb in za vsako preverimo, ali je spravila v karanteno več ljudi, kot najbolj zlata oseba doslej. Začetni zlatko je lahko kar oseba z izmišljenim imenom, recimo `\"\"`."
   ]
  },
  {
   "cell_type": "code",
   "execution_count": 5,
   "metadata": {},
   "outputs": [],
   "source": [
    "def zlatko(obiski):\n",
    "    naj_zlatejsi = \"\"\n",
    "    for oseba in osebe(obiski):\n",
    "        if len(v_karanteno(oseba, obiski)) > len(v_karanteno(naj_zlatejsi, obiski)):\n",
    "            naj_zlatejsi = oseba\n",
    "    return naj_zlatejsi"
   ]
  },
  {
   "cell_type": "markdown",
   "metadata": {},
   "source": [
    "Zadnja naloga je bila ena od dveh (poleg `v_stiku`), kjer je bilo res potrebno delati z množicami. No, kaj hudega nam tudi tu ni bilo. V začetku so osumljeni vsi, ki so bili v stiku z zbolelo osebo. Tu spet uporabimo kar funkcijo `v_karanteno`, čeprav na nek način v rikverc - ko smo jo pisali, smo si predstavljali, da bo povedala, koga podana oseba okuži, vendar opazuje le stike, torej deluje tudi v drugo smer. Nato iz množice osumljenih takoj odstranimo vse, ki so zdravi. Potem pa gremo še prek seznama vseh, ki so bili v stiku z zdravimi, saj ti, naivno gledano, tudi ne morejo biti bolni in torej niso mogli okužiti podane osebe."
   ]
  },
  {
   "cell_type": "code",
   "execution_count": 6,
   "metadata": {},
   "outputs": [],
   "source": [
    "def osumljenci(zbolel, zdravi, obiski):\n",
    "    stiki = v_karanteno(zbolel, obiski) - zdravi\n",
    "    for osebe in zdravi:\n",
    "        stiki -= v_karanteno(osebe, obiski)\n",
    "    return stiki"
   ]
  }
 ],
 "metadata": {
  "kernelspec": {
   "display_name": "Python 3",
   "language": "python",
   "name": "python3"
  },
  "language_info": {
   "codemirror_mode": {
    "name": "ipython",
    "version": 3
   },
   "file_extension": ".py",
   "mimetype": "text/x-python",
   "name": "python",
   "nbconvert_exporter": "python",
   "pygments_lexer": "ipython3",
   "version": "3.7.4"
  }
 },
 "nbformat": 4,
 "nbformat_minor": 4
}
