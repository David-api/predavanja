{
 "cells": [
  {
   "cell_type": "markdown",
   "metadata": {},
   "source": [
    "## Naloga\n",
    "\n",
    "Napiši **rekurzivno funkcijo** `izpuscaji(s)`, ki prejme seznam števil, na primer, `[3, 1, 2, 4, 0, 1, 2, 2, 3]` in simulira, kar kaže slika.\n",
    "\n",
    "<img src=\"data:image/.png;base64,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\"/>\n",
    "\n",
    "Vsaka številka pove, koliko naslednjih celic je potrebno preskočiti. Funkcija vrne zaporedje števil v obiskanih poljih. V gornjem primeru vrne `[3, 0, 1, 2]`.\n",
    "\n",
    "Povedano drugače, funkcija mora narediti tole:\n",
    "\n",
    "```python\n",
    "def izpuscaji(s):\n",
    "    i = 0\n",
    "    r = []\n",
    "    while i < len(s):\n",
    "        r.append(s[i])\n",
    "        i += s[i] + 1\n",
    "    return r\n",
    "```\n",
    "\n",
    "Le da mora vaša funkcija to naredi z rekurzijo, ne z zanko. Ne pišite nerekurzivne funkcije, saj sem jo že jaz.\n",
    "\n",
    "## Neobvezni izziv za vse, ki jih gornje dolgočasi\n",
    "\n",
    "Napiši **rekurzivno** funkcijo `nazaj(s)`, ki prejme nek neprazen seznam števil in vrne naraščajoči seznam, ki se konča z istim elementom, ostale elemente pa pobere tako, da jih izbira od desne proti levi, a tako, da nikoli ne doda elementa, ki bi bil večji od naslednjega.\n",
    "\n",
    "Ta opis je bil čuden. Lažje bo s primerom.\n",
    "\n",
    "Vzemimo `[7, 5, 8, 10, 16, 12, 23, 18, 30]`. Novi seznam se bo končal z `[30]`. Nato gremo proti levi. Pred 30 smemo dodati 18, torej imamo `[18, 30]`. Naslednje število je 23, vendar ga ne smemo dodati, ker `[23, 18, 30]` ne bi bil naraščajoč seznam (23 je večje od 18). 23 torej preskočimo in ostanemo pri `[18, 30]`. Nato je na vrsti 12. To lahko dodamo in imamo `[12, 18, 30]`. 16 moramo preskočiti, ker je večje od 12. 10 lahko dodamo in imamo `[10, 12, 18, 30]`. Prav tako smemo dodati 10, 8 in 5, preskočimo pa 7. Rezultat je torej `[5, 8, 10, 12, 18, 30]`.\n",
    "\n",
    "Funkcija je bistveno preprostejša od opisa.\n",
    "\n",
    "## Neobvezni izziv 2\n",
    "\n",
    "Obvezno funkcijo, `izouscaji`, napiši v eni vrstici - a še vedno rekurzivno.\n",
    "\n",
    "(Ne, ne, ne gre za izpeljane sezname. Samo to, kar si naredil(a) v obvezni nalogi malo preoblikuj. Če ne znaš, a bi rad(a) naredila, mi piši za nasvet.)\n",
    "\n",
    "# Rešitev"
   ]
  },
  {
   "cell_type": "code",
   "execution_count": 1,
   "metadata": {},
   "outputs": [],
   "source": [
    "def izpuscaji(s):\n",
    "    if not s:\n",
    "        return []\n",
    "    prvi = s[0]\n",
    "    return [prvi] + izpuscaji(s[1 + prvi:])"
   ]
  },
  {
   "cell_type": "markdown",
   "metadata": {},
   "source": [
    "Če je seznam prazen, vrnemo prazen seznam. Sicer je `prvi` prvi element. Vrniti moramo seznam, ki vsebuje ta element in seznam, ki ga dobimo tako, da izpustimo ta element (`1`) in toliko elementov, kolikor je `prvi`, ter v tem (torej v `s[1 + prvi:]`) ponovimo tole izpuščanje."
   ]
  },
  {
   "cell_type": "code",
   "execution_count": 2,
   "metadata": {},
   "outputs": [
    {
     "data": {
      "text/plain": [
       "[3, 0, 1, 2]"
      ]
     },
     "execution_count": 2,
     "metadata": {},
     "output_type": "execute_result"
    }
   ],
   "source": [
    "izpuscaji([3, 1, 2, 4, 0, 1, 2, 2, 3])"
   ]
  },
  {
   "cell_type": "markdown",
   "metadata": {},
   "source": [
    "Če hočemo to narediti z enim samim izrazom, pa gre najlepše s pythonovskim trikom:"
   ]
  },
  {
   "cell_type": "code",
   "execution_count": 3,
   "metadata": {},
   "outputs": [],
   "source": [
    "def izpuscaji(s):\n",
    "    return s and [s[0]] + izpuscaji(s[s[0] + 1:])"
   ]
  },
  {
   "cell_type": "code",
   "execution_count": 4,
   "metadata": {},
   "outputs": [
    {
     "data": {
      "text/plain": [
       "[3, 0, 1, 2]"
      ]
     },
     "execution_count": 4,
     "metadata": {},
     "output_type": "execute_result"
    }
   ],
   "source": [
    "izpuscaji([3, 1, 2, 4, 0, 1, 2, 2, 3])"
   ]
  },
  {
   "cell_type": "markdown",
   "metadata": {},
   "source": [
    "Če je `s` prazen, je neresničen; `s and ...` zato vrne `s`. Če je prazen, pa je resničen in funkcija vrne, kar sledi operatorju `and`.\n",
    "\n",
    "## Nazaj"
   ]
  },
  {
   "cell_type": "code",
   "execution_count": 5,
   "metadata": {},
   "outputs": [],
   "source": [
    "def nazaj(s):\n",
    "    if len(s) == 1:\n",
    "        return s\n",
    "    ostali = nazaj(s[1:])\n",
    "    if s[0] < ostali[0]:\n",
    "        return [s[0]] + ostali\n",
    "    return ostali"
   ]
  },
  {
   "cell_type": "markdown",
   "metadata": {},
   "source": [
    "Če ima seznam le ene element, ga vrnemo. Sicer naj bodo `ostali` tisto, kar vrne `nazaj` na ostanku seznama. Če je prvi element manjši od prvega elementa tega seznama, ga smemo dodati - vrnemo torej vsoto seznama, ki vsebuje ta, prvi element, in vse ostale. Sicer pa ga ne dodamo, temveč vrnemo le ostale."
   ]
  }
 ],
 "metadata": {
  "kernelspec": {
   "display_name": "Python 3",
   "language": "python",
   "name": "python3"
  },
  "language_info": {
   "codemirror_mode": {
    "name": "ipython",
    "version": 3
   },
   "file_extension": ".py",
   "mimetype": "text/x-python",
   "name": "python",
   "nbconvert_exporter": "python",
   "pygments_lexer": "ipython3",
   "version": "3.7.4"
  }
 },
 "nbformat": 4,
 "nbformat_minor": 4
}
