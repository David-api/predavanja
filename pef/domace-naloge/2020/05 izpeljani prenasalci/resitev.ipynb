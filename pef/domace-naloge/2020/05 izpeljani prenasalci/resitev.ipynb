{
 "cells": [
  {
   "cell_type": "markdown",
   "metadata": {},
   "source": [
    "## Izpeljani prenašalci\n",
    "\n",
    "Tokratna domača naloga je [enaka kot pred dvema tednoma](https://ucilnica.pef.uni-lj.si/mod/assign/view.php?id=39177), vendar morate funkcije `osebe`, `dejavnosti`, `dejavnosti_osebe`, `udelezenci`, `v_stiku`, `v_karanteno` z uporabo tega, kar smo se učili danes. Torej v eni vrstici - le sestavite in vrnete množico, ki jo zahteva naloga (oziroma pri, `v_stiku`, sestavite množico in preverite, ali je takšna in takšna).\n",
    "\n",
    "Tudi preostali dve funkciji je možno brez težav napisati v eni vrstici, vendar je za to potrebno poznati stvari, ki se jih nismo in ne bomo učili.\n",
    "\n",
    "Vaše funkcije lahko kličejo druge funkcije, ki ste jih napisali v okviru te naloge. Pač pa tokrat izjemoma ne smete pisati dodatnih funkcij (ker ni potrebno in ker bi se s tem lahko kvečjemu izognili pravi nalogi).\n",
    "\n",
    "Seveda si lahko pomagate s svojo ali tudi z [mojo rešitvijo](https://github.com/janezd/predavanja/blob/master/pef/domace-naloge/2020/03%20okuzbe/resitev.ipynb) naloge izpred dveh tednov.\n",
    "\n",
    "Naloga je res lahka in skrajni čas je, da vam začnem dajati težje. V bistvu morate le znati pravilno zapisati, kar smo pisali na predavanjih.\n",
    "\n",
    "## Rešitev\n",
    "\n",
    "Praktično vsi študenti so nalogo rešili tako."
   ]
  },
  {
   "cell_type": "code",
   "execution_count": 1,
   "metadata": {},
   "outputs": [],
   "source": [
    "def osebe(obiski):\n",
    "    return {oseba for oseba, _ in obiski}\n",
    "\n",
    "def dejavnosti(obiski):\n",
    "    return {dejavnost for _, dejavnost in obiski}\n",
    "\n",
    "def dejavnosti_osebe(oseba, obiski):\n",
    "    return {dejavnost for oseba1, dejavnost in obiski if oseba1 == oseba}\n",
    "\n",
    "def udelezenci(dejavnost, obiski):\n",
    "    return {oseba for oseba, dejavnost1 in obiski if dejavnost1 == dejavnost}\n",
    "\n",
    "def v_stiku(oseba1, oseba2, obiski):\n",
    "    return bool(dejavnosti_osebe(oseba1, obiski) & dejavnosti_osebe(oseba2, obiski))\n",
    "\n",
    "def v_karanteno(oseba, obiski):\n",
    "    return {oseba1 for oseba1 in osebe(obiski) if v_stiku(oseba1, oseba, obiski) and oseba1 != oseba}"
   ]
  },
  {
   "cell_type": "markdown",
   "metadata": {},
   "source": [
    "In o tem se nimamo kaj pogovarjati."
   ]
  }
 ],
 "metadata": {
  "kernelspec": {
   "display_name": "Python 3",
   "language": "python",
   "name": "python3"
  },
  "language_info": {
   "codemirror_mode": {
    "name": "ipython",
    "version": 3
   },
   "file_extension": ".py",
   "mimetype": "text/x-python",
   "name": "python",
   "nbconvert_exporter": "python",
   "pygments_lexer": "ipython3",
   "version": "3.7.4"
  }
 },
 "nbformat": 4,
 "nbformat_minor": 4
}
