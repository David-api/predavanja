{
 "cells": [
  {
   "cell_type": "markdown",
   "metadata": {},
   "source": [
    "## Janez reče\n",
    "\n",
    "Na prvem izpitnem roku 2020/21 je bila naloga Simon reče. Zaploskajte, primite se za nosove in tako naprej. To je v času korone popolnoma neaktualno (razen, če je avtor naloge hotel nakazati, da se da to igrati tudi po Zoomu). Tu se bomo šli igro \"Janez reče\".\n",
    "\n",
    "Vse funkcije, ki jih boste pisali, bodo dobile seznam nizov tega, kar je v nekih zaporednih tednih, dneh ali urah rekel Janez. Na primer"
   ]
  },
  {
   "cell_type": "code",
   "execution_count": 1,
   "metadata": {},
   "outputs": [],
   "source": [
    "odredbe = [\n",
    "    \"Prepovedano: gostilne, fakultete\",\n",
    "    \"Prepovedano: prehajanje med regijami, nočni sprehodi, javni promet\",\n",
    "    \"Dovoljeno: fakultete\",\n",
    "    \"Prepovedano: tek na prostem\",\n",
    "    \"Dovoljeno: fakultete\",\n",
    "    \"Dovoljeno: nočni sprehodi, tek na prostem\",\n",
    "    \"Prepovedano: fakultete, nočni sprehodi, frizer\",\n",
    "    \"Dovoljeno: frizer\",\n",
    "    \"Prepovedano: fakultete, zobozdravnik, tek na prostem\",\n",
    "    \"Dovoljeno: tek na prostem, javni promet\"]"
   ]
  },
  {
   "cell_type": "markdown",
   "metadata": {},
   "source": [
    "Vsak niz se torej začne z besedo `\"Prepovedano\"` ali `\"Dovoljeno\"`, ki ji sledi dvopičje, nato pa seznam sveže prepovedanih ali sveže dovoljenih dejavnosti. Posamezne dejavnosti so ločene z vejicami (in same ne vsebujejo vejic - med dejavnostmi ne boste našli `\"Pouk v šolah, srednjih šolah in fakultetah\"`, ker bi vmesna vejica povzročala nerešljive sitnosti).\n",
    "\n",
    "Žal moramo računati s tem, da lahko Janez v kakem trenutku prepove tudi, kar je v tem trenutku itak že prepovedano, ali dovoli kaj, kar je že dovoljeno. Vem, da to zaplete nalogo, a takšna je pač realnost.\n",
    "\n",
    "Napiši funkcijo `je_dovoljeno(odredbe, dejavnost)`, ki prejme takšen seznam odredb in ime neke dejavnosti, na primer `\"javni promet\"`. Funkcija mora vrniti `True`, če je dejavnost v tem trenutku dovoljena in `False`, če ni.\n",
    "\n",
    "Napiši funkcijo `najnevarnejse(odredbe)`, ki vrne ime dejavnosti, ki je bila največkrat prepovedana. Kot prepoved štejemo tudi prepoved, izrečeno takrat, ko je dejavnost sicer že itak prepovedana. Če je enakokrat prepovedanih več dejavnosti, naj vrne poljubno izmed njih. V gornjem primeru so to fakultete, ki se na seznamu prepovedanih reči znajdejo trikrat.\n",
    "\n",
    "Napiši funkcijo `tezki_casi(odredbe)`, ki pove, koliko je bilo največ hkrati prepovedanih aktivnosti. V gornjem primeru vrne `7`, saj je bilo v nekem trenutku (točneje: predzadnjem koraku) hkrati prepovedanih sedem stvari.\n",
    "\n",
    "Mogoče se ti splača predtem napisati pomožno funkcijo, ki prejme posamično vrstico in vrne podatke, ki jih le-ta vsebuje, v primernejši obliki. Oblikuj in imenuj jo po lastni presoji, ali pa je ne piši. Kokr čš.\n",
    "\n",
    "---\n",
    "\n",
    "Disclaimer: avtor naloge nima nobenega posebnega odnosa ne do Janeza ne do Alenke, temveč podpira samo Ano, Berto, Cilko, Dani, Emo in Fanči, pa vse do Olge iz tretjega letnika.\n",
    "\n",
    "## Rešitev\n",
    "\n",
    "Najprej napišimo funkcijo `preberi(odredba)`, ki prejme odredbo (posamična vrstica iz seznama odredb, kot je gornji) in vrne \"smer\", ki bo `True`, če gre za dovoljenje in `False`, če za prepoved, ter seznam dejavnosti, na katere se nanaša odredba. Naloga takšne funkcije sicer ne zahteva, vendar nam bo prišla prav pri prav vseh funkcijah, ki jih bomo morali napisati."
   ]
  },
  {
   "cell_type": "code",
   "execution_count": 2,
   "metadata": {},
   "outputs": [],
   "source": [
    "def preberi(odredba):\n",
    "    smer, dejavnosti = odredba.split(\": \")\n",
    "    return smer == \"Dovoljeno\", dejavnosti.split(\", \")"
   ]
  },
  {
   "cell_type": "markdown",
   "metadata": {},
   "source": [
    "Vrstico najprej razdelimo glede na `\": \"`. Potem vrnemo dve reči: prva pove, ali je \"smer\" enaka `\"Dovoljeno\"`, druga pa bo seznam dejavnosti, ki jih dobimo tako, da vse, kar je bilo desno od dvopičja razdelimo glede na vejico.\n",
    "\n",
    "Na hitro preskusimo."
   ]
  },
  {
   "cell_type": "code",
   "execution_count": 3,
   "metadata": {},
   "outputs": [
    {
     "data": {
      "text/plain": [
       "(False, ['prehajanje med regijami', 'nočni sprehodi', 'javni promet'])"
      ]
     },
     "execution_count": 3,
     "metadata": {},
     "output_type": "execute_result"
    }
   ],
   "source": [
    "preberi(\"Prepovedano: prehajanje med regijami, nočni sprehodi, javni promet\")"
   ]
  },
  {
   "cell_type": "code",
   "execution_count": 4,
   "metadata": {},
   "outputs": [
    {
     "data": {
      "text/plain": [
       "(True, ['nočni sprehodi', 'tek na prostem'])"
      ]
     },
     "execution_count": 4,
     "metadata": {},
     "output_type": "execute_result"
    }
   ],
   "source": [
    "preberi(\"Dovoljeno: nočni sprehodi, tek na prostem\")"
   ]
  },
  {
   "cell_type": "markdown",
   "metadata": {},
   "source": [
    "### `je_dovoljeno`\n",
    "\n",
    "Tale funkcija ni nič posebnega. Ne zahteva slovarjev, še sezname komaj.\n",
    "\n",
    "Vsaka dejavnost je na začetku dovoljena. Nato gremo prek vseh odredb. Če se dejavnost pojavi med tistimi, na katere se nanaša odredba, si zapomnimo \"smer\" - prepoved ali dovoljenje. Na koncu vrnemo, kar je bilo pač zadnje."
   ]
  },
  {
   "cell_type": "code",
   "execution_count": 5,
   "metadata": {},
   "outputs": [],
   "source": [
    "def je_dovoljeno(odredbe, dejavnost):\n",
    "    dovoljeno = True\n",
    "    for odredba in odredbe:\n",
    "        smer, dejavnosti = preberi(odredba)\n",
    "        if dejavnost in dejavnosti:\n",
    "            dovoljeno = smer\n",
    "    return dovoljeno"
   ]
  },
  {
   "cell_type": "code",
   "execution_count": 6,
   "metadata": {},
   "outputs": [
    {
     "data": {
      "text/plain": [
       "False"
      ]
     },
     "execution_count": 6,
     "metadata": {},
     "output_type": "execute_result"
    }
   ],
   "source": [
    "je_dovoljeno(odredbe, \"nočni sprehodi\")"
   ]
  },
  {
   "cell_type": "code",
   "execution_count": 7,
   "metadata": {},
   "outputs": [
    {
     "data": {
      "text/plain": [
       "True"
      ]
     },
     "execution_count": 7,
     "metadata": {},
     "output_type": "execute_result"
    }
   ],
   "source": [
    "je_dovoljeno(odredbe, \"tek na prostem\")"
   ]
  },
  {
   "cell_type": "code",
   "execution_count": 8,
   "metadata": {},
   "outputs": [
    {
     "data": {
      "text/plain": [
       "True"
      ]
     },
     "execution_count": 8,
     "metadata": {},
     "output_type": "execute_result"
    }
   ],
   "source": [
    "je_dovoljeno(odredbe, \"marihuana\")"
   ]
  },
  {
   "cell_type": "markdown",
   "metadata": {},
   "source": [
    "### `najnevarnejse`\n",
    "\n",
    "Tu pa bo brez slovarjev težko. Šteti moramo, kolikokrat se pojavi kakšna dejavnost. Za to bomo uporabili slovar, katerega ključi so dejavnosti, pripadajoče vrednosti pa število omemb te dejavnosti. Potrebovali bomo dve zanki - eno čez odredbe in znotraj te čez dejavnosti. Za vsako dejavnost povečamo števec v slovarju.\n",
    "\n",
    "Za začetek dobljeni slovar samo izpišimo."
   ]
  },
  {
   "cell_type": "code",
   "execution_count": 9,
   "metadata": {},
   "outputs": [],
   "source": [
    "def najnevarnejse(odredbe):\n",
    "    pojavitve = {}\n",
    "    for odredba in odredbe:\n",
    "        _, dejavnosti = preberi(odredba)\n",
    "        for dejavnost in dejavnosti:\n",
    "            if dejavnost in pojavitve:\n",
    "                pojavitve[dejavnost] += 1\n",
    "            else:\n",
    "                pojavitve[dejavnost] = 1\n",
    "                \n",
    "    print(pojavitve)"
   ]
  },
  {
   "cell_type": "code",
   "execution_count": 10,
   "metadata": {},
   "outputs": [
    {
     "name": "stdout",
     "output_type": "stream",
     "text": [
      "{'gostilne': 1, 'fakultete': 5, 'prehajanje med regijami': 1, 'nočni sprehodi': 3, 'javni promet': 2, 'tek na prostem': 4, 'frizer': 2, 'zobozdravnik': 1}\n"
     ]
    }
   ],
   "source": [
    "najnevarnejse(odredbe)"
   ]
  },
  {
   "cell_type": "markdown",
   "metadata": {},
   "source": [
    "Takšno preštevanje je preprostejše, če uporabimo `defaultdict`. Kot argument mu podamo `int`, tako da bodo novoizmišljene vrednosti enake `0`."
   ]
  },
  {
   "cell_type": "code",
   "execution_count": 11,
   "metadata": {},
   "outputs": [],
   "source": [
    "from collections import defaultdict\n",
    "\n",
    "def najnevarnejse(odredbe):\n",
    "    pojavitve = defaultdict(int)\n",
    "    for odredba in odredbe:\n",
    "        _, dejavnosti = preberi(odredba)\n",
    "        for dejavnost in dejavnosti:\n",
    "            pojavitve[dejavnost] += 1\n",
    "                \n",
    "    print(pojavitve)"
   ]
  },
  {
   "cell_type": "code",
   "execution_count": 12,
   "metadata": {},
   "outputs": [
    {
     "name": "stdout",
     "output_type": "stream",
     "text": [
      "defaultdict(<class 'int'>, {'gostilne': 1, 'fakultete': 5, 'prehajanje med regijami': 1, 'nočni sprehodi': 3, 'javni promet': 2, 'tek na prostem': 4, 'frizer': 2, 'zobozdravnik': 1})\n"
     ]
    }
   ],
   "source": [
    "najnevarnejse(odredbe)"
   ]
  },
  {
   "cell_type": "markdown",
   "metadata": {},
   "source": [
    "Zdaj pa moramo v slovarju poiskati ključ, ki pripada največji vrednosti. Recimo tako:"
   ]
  },
  {
   "cell_type": "code",
   "execution_count": 13,
   "metadata": {},
   "outputs": [],
   "source": [
    "from collections import defaultdict\n",
    "\n",
    "def najnevarnejse(odredbe):\n",
    "    pojavitve = defaultdict(int)\n",
    "    for odredba in odredbe:\n",
    "        _, dejavnosti = preberi(odredba)\n",
    "        for dejavnost in dejavnosti:\n",
    "            pojavitve[dejavnost] += 1\n",
    "            \n",
    "    naj_dejavnost = None\n",
    "    for dejavnost, pojavitev in pojavitve.items():\n",
    "        if naj_dejavnost == None or pojavitev > pojavitve[naj_dejavnost]:\n",
    "            naj_dejavnost = dejavnost\n",
    "    return naj_dejavnost"
   ]
  },
  {
   "cell_type": "code",
   "execution_count": 14,
   "metadata": {},
   "outputs": [
    {
     "data": {
      "text/plain": [
       "'fakultete'"
      ]
     },
     "execution_count": 14,
     "metadata": {},
     "output_type": "execute_result"
    }
   ],
   "source": [
    "najnevarnejse(odredbe)"
   ]
  },
  {
   "cell_type": "markdown",
   "metadata": {},
   "source": [
    "V zanki gremo prek vseh parov `(dejavnost, pojavitev)` in če je število pojavitev večje od število pojavitev tiste dejavnosti, pri kateri jih je bilo doslej največ (`naj_dejavnost`), si zapomnimo to dejavnost. V začetku pa je `naj_dejavnost` enaka `None`; v prvem krogu zanke jo zamenjamo z naslednjo.\n",
    "\n",
    "Druga pogosta rešitev (sam bom včasih napisal eno ali drugo) je ta:"
   ]
  },
  {
   "cell_type": "code",
   "execution_count": 15,
   "metadata": {},
   "outputs": [],
   "source": [
    "from collections import defaultdict\n",
    "\n",
    "def najnevarnejse(odredbe):\n",
    "    pojavitve = defaultdict(int)\n",
    "    for odredba in odredbe:\n",
    "        _, dejavnosti = preberi(odredba)\n",
    "        for dejavnost in dejavnosti:\n",
    "            pojavitve[dejavnost] += 1\n",
    "            \n",
    "    naj_dejavnost = None\n",
    "    naj_pojavitev = -1\n",
    "    for dejavnost, pojavitev in pojavitve.items():\n",
    "        if pojavitev > naj_pojavitev:\n",
    "            naj_dejavnost = dejavnost\n",
    "            naj_pojavitev = pojavitev\n",
    "    return naj_dejavnost"
   ]
  },
  {
   "cell_type": "code",
   "execution_count": 16,
   "metadata": {},
   "outputs": [
    {
     "data": {
      "text/plain": [
       "'fakultete'"
      ]
     },
     "execution_count": 16,
     "metadata": {},
     "output_type": "execute_result"
    }
   ],
   "source": [
    "najnevarnejse(odredbe)"
   ]
  },
  {
   "cell_type": "markdown",
   "metadata": {},
   "source": [
    "Oboje je v redu.\n",
    "\n",
    "Študenti pa pogosto oddajo nekaj takšnega:"
   ]
  },
  {
   "cell_type": "code",
   "execution_count": 17,
   "metadata": {},
   "outputs": [],
   "source": [
    "from collections import defaultdict\n",
    "\n",
    "def najnevarnejse(odredbe):\n",
    "    pojavitve = defaultdict(int)\n",
    "    for odredba in odredbe:\n",
    "        _, dejavnosti = preberi(odredba)\n",
    "        for dejavnost in dejavnosti:\n",
    "            pojavitve[dejavnost] += 1\n",
    "            \n",
    "    return max(pojavitve, key=pojavitve.get)"
   ]
  },
  {
   "cell_type": "code",
   "execution_count": 18,
   "metadata": {},
   "outputs": [
    {
     "data": {
      "text/plain": [
       "'fakultete'"
      ]
     },
     "execution_count": 18,
     "metadata": {},
     "output_type": "execute_result"
    }
   ],
   "source": [
    "najnevarnejse(odredbe)"
   ]
  },
  {
   "cell_type": "markdown",
   "metadata": {},
   "source": [
    "Študent, ki odda takšno rešitev, je dokazal, da zna uporabljati Google in je odkril Stack Overflow. Lepo. Vendar le, če študent potem tudi razume, kaj je napisal. Zakaj deluje tale `max` bomo razumeli, ko se bomo učili o vezanih metodah. Namig: pri Programiranju 1 se to ne bo zgodilo. Če prav vem, tudi nikoli kasneje ne.\n",
    "\n",
    "Z Googlanjem za rešitve ni nič narobe, če potem razumete, kaj pišete.\n",
    "\n",
    "Nalogo se da rešiti tudi tako."
   ]
  },
  {
   "cell_type": "code",
   "execution_count": 19,
   "metadata": {},
   "outputs": [],
   "source": [
    "from collections import Counter\n",
    "\n",
    "def najnevarnejse(odredbe):\n",
    "    return Counter(d for odredba in odredbe for d in preberi(odredba)[1]).most_common(1)[0][0]"
   ]
  },
  {
   "cell_type": "code",
   "execution_count": 20,
   "metadata": {},
   "outputs": [
    {
     "data": {
      "text/plain": [
       "'fakultete'"
      ]
     },
     "execution_count": 20,
     "metadata": {},
     "output_type": "execute_result"
    }
   ],
   "source": [
    "najnevarnejse(odredbe)"
   ]
  },
  {
   "cell_type": "markdown",
   "metadata": {},
   "source": [
    "Poučno? Ne."
   ]
  },
  {
   "cell_type": "markdown",
   "metadata": {},
   "source": [
    "### `tezki_casi`\n",
    "\n",
    "To nalogo je mogoče rešiti na precej različnih načinov. V vseh je potrebno iti prek odredb, beležiti, kaj je v vsakem določenem trenutku prepovedano in si zapomniti največje število hkrati prepovedanih dejavnosti. Vprašanje je, v kakšni obliki shranjevati seznam prepovedanih reči.\n",
    "\n",
    "Za začetek - lahko je kar seznam."
   ]
  },
  {
   "cell_type": "code",
   "execution_count": 21,
   "metadata": {},
   "outputs": [],
   "source": [
    "def tezki_casi(odredbe):\n",
    "    prepovedano = []\n",
    "    naj_prepovedanih = 0\n",
    "    for odredba in odredbe:\n",
    "        smer, dejavnosti = preberi(odredba)\n",
    "        for dejavnost in dejavnosti:\n",
    "            if smer:\n",
    "                if dejavnost in prepovedano:\n",
    "                    prepovedano.remove(dejavnost)\n",
    "            else:\n",
    "                if dejavnost not in prepovedano:\n",
    "                    prepovedano.append(dejavnost)\n",
    "                    \n",
    "        if len(prepovedano) > naj_prepovedanih:\n",
    "            naj_prepovedanih = len(prepovedano)\n",
    "    return naj_prepovedanih"
   ]
  },
  {
   "cell_type": "code",
   "execution_count": 22,
   "metadata": {},
   "outputs": [
    {
     "data": {
      "text/plain": [
       "7"
      ]
     },
     "execution_count": 22,
     "metadata": {},
     "output_type": "execute_result"
    }
   ],
   "source": [
    "tezki_casi(odredbe)"
   ]
  },
  {
   "cell_type": "markdown",
   "metadata": {},
   "source": [
    "V seznamu `prepovedno` bo vse, kar je prepovedano in v `naj_prepovedanih` bo največje število hkrati prepovedanih doslej.\n",
    "\n",
    "Zanka gre, kot vedno, čez odredbe. Iz vsake preberemo smer in dejavnosti. Nato gremo prek vseh dejavnosti. Če gre za odredbo o dovoljenjih, jo odstranimo iz seznama prepovedanih (a le, če je v njem, torej, če je res prepovedana!). Če gre za prepovedi, jo dodano v seznam (a le, če še ni v njem).\n",
    "\n",
    "Na koncu, torej po tem, ko smo dodali ali odvzeli vse prepovedane ali dovoljene dejavnosti, pogledamo, ali je seznam daljši od najdaljšega doslej videnega.\n",
    "\n",
    "Namesto seznama prepovedanih dejavnosti bi lahko imeli slovar. Ključi bi bili dejavnosti, vrednosti pa preprosto `None`. Ker nas v resnici ne zanimajo."
   ]
  },
  {
   "cell_type": "code",
   "execution_count": 23,
   "metadata": {},
   "outputs": [],
   "source": [
    "def tezki_casi(odredbe):\n",
    "    prepovedano = {}\n",
    "    naj_prepovedanih = 0\n",
    "    for odredba in odredbe:\n",
    "        smer, dejavnosti = preberi(odredba)\n",
    "        for dejavnost in dejavnosti:\n",
    "            if smer:\n",
    "                if dejavnost in prepovedano:\n",
    "                    del prepovedano[dejavnost]\n",
    "            else:\n",
    "                prepovedano[dejavnost] = None\n",
    "                    \n",
    "        if len(prepovedano) > naj_prepovedanih:\n",
    "            naj_prepovedanih = len(prepovedano)\n",
    "    return naj_prepovedanih"
   ]
  },
  {
   "cell_type": "code",
   "execution_count": 24,
   "metadata": {},
   "outputs": [
    {
     "data": {
      "text/plain": [
       "7"
      ]
     },
     "execution_count": 24,
     "metadata": {},
     "output_type": "execute_result"
    }
   ],
   "source": [
    "tezki_casi(odredbe)"
   ]
  },
  {
   "cell_type": "markdown",
   "metadata": {},
   "source": [
    "Odstranjevanje je podobno prejšnjemu, dodajanje ima en pogoj manj. Smo s tem res kaj pridobili?\n",
    "\n",
    "Smo: če imamo seznam, morata operator `in` in metoda `remove` iskati dejavnost. Daljši ko je, počasnejši sta. Če vzamemo slovar, pa `in` in `del` vzameta čas, neodvisen od dolžine seznama. Pri tako kratkih seznamih prepovedi (stokajte, koliko hočete: za Python bi bilo celo sto prepovedi malenkst :), se to seveda ne pozna.\n",
    "\n",
    "Če se komu zdi hecno imeti slovar, katerega vrednosti so vedno `None`: v resnici smo jih uporabljali do nekega davnega Pythona, v katerem so končno dodali nov podatkovni tip: množice. Te se bomo učili ravno danes."
   ]
  },
  {
   "cell_type": "code",
   "execution_count": 25,
   "metadata": {},
   "outputs": [],
   "source": [
    "def tezki_casi(odredbe):\n",
    "    prepovedano = set()\n",
    "    naj_prepovedanih = 0\n",
    "    for odredba in odredbe:\n",
    "        smer, dejavnosti = preberi(odredba)\n",
    "        for dejavnost in dejavnosti:\n",
    "            if smer:\n",
    "                prepovedano.discard(dejavnost)\n",
    "            else:\n",
    "                prepovedano.add(dejavnost)\n",
    "                    \n",
    "        if len(prepovedano) > naj_prepovedanih:\n",
    "            naj_prepovedanih = len(prepovedano)\n",
    "    return naj_prepovedanih"
   ]
  },
  {
   "cell_type": "code",
   "execution_count": 26,
   "metadata": {},
   "outputs": [
    {
     "data": {
      "text/plain": [
       "7"
      ]
     },
     "execution_count": 26,
     "metadata": {},
     "output_type": "execute_result"
    }
   ],
   "source": [
    "tezki_casi(odredbe)"
   ]
  },
  {
   "cell_type": "markdown",
   "metadata": {},
   "source": [
    "Tako se to naredi zares."
   ]
  }
 ],
 "metadata": {
  "kernelspec": {
   "display_name": "Python 3",
   "language": "python",
   "name": "python3"
  },
  "language_info": {
   "codemirror_mode": {
    "name": "ipython",
    "version": 3
   },
   "file_extension": ".py",
   "mimetype": "text/x-python",
   "name": "python",
   "nbconvert_exporter": "python",
   "pygments_lexer": "ipython3",
   "version": "3.7.4"
  }
 },
 "nbformat": 4,
 "nbformat_minor": 4
}
