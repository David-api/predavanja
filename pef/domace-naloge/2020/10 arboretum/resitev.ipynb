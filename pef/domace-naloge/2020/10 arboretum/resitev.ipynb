{
 "cells": [
  {
   "cell_type": "markdown",
   "metadata": {},
   "source": [
    "## Arboretum\n",
    "\n",
    "V (skoraj) vseh funkcijah bomo delali s seznami koordinat dreves v takšni obliki:\n",
    "\n",
    "```python\n",
    "[('smreka', 4, 6), ('bukev', 1, 5), ('bukev', 8, 5), ('javor', -1, 4),\n",
    " ('bukev', 3, 4), ('javor', 7, 3), ('bukev', -2, 2), ('bukev', 2, 2),\n",
    " ('javor', 4, 2), ('smreka', -3, -1), ('bukev', 3, -1), ('javor', -1, -2),\n",
    " ('javor', 4, -3)]\n",
    "```\n",
    "\n",
    "Za vsako oceno je potrebno napisati tudi vse funkcije, zahtevane za nižjo oceno.\n",
    "\n",
    "\n",
    "### Ocena 6\n",
    "\n",
    "Napiši naslednje funkcije.\n",
    "\n",
    "- `razdalja(x1, y1, x2, y2)` prejme koordinati dveh točk in vrne (Evklidsko) razdaljo med njima.\n",
    "- `najblizji(x, y, drevesa)` prejme koordinati točke in seznam dreves; vrne vrsto najbližjega drevesa, npr. `\"javor\"`.\n",
    "- `najblizji_enak(x, y, vrsta, drevesa)` prejme koordinati točke in vrsto drevesa (npr. `\"bukev\"`) ter seznam dreves. Vrniti mora koordinato najbližjega drevesa te vrste (npr. najbližje bukve, če iščemo bukve). Če je enako oddaljenih več, sme vrniti koordinati kateregakoli od njih.\n",
    "- `vse_vrste(drevesa)` vrne množico z imeni vseh vrst dreves, ki nastopajo v seznamu, na primer `{\"oreh\", \"hrast\", \"bukev\"}`.\n",
    "- `koordinate_tipov(vrsta, drevesa)` prejme ime drevesne vrste (npr. `\"smreka\"`) in seznam dreves, vrniti pa mora množico koordinat dreves te vrste (npr. smreke).\n",
    "- `najblizji_po_vrstah(x, y, drevesa)` koordinate neke poljubne točke in seznam dreves; vrniti mora slovar, katerega ključi so vse drevesne vrste v seznamu, pripadajoča vrednost pa koordinati tistega drevesa te vrste, ki je najbližji koordinatam, podanim kot argument. Če je enako oddaljenih več, sme spet vrniti koordinate kateregakoli od njih. Funkcija mora biti napisana tako, da hitro deluje tudi na dolgih seznamih z veliko različnimi vrstami.\n",
    "- `najpogostejsa_vrsta(drevesa)` vrne ime najpogostejše drevesne vrste v podanem seznamu dreves. Če je enako pogostih vrst več, naj vrne poljubno od njih.\n",
    "\n",
    "#### Rešitev\n",
    "\n",
    "Pri razdalji nimamo kaj: samo formula. Funkciji `najblizji` in `najblizji_enak` pa sta tudi nekaj, kar meljemo že od začetka - iskanje največjega elementa po določenem kriteriju."
   ]
  },
  {
   "cell_type": "code",
   "execution_count": null,
   "metadata": {},
   "outputs": [],
   "source": [
    "def razdalja(x0, y0, x1, y1):\n",
    "    return math.sqrt((x0 - x1) ** 2 + (y0 - y1) ** 2)\n",
    "\n",
    "\n",
    "def najblizji(x, y, drevesa):\n",
    "    naj_drevo = None\n",
    "    for drevo, x0, y0 in drevesa:\n",
    "        razd = razdalja(x, y, x0, y0)\n",
    "        if naj_drevo == None or razd < naj_razd:\n",
    "            naj_razd, naj_drevo = razd, drevo\n",
    "    return naj_drevo\n",
    "\n",
    "\n",
    "def najblizji_enak(x, y, tip, drevesa):\n",
    "    naj_koord = None\n",
    "    for drevo, x0, y0 in drevesa:\n",
    "        razd = razdalja(x, y, x0, y0)\n",
    "        if tip == drevo and (naj_koord == None or razd < naj_razd):\n",
    "            naj_razd, naj_koord = razd, (x0, y0)\n",
    "    return naj_koord"
   ]
  },
  {
   "cell_type": "markdown",
   "metadata": {},
   "source": [
    "Preostale tri vrste so preprosta ponovitev zank in pogojev ter množic in slovarjev. Predvsem pa lepo vodijo v izpeljane slovarje in množice pri nalogi za oceno 8."
   ]
  },
  {
   "cell_type": "code",
   "execution_count": 1,
   "metadata": {},
   "outputs": [],
   "source": [
    "def vse_vrste(drevesa):\n",
    "    vrste = set()\n",
    "    for drevo, x, y in drevesa:\n",
    "        vrste.add(drevo)\n",
    "    return vrste\n",
    "\n",
    "def koordinate_tipov(tip, drevesa):\n",
    "    koordinate = set()\n",
    "    for drevo, x, y in drevesa:\n",
    "        if drevo == tip:\n",
    "            koordinate.add((x, y))\n",
    "    return koordinate\n",
    "\n",
    "def najblizji_po_vrstah(x, y, drevesa):\n",
    "    najblizji = {}\n",
    "    for vrsta in vse_vrste(drevesa):\n",
    "        najblizji[vrsta] = najblizji_enak(x, y, vrsta, drevesa)\n",
    "    return najblizji"
   ]
  },
  {
   "cell_type": "markdown",
   "metadata": {},
   "source": [
    "Pri `koordinate_tipov` je potencialen kamen spotike dodajanje v množico: dodati želimo par `(x, y)`, torej ne moremo pisati `add(x, y)`, kar bi bilo videti, kot da dodajamo dve števili, namreč `x` in `y` in seveda ne deluje, temveč `add((x, y))`.\n",
    "\n",
    "V zadnji funkciji smo uporabili dve izmed prejšnjih funkcij: funkcijo, ki vrne vse drevesne vrste in funkcijo, ki za vsako od njih poišče najbližji primerek.\n",
    "\n",
    "Tole pravzaprav kar takoj prevedimo v rešitve v eni vrstici, saj so očitne."
   ]
  },
  {
   "cell_type": "code",
   "execution_count": 2,
   "metadata": {},
   "outputs": [],
   "source": [
    "def vse_vrste(drevesa):\n",
    "    return {drevo for drevo, x, y in drevesa}\n",
    "\n",
    "def koordinate_tipov(tip, drevesa):\n",
    "    return {(x, y) for drevo, x, y in drevesa if drevo == tip}\n",
    "\n",
    "def najblizji_po_vrstah(x, y, drevesa):\n",
    "    return {vrsta: najblizji_enak(x, y, vrsta, drevesa) for vrsta in vse_vrste(drevesa)}"
   ]
  },
  {
   "cell_type": "markdown",
   "metadata": {},
   "source": [
    "### Ocena 7\n",
    "\n",
    "Podatke o drevesih pravzaprav dobimo v datoteki. Videti je tako.\n",
    "\n",
    "```\n",
    "smreka: 4, 6\n",
    "bukev: 1, 5; 3, 4\n",
    "javor: -1, 4; 7, 3; -1, -2; 4, -3\n",
    "bukev: 8, 5; 2, 2; -2, 2\n",
    "javor: 4, 2\n",
    "smreka: -3, -1\n",
    "bukev: 3, -1\n",
    "```\n",
    "\n",
    "Vsaka vrstica se očitno začne z imenom drevesne vrrste, sledi dvopičje in potem koordinate enega ali več dreves te vrste. Drevesa so ločena s podpičji, koordinati z vejico, decimalk ni.\n",
    "\n",
    "Napiši funkcijo `preberi(ime_datoteke)`, ki prejme ime datoteke s takšno vsebino, in vrne seznam, podoben gornjemu. Vrstni red elementov je lahko poljuben.\n",
    "\n",
    "#### Rešitev\n",
    "\n",
    "Rešitev je samo eno dolgo zaporedje `split`-ov. Vsako vrstico razdelimo glede na `:` da dobimo drevesno vrsto in seznam koordinat. Slednjega razbijemo glede na `;`, da dobimo koordinate posameznih dreves. Koordinate razdelimo na x in y z razbitjem po `,`."
   ]
  },
  {
   "cell_type": "code",
   "execution_count": null,
   "metadata": {},
   "outputs": [],
   "source": [
    "def preberi(ime_datoteke):\n",
    "    drevesa = []\n",
    "    for vrstica in open(ime_datoteke):\n",
    "        vrsta, koordinate = vrstica.split(\":\")\n",
    "        for koordinati in koordinate.split(\";\"):\n",
    "            x, y = koordinati.split(\",\")\n",
    "            drevesa.append((vrsta, float(x), float(y)))\n",
    "    return drevesa"
   ]
  },
  {
   "cell_type": "markdown",
   "metadata": {},
   "source": [
    "(Upam, da ne prehuda) vaja iz programiranja je tule, kje je zanka in kje ne. Z zanko gremo po vrsticah datoteke. V razbijanju po `:` ni zanke, saj tu vedno dobimo dve stvari: ime drevesne vrste in koordinate. Razbijanje po `;` da spisek koordinat, ta je lahko ena, lahko pa jih je sto (ali karkoli vmes ali čez), torej spet zanka. Končno, ko razbijamo po `,`, dobimo dve koordinati, torej to spet le shranimo v dve spremenljivki, brez zanke."
   ]
  },
  {
   "cell_type": "markdown",
   "metadata": {},
   "source": [
    "### Ocena 8\n",
    "\n",
    "Funkcije `vse_vrste`, `koordinate_tipov` in `najblizji_po_vrstah` naj bodo napisane v eni vrstici.\n",
    "\n",
    "#### Rešitev\n",
    "\n",
    "Glej zgoraj.\n",
    "\n",
    "### Ocena 9\n",
    "\n",
    "Napiši funkcije\n",
    "\n",
    "- `dolzina_poti(x, y, vrste, drevesa)`, ki prejme neke začetne koordinate in seznam vrst dreves, ki bi jih radi obiskali, na primer `[\"bukev\", \"javor\", \"bukev\", \"smreka\"]`, ter, kot vedno, seznam dreves. Funkcija mora izračunati dolžino poti od začetnih koordinat do (če sledimo gornjemu primeru) najbližje bukve, potem do javorja, ki je najbližji tej bukvi, potem do bukve, ki je najbližja temu javorju (in morda ni ista kot prejšnja bukev!) in potem do smreke, ki je najbližja tej bukvi. Če v katerem izmed korakov obstajata več enako oddaljenih najbližjih dreves, lahko gre k poljubnemu od njih.\n",
    "\n",
    "- `najblizji_par_enakih(drevesa)` vrne razdaljo med najbližjim parom dreves iste vrste.\n",
    "\n",
    "- `najmanjsi_krog(x, y, drevesa)` prejme koordinati in seznam dreves. Vrniti mora polmer najmanjšega kroga s središčem v teh koordinatah, ki vsebuje vse različne drevesne vrste.\n",
    "\n",
    "#### Rešitev\n",
    "\n",
    "Za `dolzina_poti` potrebujemo spremenljivko, v katero seštevamo dolžino. V vsakem koraku poiščemo drevo, ki je najbližje danim koordinatam, prištejemo razdaljo k dolžini in si zapomnimo nove koordinate."
   ]
  },
  {
   "cell_type": "code",
   "execution_count": null,
   "metadata": {},
   "outputs": [],
   "source": [
    "def dolzina_poti(x, y, vrstni_red, drevesa):\n",
    "    skupno = 0\n",
    "    for drevo in vrstni_red:\n",
    "        x0, y0 = najblizji_enak(x, y, drevo, drevesa)\n",
    "        skupno += razdalja(x, y, x0, y0)\n",
    "        x, y = x0, y0\n",
    "    return skupno"
   ]
  },
  {
   "cell_type": "markdown",
   "metadata": {},
   "source": [
    "Za `najblizji_par_enakih` potrebujemo gnezdeno zanko. Če imamo opravka z dvema istovrstnima drevesoma, izračunamo razdaljo med njima; če je ta večja od 0 (torej: ne gre za isto drevo), a manjša od najmanjše (doslej), je to nova najmanjša razdalja (doslej)."
   ]
  },
  {
   "cell_type": "code",
   "execution_count": null,
   "metadata": {},
   "outputs": [],
   "source": [
    "def najblizji_par_enakih(drevesa):\n",
    "    naj_razd = None\n",
    "    for drevo1, x1, y1 in drevesa:\n",
    "        for drevo2, x2, y2 in drevesa:\n",
    "            if drevo1 != drevo2:\n",
    "                continue\n",
    "            razd = razdalja(x1, y1, x2, y2)\n",
    "            if razd > 0 and (naj_razd == None or razd < naj_razd):\n",
    "                naj_razd = razd\n",
    "    return naj_razd"
   ]
  },
  {
   "cell_type": "markdown",
   "metadata": {},
   "source": [
    "Za vsako vrsto moramo ugotoviti, katero je najbližje drevo te vrste. Krog mora pokriti vsa ta drevesa, torej mora biti njegov polmer enak največji izmed teh razdalij.\n",
    "\n",
    "To ugotovivši lahko nalogo uženemo kar v eni vrstici. Pokličemo `najblizji_po_vrstah(x, y, drevesa)`; zanimajo nas le koordinate, torej pokličemo metodi `values()`, se pravi `najblizji_po_vrstah(x, y, drevesa).values()`. Tako dobimo koordinate vseh najbližjih dreves posameznih vrst. Izračunamo razdalje do njih: `razdalja(x, y, x1, y1) for x1, y1 in najblizji_po_vrstah(x, y, drevesa).values()`. Funkcija mora vrniti največjo med njimi."
   ]
  },
  {
   "cell_type": "code",
   "execution_count": null,
   "metadata": {},
   "outputs": [],
   "source": [
    "def najmanjsi_krog(x, y, drevesa):\n",
    "    return max(razdalja(x, y, x1, y1) for x1, y1 in najblizji_po_vrstah(x, y, drevesa).values())"
   ]
  },
  {
   "cell_type": "markdown",
   "metadata": {},
   "source": [
    "### Ocena 10\n",
    "\n",
    "Za oceno 10 ni posebnih nalog. Ocene 10 bodo dobili študenti, ki bodo zelo zgledno rešili vse naloge."
   ]
  }
 ],
 "metadata": {
  "kernelspec": {
   "display_name": "Python 3",
   "language": "python",
   "name": "python3"
  },
  "language_info": {
   "codemirror_mode": {
    "name": "ipython",
    "version": 3
   },
   "file_extension": ".py",
   "mimetype": "text/x-python",
   "name": "python",
   "nbconvert_exporter": "python",
   "pygments_lexer": "ipython3",
   "version": "3.7.4"
  }
 },
 "nbformat": 4,
 "nbformat_minor": 4
}
