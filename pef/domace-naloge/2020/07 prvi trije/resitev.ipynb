{
 "cells": [
  {
   "cell_type": "markdown",
   "metadata": {},
   "source": [
    "# Prvi trije\n",
    "\n",
    "Vse funkcije, ki jih je potrebno napisati, dobijo podatke o rodbini v globalnem slovarju `otroci`, katerega ključi so imena osebe, pripadajoče vrednosti pa seznami imen njihovih otrok. Rodbina je takšna kot na predavanjih (glej objavljeno drevo).\n",
    "\n",
    "## Obvezni del\n",
    "\n",
    "Napiši funkcijo `prvi(oseba)`, ki vrne tisto ime v rodbini podane osebe, ki je prvo po abecedi. **Funkcija mora prestati teste v doglednem času (največ nekaj sekund)! Pol minute ni ugleden čas.**\n",
    "\n",
    "```\n",
    ">>> prvi(\"Elizabeta\")\n",
    "\"Aleksander\"\n",
    ">>> prvi(\"Hans\")\n",
    "\"Erik\"\n",
    ">>> prvi(\"Adam\")\n",
    "\"Adam\"\n",
    "```\n",
    "\n",
    "Napiši funkcijo `prvi_trije(oseba)`, ki vrne seznam prvih treh imen po abecedi - spet znotraj rodbine podane osebe. Seznam naj bo urejen po abecedi.\n",
    "\n",
    "```\n",
    ">>> prvi_trije(\"Elizabeta\")\n",
    "[\"Aleksander\", \"Alenka\", \"Barbara\"]\n",
    ">>> prvi_trije(\"Herman\")\n",
    "[\"Herman\", \"Margareta\"]\n",
    ">>> prvi_trije(\"Adam\")\n",
    "[\"Adam\", \"Aleksander\", \"Alenka\"]\n",
    "```\n",
    "\n",
    "Pomoč: prve tri med potomci določene osebe velja iskati med prvimi tremi med potomci vsakega otroka.\n",
    "\n",
    "Še pomoči: prve tri elemente seznama najpreprosteje dobiš tako, da seznam urediš in nato vzameš prvi tri elemente.\n",
    "\n",
    "### Rešitev\n",
    "\n",
    "Vsaka oseba predpostavi, da je prva po abecedi ona. Nato vsakega otroka vpraša, kdo je prvi v njegovi rodbini. Če otrok pove za kakšno ime, ki je po abecedi prej, si to zapomnimo."
   ]
  },
  {
   "cell_type": "code",
   "execution_count": 1,
   "metadata": {},
   "outputs": [],
   "source": [
    "def prvi(oseba):\n",
    "    naj = oseba\n",
    "    for otrok in otroci[oseba]:\n",
    "        najotroka = prvi(otrok)\n",
    "        if najotroka < naj:\n",
    "            naj = najotroka\n",
    "    return naj"
   ]
  },
  {
   "cell_type": "markdown",
   "metadata": {},
   "source": [
    "Napaka, ki je ne smemo narediti, je:"
   ]
  },
  {
   "cell_type": "code",
   "execution_count": 2,
   "metadata": {},
   "outputs": [],
   "source": [
    "def prvi(oseba):\n",
    "    naj = oseba\n",
    "    for otrok in otroci[oseba]:\n",
    "        if najotroka < prvi(otrok):\n",
    "            naj = prvi(otrok)\n",
    "    return naj"
   ]
  },
  {
   "cell_type": "markdown",
   "metadata": {},
   "source": [
    "Kot smo povedali na predavanjih, se tu zgodi naslednje: če dvakrat vprašamo vsakega otroka, bo ta dvakrat vprašal vsakega od svojih, torej bodo vnuki vprašani štirikrat, pravnuki osemkrat, prapravnuki šestnajstkrat in tako naprej.\n",
    "\n",
    "Prve tri lahko dobimo takole:"
   ]
  },
  {
   "cell_type": "code",
   "execution_count": 3,
   "metadata": {},
   "outputs": [],
   "source": [
    "def prvi_trije(oseba):\n",
    "    naj = [oseba]\n",
    "    for otrok in otroci[oseba]:\n",
    "        naj += prvi_trije(otrok)\n",
    "    return sorted(naj)[:3]"
   ]
  },
  {
   "cell_type": "markdown",
   "metadata": {},
   "source": [
    "Vsaka oseba da v seznam svoje ime, nato pa še prve tri, ki jih predlaga vsak otrok. To uredi in vrne prve tri.\n",
    "\n",
    "### Nerešitev\n",
    "\n",
    "Nekaj študentov je odkrilo tole rešitev, ki mi žal ni prišla na misel že ob sestavljanju naloge (in tudi tedaj bi jo težko preprečil): uporabili so funkcijo `rodbina`, ki smo jo napisali na predavanjih. Ta jim da seznam vseh imen, potem pa le vrnejo prvo ali prva tri."
   ]
  },
  {
   "cell_type": "code",
   "execution_count": 1,
   "metadata": {},
   "outputs": [],
   "source": [
    "def rodbina(oseba):\n",
    "    clani = [oseba]\n",
    "    for otrok in otroci[oseba]:\n",
    "        clani += rodbina(otrok)\n",
    "    return clani\n",
    "\n",
    "def prvi(oseba):\n",
    "    return min(rodbina(oseba))\n",
    "\n",
    "def prvi_trije(oseba):\n",
    "    return sorted(rodbina(oseba))[:3]"
   ]
  },
  {
   "cell_type": "markdown",
   "metadata": {},
   "source": [
    "To deluje, zato sem bil to prisiljen to priznati kot pravilno rešitev. Žal se ob njej naučimo le, kako poklicati funkcij (kar, upam, že znamo) in kako dobiti najmanjše tri elemente seznama (kar tudi ni umetnost). O rekurziji pa se na ta način ne naučimo ničesar.\n",
    "\n",
    "## Dodatna naloga (neobvezno)\n",
    "\n",
    "Napiši funkcijo `prvi_trije_brez(oseba)`, ki je podobna kot `prvi_trije`, le da ne upošteva podane osebe.\n",
    "\n",
    "```\n",
    ">>> prvi_trije(\"Adam\")\n",
    "[\"Aleksander\", \"Alenka\", \"Barbara\"]\n",
    ">>> prvi_trije(\"Herman\")\n",
    "[\"Margareta\"]\n",
    ">>> prvi_trije(\"Margareta\")\n",
    "[]\n",
    "```\n",
    "\n",
    "Ta naloga najbrž ni težja od obvezne.\n",
    "\n",
    "### Rešitev\n",
    "\n",
    "Vsaka oseba da v seznam imena svojih otrok. Nato od otrok pridobi prve tri za vsakega od njih (in noben od njih ne bo dodal v seznam sebe!). Nato uredimo po abecedi in vrnemo prve tri."
   ]
  },
  {
   "cell_type": "code",
   "execution_count": 4,
   "metadata": {},
   "outputs": [],
   "source": [
    "def prvi_trije_brez(oseba):\n",
    "    naj = otroci[oseba][:]\n",
    "    for otrok in otroci[oseba]:\n",
    "        naj += prvi_trije_brez(otrok)\n",
    "    return sorted(naj)[:3]"
   ]
  },
  {
   "cell_type": "markdown",
   "metadata": {},
   "source": [
    "Nekaj študentov me je presenetilo z izvirno rešitvijo (morda se je je domislil le eden in se je razširila):"
   ]
  },
  {
   "cell_type": "code",
   "execution_count": 2,
   "metadata": {},
   "outputs": [],
   "source": [
    "def prvi_trije_brez(oseba):\n",
    "    naj = []\n",
    "    for otrok in otroci[oseba]:\n",
    "        naj += prvi_trije(otrok)\n",
    "    return sorted(naj)[:3]"
   ]
  },
  {
   "cell_type": "markdown",
   "metadata": {},
   "source": [
    "Prepisali so torej kar funkcijo `prvi_trije`, le da so spremenili `naj = [oseba]` v `naj = []`."
   ]
  },
  {
   "cell_type": "markdown",
   "metadata": {},
   "source": [
    "## Še bolj dodatna naloga\n",
    "\n",
    "Napiši gornje funkcije še brez uporabe rekurzije. Ta naloga pa je nekoliko težja.\n",
    "\n",
    "### Rešitev\n",
    "\n",
    "Najprej s finto, ki zahteva, da vemo, kako delujejo zanke v Pythonu: `pregledati` bo seznam vseh oseb, ki jih je potrebno pogledati. V začetku je to samo `oseba`. Nato gremo čez seznam vseh oseb, ki jih je potrebno pogledati. Za vsako od njih preverimo, če je po abecedi prej od prve doslej, nato pa zabeležimo, da je potrebno pregledati še njene otroke."
   ]
  },
  {
   "cell_type": "code",
   "execution_count": 5,
   "metadata": {},
   "outputs": [],
   "source": [
    "def prvi(oseba):\n",
    "    pregledati = [oseba]\n",
    "    naj = oseba\n",
    "    for oseba in pregledati:\n",
    "        if oseba < naj:\n",
    "            naj = oseba\n",
    "        pregledati += otroci[oseba]\n",
    "    return naj"
   ]
  },
  {
   "cell_type": "markdown",
   "metadata": {},
   "source": [
    "Tole ima dve težavi. Prva, manj pomembna, je, da zahteva, da Pythonov `for` obvlada sezname, ki se tekom zanke podaljšujejo. To pač deluje in v večini drugih jezikov bi bodisi delovalo bodisi bi bilo lahko dogoljufati. Drugi problem je, da je seznam vedno daljši in daljši in daljši, tako da se tudi testi izvajajo kar dolgo.\n",
    "\n",
    "Namesto zanke `for` lahko uporabimo `while`. Dokler obstaja kakšna oseba, ki jo je potrebno pogledati, jo vzamemo s seznama, pogledamo in dodamo njene otroke. S seznama jo vzamemo s `pop` - ta vrne in pobriše zadnji element."
   ]
  },
  {
   "cell_type": "code",
   "execution_count": 6,
   "metadata": {},
   "outputs": [],
   "source": [
    "def prvi(oseba):\n",
    "    pregledati = [oseba]\n",
    "    naj = oseba\n",
    "    while pregledati:\n",
    "        oseba = pregledati.pop()\n",
    "        if oseba < naj:\n",
    "            naj = oseba\n",
    "        pregledati += otroci[oseba]\n",
    "    return naj"
   ]
  },
  {
   "cell_type": "markdown",
   "metadata": {},
   "source": [
    "Če koga zanima kaj več, naj v zanko doda `print(oseba)` in opazuje vrstni red, v katerem se izpisujejo imena.\n",
    "\n",
    "Drugo funkcijo bi lahko spremenili tako, da bi osebe obravnavala v enakem vrstnem redu kot prva, vendar bi jo to nekoliko upočasnilo ... Več o tem v tretjem letniku.\n",
    "\n",
    "Funkcija `prvi_trije` je podobna."
   ]
  },
  {
   "cell_type": "code",
   "execution_count": 7,
   "metadata": {},
   "outputs": [],
   "source": [
    "def prvi_trije(oseba):\n",
    "    pogledati = [oseba]\n",
    "    naj = []\n",
    "    for oseba in pogledati:\n",
    "        pogledati += otroci[oseba]\n",
    "        naj = sorted(naj + [oseba])[:3]\n",
    "    return naj"
   ]
  },
  {
   "cell_type": "markdown",
   "metadata": {},
   "source": [
    "V vsakem koraku k `naj` dodamo `oseba`, uredimo in obdržimo prve tri. V tretjem letniku bomo izvedeli, kako to početi malo hitrejše.\n",
    "\n",
    "Da preskočimo trenutno osebo, je ne dodamo v `naj`, pač pa v `naj` dodajamo otroke."
   ]
  },
  {
   "cell_type": "code",
   "execution_count": 8,
   "metadata": {},
   "outputs": [],
   "source": [
    "def prvi_trije_brez(oseba):\n",
    "    pogledati = [oseba]\n",
    "    naj = []\n",
    "    for oseba in pogledati:\n",
    "        pogledati += otroci[oseba]\n",
    "        naj = sorted(naj + otroci[oseba])[:3]\n",
    "    return naj"
   ]
  }
 ],
 "metadata": {
  "kernelspec": {
   "display_name": "Python 3",
   "language": "python",
   "name": "python3"
  },
  "language_info": {
   "codemirror_mode": {
    "name": "ipython",
    "version": 3
   },
   "file_extension": ".py",
   "mimetype": "text/x-python",
   "name": "python",
   "nbconvert_exporter": "python",
   "pygments_lexer": "ipython3",
   "version": "3.7.4"
  }
 },
 "nbformat": 4,
 "nbformat_minor": 4
}
