{
 "cells": [
  {
   "cell_type": "markdown",
   "metadata": {},
   "source": [
    "V tej nalogi se bomo ukvarjali s podnapisi, kakršne dobimo v datotekah s končnico .srt. Gre za običajne besedilne datoteke v takšnem formatu::\n",
    "\n",
    "```\n",
    "1\n",
    "00:00:02,618 --> 00:00:05,019\n",
    "(Finch) We are being watched.\n",
    "\n",
    "2\n",
    "00:00:05,021 --> 00:00:07,288\n",
    "The government has a secret system,\n",
    "\n",
    "3\n",
    "00:00:07,290 --> 00:00:11,626\n",
    "a machine that spies on you\n",
    "every hour of every day.\n",
    "\n",
    "4\n",
    "00:00:11,628 --> 00:00:14,128\n",
    "I designed the machine\n",
    "to detect acts of terror,\n",
    "\n",
    "5\n",
    "00:00:14,130 --> 00:00:15,963\n",
    "but it sees everything,\n",
    "```\n",
    "\n",
    "- Podnapisi so oštevilčeni. Prva številka je vedno 1.\n",
    "- Sledita časa, ko se podnapis pokaže in izgine, vmes je niz \" --> \". Čas je vedno podan v obliki `hh:mm:ss,sss`, pri čemer imajo vsi časi vedno dve mesti (po potrebi z vodilno ničlo) in sekunde vedno tri decimalke, ločene z decimalno vejico (ne piko!). (Fun fact: format so si izmislili Francozi. Zato.)\n",
    "- Sledi poljubno število vrstic besedila, ki se prikaže; navadno ena ali dve, vendar moramo predpostaviti, da jih je lahko tudi več.\n",
    "- Sledi ena prazna vrstica.\n",
    "\n",
    "Končni rezultat domače naloge bo funkcija, ki zamakne vse čase za podani interval, recimo sekundo in pol. Do nje pridemo po korakih. Napiši torej naslednje funkcije.\n",
    "\n",
    "- `razberi_cas(s)` prejme čas kot niz oblike `hh:mm:ss,sss` in vrne čas v sekundah od začetka. Klic `13:12:33,125` vrne vrednost `13 * 3600 + 12 * 60 + 33.125` (kolikor že to je).\n",
    "\n",
    "- `razberi_interval(s)` prejme niz oblike `hh:mm:ss,sss --> hh:mm:ss,sss` in vrne terko z obema časoma v sekundah. Klic `razberi_interval(\"13:12:33,125 --> 13:12:37.574\")` vrne `(13 * 3600 + 12 * 60 + 33.125, 13 * 3600 + 12 * 60 + 37.574)`.\n",
    "\n",
    "- `zapisi_cas(t)` dela ravno obrano kot `razberi_cas`: prejme čas v sekundah in vrne ustrezni niz.\n",
    "\n",
    "    Nasvet: tega na predavanjih nisem pokazal, vendar: preveri, kaj dobiš z `f\"{3.14:06.2f}\"` ali z `f\"{42:05}`. To bo prišlo zelo prav.\n",
    "\n",
    "- `zapisi_interval(od, do)` dela ravno obratno kot `razberi_interval`: prejme dva časa in vrne interval v obliki niza.\n",
    "\n",
    "- `paketek(datoteka)` prejme odprto datoteko (ne imena datoteke, temveč objekt, ki že predstavlja datoteko!) in iz nje prebere naslednji podnapis (torej vse do naslednje prazne vrstice). Funkcija mora vrniti seznam vrstic.\n",
    "\n",
    "    - Če je gornje besedilo shranjeno v datoteki s imenom podnapis.srt, in je bila datoteka odprta z `f = open(\"podnapis.srt\")`, mora klic `paketek(f)` vrniti `[\"1\", \"00:00:02,618 --> 00:00:05,019\", \"(Finch) We are being watched.\"]`.\n",
    "    - Če nato ponovno pokličemo `paketek(f)` funkcija vrne `[\"2\", \"00:00:05,021 --> 00:00:07,288\", \"The government has a secret system,\"]`.\n",
    "    - Če pokličemo še enkrat, vrne `[\"3\", \"00:00:07,290 --> 00:00:11,626\", \"a machine that spies on you\", \"every hour of every day.\"]` ... in tako naprej.\n",
    "    - ...\n",
    "    - Ko je datoteke konec, vrne `None`.\n",
    "\n",
    "   Nasvet: uporabi zanko `for`. Da je konec paketka, boš izvedel(a) po tem, da je prebrala prazno vrstico. Da je konec datoteke boš izvedel(a) po tem, da zanka ni prebrala ničesar.\n",
    "\n",
    "- `podnapis(datoteka)` je podoben funkciji `paketek(datoteka)`. Razlikuje se po tem, da ne vrne seznama vrstic, temveč terko, ki vsebuje indeks (kot `int`), čas začetka, čas konca (oboje kot `float`) in seznam z vrsticami besedila. \n",
    "\n",
    "    - Če je `f` sveže odprta datoteka z gornjim besedilom, naj klic `podnapis(f)` vrne `(1, 2.618, 5.019, [\"(Finch) We are being watched.\"])`.\n",
    "    - ...\n",
    "    - Tretji klic funkcije vrne `(3, 7.290, 11.626, [\"a machine that spies on you\", \"every hour of every day.\"]`.\n",
    "    - ...\n",
    "    - Ko je datoteke konec, naj vrne `(0, 0, 0, [])`.\n",
    "\n",
    "- `zapisi_podnapis(datoteka, indeks, od, do, besedilo)` dela ravno obratno kot funkcija `podnapis(datoteka)`: prejme datoteko, odprto za pisanje in točno takšne podatke, kot jih vrača prejšnja funkcija. V datoteko zapiše podatke v ustreznem formatu in na konec še prazno vrstico. Klic `zapisi_podnapis(f, 13, 3663.25, 3664.5, [\"foo\", \"bar!\"])` v datoteko doda vrstice\n",
    "\n",
    "    ```13\n",
    "    01:01:03,250 --> 01:01:04,500\n",
    "    foo\n",
    "    bar!\n",
    "\n",
    "    ```\n",
    "\n",
    "    Nasvet: če testi pravijo, da izpis ni pravilen, poišči vrstico \"Click to see difference\" in klikni. Pokazalo se bo okno s primerjavo pravilnega in dejanskega besedila, v katerem bodo označene razlike.\n",
    "\n",
    "- `premakni(ime_datoteke, zamik)` prejme *ime datoteke* s podnapisi, na primer `podnapisi.srt`. Ustvariti mora novo datoteko, katere ime je enako imenu vhodne datoteke, le da je dodan `_popravljena`; za gornji primer torej `podnapisi_popravljena.srt`. V novo datoteko zapiše natančno enake podnapise, le da so vsi časi povečani za `zamik` (ta je lahko tudi negativen, a to ni pomembno). Če je gornje besedilo shranjeno v `podnapisi.srt`, bomo po klicu `premakni(\"podnapisi.srt\", 1.5)` dobili datoteko `podnapisi_popravljena.srt`, ki bo videti enako kot vhodna datoteka, le vsi časi bodo povečani za sekundo in pol.\n",
    "\n",
    "    ```\n",
    "    1\n",
    "    00:00:04,118 --> 00:00:06,519\n",
    "    (Finch) We are being watched.\n",
    "\n",
    "    2\n",
    "    00:00:06,521 --> 00:00:08,788\n",
    "    The government has a secret system,\n",
    "\n",
    "    3\n",
    "    00:00:08,790 --> 00:00:13,126\n",
    "    a machine that spies on you\n",
    "    every hour of every day.\n",
    "\n",
    "    4\n",
    "    00:00:13,128 --> 00:00:15,628\n",
    "    I designed the machine\n",
    "    to detect acts of terror,\n",
    "\n",
    "    5\n",
    "    00:00:15,630 --> 00:00:17,463\n",
    "    but it sees everything,\n",
    "    ```\n",
    "    \n",
    "### Rešitev\n",
    "\n",
    "Čas razberemo iz niza tako, da niz razbijemo glede na dvopičje in shranimo v tri spremenljivke, `h`, `m` in `s`. Prvi dve pretvorimo v celo število (`int`) in pomnožimo s 3600 oz. 60, da dobimo sekunde. V `s` pa zamenjamo `,` s `.` in pretvorimo v `float`."
   ]
  },
  {
   "cell_type": "code",
   "execution_count": 1,
   "metadata": {},
   "outputs": [],
   "source": [
    "def razberi_cas(cas):\n",
    "    h, m, s = cas.split(\":\")\n",
    "    return int(h) * 3600 + int(m) * 60 + float(s.replace(\",\", \".\"))"
   ]
  },
  {
   "cell_type": "markdown",
   "metadata": {},
   "source": [
    "Par števil, interval, razbijemo glede na niz `\" --> \"` in za vsak del pokličemo `razberi_cas`."
   ]
  },
  {
   "cell_type": "code",
   "execution_count": 2,
   "metadata": {},
   "outputs": [],
   "source": [
    "def razberi_interval(casi):\n",
    "    od, do = casi.split(\" --> \")\n",
    "    return razberi_cas(od), razberi_cas(do)"
   ]
  },
  {
   "cell_type": "markdown",
   "metadata": {},
   "source": [
    "Čas zapišemo tako, da iz podanega časa v sekundah naračunamo ure, minute in sekunde; ure in minute je potrebno spremeniti v cela števila, kar spet storimo z `int`. Nato vse skupaj sestavimo v niz tako, kot smo se učili na predavanjih."
   ]
  },
  {
   "cell_type": "code",
   "execution_count": 3,
   "metadata": {},
   "outputs": [],
   "source": [
    "def zapisi_cas(cas):\n",
    "    h, m = int(cas / 3600), cas % 3600\n",
    "    m, s = int(m / 60), m % 60\n",
    "    return f\"{h:02}:{m:02}:{s:06.3f}\".replace(\".\", \",\")"
   ]
  },
  {
   "cell_type": "markdown",
   "metadata": {},
   "source": [
    "Interval zapišemo tako, da sestavimo niz iz nizov, ki ju vrne prejšnja funkcija."
   ]
  },
  {
   "cell_type": "code",
   "execution_count": 4,
   "metadata": {},
   "outputs": [],
   "source": [
    "def zapisi_interval(od, do):\n",
    "    return f\"{zapisi_cas(od)} --> {zapisi_cas(do)}\""
   ]
  },
  {
   "cell_type": "markdown",
   "metadata": {},
   "source": [
    "Zdaj pa končno nekaj bolj zabavnega.\n",
    "\n",
    "Datoteko bomo brali z zanko `for`. Vsaki vrstici odluščimo beli prostor na začetku in na koncu; predvsem se moramo znebiti znaka za konec vrste. Če je vrstica prazna, prekinemo zanko, saj je paketek končan. Če ni prazna, pa jo dodamo v seznam vrstic ... ki ga vrnemo po zanki.\n",
    "\n",
    "Po zanki preverimo, ali smo sploh dobili kakšno vrstico. Če, potem ta seznam vrnemo. Sicer vrnemo `None`.\n",
    "\n",
    "Zadnji dve vrstici bi lahko tudi izpustili. Funkcija, ki ne vrne ničesar, vrne `None`."
   ]
  },
  {
   "cell_type": "code",
   "execution_count": 5,
   "metadata": {},
   "outputs": [],
   "source": [
    "def paketek(datoteka):\n",
    "    vrstice = []\n",
    "    for vrstica in datoteka:\n",
    "        vrstica = vrstica.strip()\n",
    "        if not vrstica:\n",
    "            break\n",
    "        vrstice.append(vrstica)\n",
    "    if vrstice:\n",
    "        return vrstice\n",
    "    else:\n",
    "        return None"
   ]
  },
  {
   "cell_type": "markdown",
   "metadata": {},
   "source": [
    "Pogoj `if not vrstica` bi lahko dopolnili v `if not vrstica and vrstice`. Po takšni spremembi bi funkcija delovala tudi, če bi bilo med dvema paketkoma več praznih vrstic.\n",
    "\n",
    "Da dobimo podnapis, pokličemo paketek. Če vrne `None`, vrnemo, kot zahteva naloga `0, 0 ,0, []`, sicer pa iz druge vrstice razberemo začetni čas ter vrnemo indeks (`int(paketek[0])`), oba časa in ostale vrstice."
   ]
  },
  {
   "cell_type": "code",
   "execution_count": 6,
   "metadata": {},
   "outputs": [],
   "source": [
    "def podnapis(datoteka):\n",
    "    paket = paketek(datoteka)\n",
    "    if not paket:\n",
    "        return 0, 0, 0, []\n",
    "    od, do = razberi_interval(paket[1])\n",
    "    return int(paket[0]), od, do, paket[2:]"
   ]
  },
  {
   "cell_type": "markdown",
   "metadata": {},
   "source": [
    "Podnapis zapišemo tako, da v datoteko zapišemo niz z indeksom, niz s časoma in nato vse vrstice, potem pa še eno prazno vrstico."
   ]
  },
  {
   "cell_type": "code",
   "execution_count": 7,
   "metadata": {},
   "outputs": [],
   "source": [
    "def zapisi_podnapis(datoteka, indeks, od, do, besedilo):\n",
    "    datoteka.write(f\"{indeks}\\n\")\n",
    "    datoteka.write(f\"{zapisi_interval(od, do)}\\n\")\n",
    "    for vrstica in besedilo:\n",
    "        datoteka.write(vrstica + \"\\n\")\n",
    "    datoteka.write(\"\\n\")"
   ]
  },
  {
   "cell_type": "markdown",
   "metadata": {},
   "source": [
    "Zadnja funkcija je pa malo sitna: nekateri jeziki imajo poleg zanke `while` še zanko `do-while`, Python pa ne. V resnici jo potrebujemo redko ... ampak tule bi jo. Brez nje moramo pisati `while True` in v njem `break`, ali pa moramo dvakrat klicati funkcijo `podnapis`. Tule sta obe različici; razlagati pa ni kaj."
   ]
  },
  {
   "cell_type": "code",
   "execution_count": 8,
   "metadata": {},
   "outputs": [],
   "source": [
    "def premakni(ime_datoteke, zamik):\n",
    "    inp = open(ime_datoteke)\n",
    "    outp = open(ime_datoteke[:-4] + \"_popravljena.srt\", \"w\")\n",
    "\n",
    "    while True:\n",
    "        indeks, od, do, besedilo = podnapis(inp)\n",
    "        if indeks == 0:\n",
    "            break\n",
    "        od += zamik\n",
    "        do += zamik\n",
    "        zapisi_podnapis(outp, indeks, od, do, besedilo)\n",
    "        \n",
    "def premakni(ime_datoteke, zamik):\n",
    "    inp = open(ime_datoteke)\n",
    "    outp = open(ime_datoteke[:-4] + \"_popravljena.srt\", \"w\")\n",
    "\n",
    "    indeks, od, do, besedilo = podnapis(inp)\n",
    "    while indeks != 0:\n",
    "        od += zamik\n",
    "        do += zamik\n",
    "        zapisi_podnapis(outp, indeks, od, do, besedilo)\n",
    "        indeks, od, do, besedilo = podnapis(inp)"
   ]
  }
 ],
 "metadata": {
  "kernelspec": {
   "display_name": "Python 3",
   "language": "python",
   "name": "python3"
  },
  "language_info": {
   "codemirror_mode": {
    "name": "ipython",
    "version": 3
   },
   "file_extension": ".py",
   "mimetype": "text/x-python",
   "name": "python",
   "nbconvert_exporter": "python",
   "pygments_lexer": "ipython3",
   "version": "3.7.4"
  }
 },
 "nbformat": 4,
 "nbformat_minor": 4
}
