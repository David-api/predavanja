{
 "cells": [
  {
   "cell_type": "markdown",
   "metadata": {},
   "source": [
    "## Zaporedje števil\n",
    "\n",
    "Nekje smo našli tale skrivnostni program. Kaj računa?"
   ]
  },
  {
   "cell_type": "code",
   "execution_count": 1,
   "metadata": {},
   "outputs": [
    {
     "name": "stdout",
     "output_type": "stream",
     "text": [
      "166\n",
      "255\n",
      "92\n",
      "77\n",
      "162\n",
      "107\n",
      "248\n",
      "217\n",
      "222\n",
      "23\n"
     ]
    }
   ],
   "source": [
    "s = 1\n",
    "for i in range(10):\n",
    "    s = (s * 165 + 1) % 256\n",
    "    print(s)"
   ]
  },
  {
   "cell_type": "markdown",
   "metadata": {},
   "source": [
    "Kr neki. Številke, brez posebnega reda, opaznega pravila. Morda bi celo koga preslepili, da so naključne. (Čeprav niso, ta števila očiotno niso naključna, saj so izračunana po neki formuli.)\n",
    "\n",
    "V resnici tako delujejo generatorji [naključnih števil](http://en.wikipedia.org/wiki/Pseudorandom_number_generator);\n",
    "temu, konkretno, se reče [linearni kongruenčni generator](http://en.wikipedia.org/wiki/Linear_congruential_generator). Linearni, ker računa linearno funkcijo, kongruenčni zaradi modula.\n",
    "\n",
    "Če bi hoteli z njim, recimo, simulirati met kocke, bi ga uporabili tako, da bi namesto vrednosti `s` izpisovali ostanek po deljenju `s` z 6."
   ]
  },
  {
   "cell_type": "code",
   "execution_count": 2,
   "metadata": {},
   "outputs": [
    {
     "name": "stdout",
     "output_type": "stream",
     "text": [
      "4\n",
      "3\n",
      "2\n",
      "5\n",
      "0\n",
      "5\n",
      "2\n",
      "1\n",
      "0\n",
      "5\n"
     ]
    }
   ],
   "source": [
    "s = 1\n",
    "for i in range(10):\n",
    "    s = (s * 165 + 1) % 256\n",
    "    print(s % 6)"
   ]
  },
  {
   "cell_type": "markdown",
   "metadata": {},
   "source": [
    "Hmnja, prav, ta kocka ima številke od 0 do 5 namesto od 1 do 6. Pa recimo, da je to kocka, kakršno uporabljajo programerji v Pythonu (in večini drugih jezikov); ti namreč štejejo od 0, ne od 1. Program, ki namesto tega izpisuje za 1 večja števila bi bilo namreč grozljivo težko napisati. ;)\n",
    "\n",
    "Zdaj me zanima, ali je kocka poštena. So vse številke enako pogoste?\n",
    "\n",
    "To bom preveril tako, da bom pripravil seznam s šestimi elementi - ničti bo štel, kolikokrat je padla 0, prvi, kolikokrat ena, drugi kolikokrat dva in tako naprej. Saj poznamo vajo, od prejšnjič."
   ]
  },
  {
   "cell_type": "code",
   "execution_count": 3,
   "metadata": {},
   "outputs": [
    {
     "name": "stdout",
     "output_type": "stream",
     "text": [
      "[167, 168, 167, 167, 166, 165]\n"
     ]
    }
   ],
   "source": [
    "s = 1\n",
    "meti = [0] * 6\n",
    "for i in range(1000):\n",
    "    s = (s * 165 + 1) % 256\n",
    "    meti[s % 6] += 1\n",
    "    \n",
    "print(meti)"
   ]
  },
  {
   "cell_type": "markdown",
   "metadata": {},
   "source": [
    "Super, kocka je poštena, vse številke so praktično enako verjetne.\n",
    "\n",
    "(Mimogrede, to je kar zelo neres. Če dobro razmislimo, je ta kocka takšna, da se izmenjujejo lihe in sode številke. Takšne kocke še nikoli nisem videl. V kriptografiji se pogosto uporabljajo naključna števila - vsakič, ko greste na kakšno stran, katere URL je https, ne http, si mora vaš računalnik izmisliti naključno število, ki bo služilo kot ključ ... in tako naprej. Kriptografi zato cenijo takšne generatorje naključnih števil, pri katerih na podlagi enega števila (ali nekaj zadnjih) ne izvemo čisto nič o naslednjih. Tale očitno ni takšen.)\n",
    "\n",
    "Za preštevanje sem uporabil seznam, ne slovarja. Tule štejem pojavitve (majhnih) števil. Števila lahko uporabim kot indekse v seznam, zato sem vzel seznam. Z nizi pa lahko indeksiram samo slovarje. Pa bi lahko tudi tu uporabil slovar? Da, lahko, vendar je tule bolj praktičen seznam, saj sem smel v začetku napisati `meti = [0] * 6`, pa sem dobil pripravljen seznam s šestimi ničlami, v katerega sem potem samo prišteval.\n",
    "\n",
    "Seveda bi šlo tudi s slovarji. Popaziti bi bilo potrebno na začetno nastavljanje elementov ali pa uporabiti `defaultdict`. Lahko pa se znajdemo z neko čudno funkcijo, `dict.fromkeys`. (Zakaj čudno? Ker ima tako čudno ime. Kot da bi bil `dict` modul.) Funkcija `dict.fromkeys` prejme kot argument ključe (recimo seznam) in privzeto vrednost; če je ne podamo, je privzeta vrednost `None`."
   ]
  },
  {
   "cell_type": "code",
   "execution_count": 4,
   "metadata": {},
   "outputs": [
    {
     "data": {
      "text/plain": [
       "{'Ana': None, 'Berta': None, 'Cilka': None}"
      ]
     },
     "execution_count": 4,
     "metadata": {},
     "output_type": "execute_result"
    }
   ],
   "source": [
    "dict.fromkeys([\"Ana\", \"Berta\", \"Cilka\"])"
   ]
  },
  {
   "cell_type": "code",
   "execution_count": 5,
   "metadata": {},
   "outputs": [
    {
     "data": {
      "text/plain": [
       "{'B': None, 'e': None, 'r': None, 't': None, 'a': None}"
      ]
     },
     "execution_count": 5,
     "metadata": {},
     "output_type": "execute_result"
    }
   ],
   "source": [
    "dict.fromkeys(\"Berta\")"
   ]
  },
  {
   "cell_type": "code",
   "execution_count": 6,
   "metadata": {},
   "outputs": [
    {
     "data": {
      "text/plain": [
       "{'B': 42, 'e': 42, 'r': 42, 't': 42, 'a': 42}"
      ]
     },
     "execution_count": 6,
     "metadata": {},
     "output_type": "execute_result"
    }
   ],
   "source": [
    "dict.fromkeys(\"Berta\", 42)"
   ]
  },
  {
   "cell_type": "code",
   "execution_count": 7,
   "metadata": {},
   "outputs": [
    {
     "data": {
      "text/plain": [
       "{0: 0, 1: 0, 2: 0, 3: 0, 4: 0, 5: 0}"
      ]
     },
     "execution_count": 7,
     "metadata": {},
     "output_type": "execute_result"
    }
   ],
   "source": [
    "dict.fromkeys(range(6), 0)"
   ]
  },
  {
   "cell_type": "markdown",
   "metadata": {},
   "source": [
    "Pa imamo: isti program, le s slovarjem:"
   ]
  },
  {
   "cell_type": "code",
   "execution_count": 8,
   "metadata": {},
   "outputs": [
    {
     "name": "stdout",
     "output_type": "stream",
     "text": [
      "{0: 167, 1: 168, 2: 167, 3: 167, 4: 166, 5: 165}\n"
     ]
    }
   ],
   "source": [
    "s = 1\n",
    "meti = dict.fromkeys(range(6), 0)\n",
    "for i in range(1000):\n",
    "    s = (s * 165 + 1) % 256\n",
    "    meti[s % 6] += 1\n",
    "    \n",
    "print(meti)"
   ]
  },
  {
   "cell_type": "markdown",
   "metadata": {},
   "source": [
    "Zdaj pa si raje zastavimo bolj zanimivo vprašanje: se začnejo te številke kdaj ponavljati?\n",
    "\n",
    "Kot običajno, pridemo do odgovora s tehniko, ki jo imenujemo *razmišljanje*. :) Po krajšem razmišljanju torej ugotovimo, da se, prav gotovo: ker ima `s` samo 256 različnih možnih vrednosti (pač številke med 0 in 255, saj računamo ostanke po deljenju z 256), bomo v 257. koraku (ali prej, če imamo smolo, naleteli na številko, ki smo jo že videli. In ko prvič dobimo nek `s`, ki smo ga že imeli, bo očitno enak tudi naslednji `s` in za njim\n",
    "naslednji in tako naprej.\n",
    "\n",
    "Pa recimo, da nismo tako pametni, da bi ugotovili, da ima `s` samo 256 vrednost: recimo, da natuhtamo samo, da se bodo `s`-ji, čim se ponovijo enkrat, ponavljali v nedogled. Ne vemo pa, ali se bodo kdaj ponovili. Radi bi torej spremenili program tako, da se bo ustavil, če se `s` v 1000 korakih kdaj ponovi."
   ]
  },
  {
   "cell_type": "code",
   "execution_count": 9,
   "metadata": {},
   "outputs": [
    {
     "name": "stdout",
     "output_type": "stream",
     "text": [
      "Številka 166 se je ponovila\n"
     ]
    }
   ],
   "source": [
    "s = 1\n",
    "meti = []\n",
    "for i in range(1000):\n",
    "    s = (s * 165 + 1) % 256\n",
    "    if s in meti:\n",
    "        print(\"Številka\", s, \"se je ponovila\")\n",
    "        break\n",
    "    meti.append(s)\n",
    "else:\n",
    "    print(\"V 1000 korakih se s ni ponovila\")"
   ]
  },
  {
   "cell_type": "markdown",
   "metadata": {},
   "source": [
    "Program najbrž ne potrebuje posebne razlage razen, spet, onega hecnega `else` za `for`-om, ki se izvede, če znotraj `for` ne pride do `break`a (vendar seveda pride).\n",
    "\n",
    "Vedno, kadar vidim, da nekdo preverja, ali seznam vsebuje določen element, se mi Python, ki mora preletati ves seznam, zasmili. Zato tule raje uporabimo slovarje. Če bo `meti` slovar, bo znal `s in meti` brez iskanja povedati, ali `meti` vsebuje ključ `s` ali ne. Kaj torej uporabimo tu? Množice."
   ]
  },
  {
   "cell_type": "code",
   "execution_count": 10,
   "metadata": {},
   "outputs": [
    {
     "name": "stdout",
     "output_type": "stream",
     "text": [
      "Številka 166 se je ponovila\n"
     ]
    }
   ],
   "source": [
    "s = 1\n",
    "meti = set()\n",
    "for i in range(1000):\n",
    "    s = (s * 165 + 1) % 256\n",
    "    if s in meti:\n",
    "        print(\"Številka\", s, \"se je ponovila\")\n",
    "        break\n",
    "    meti.add(s)\n",
    "else:\n",
    "    print(\"V 1000 korakih se s ni ponovila\")"
   ]
  },
  {
   "cell_type": "markdown",
   "metadata": {},
   "source": [
    "Vse je tako kot prej, le namesto `meti = []` imamo `meti = set()` in namesto `meti.append(s)` imamo `meti.add(s)`.\n",
    "\n",
    "Primer: Končnice datotek\n",
    "------------------------\n",
    "\n",
    "Po množicah kar kličejo naloge tipa \\\"Poišči končnice vseh datotek, ki se nahajajo v danem direktoriju. Množice namreč same skrbijo za to, da se vsaka stvar pojavi le enkrat."
   ]
  },
  {
   "cell_type": "code",
   "execution_count": 11,
   "metadata": {},
   "outputs": [
    {
     "name": "stdout",
     "output_type": "stream",
     "text": [
      "ipynb\n",
      "ipynb_checkpoints\n"
     ]
    }
   ],
   "source": [
    "import os\n",
    "\n",
    "koncnice = set()\n",
    "for ime in os.listdir(\".\"):\n",
    "    konc = ime.split(\".\")[-1]\n",
    "    koncnice.add(konc)\n",
    "\n",
    "for konc in sorted(koncnice):\n",
    "    print(konc)"
   ]
  },
  {
   "cell_type": "markdown",
   "metadata": {},
   "source": [
    "Še en primer\n",
    "------------\n",
    "\n",
    "Preseki in unije so uporabne reči. Ena vaših kolegic se je pred leti na vajah lotila računanja največjega skupnega delitelja dveh števil tako, da je najprej izračunala vse delitelje enega, nato vse delitelje drugega, potem pa si je želela med njimi poiskati največjega.\n",
    "\n",
    "```python\n",
    "def vsi_delitelji(a):\n",
    "    delitelji = []\n",
    "    for i in range(1, a):\n",
    "        if a % i == 0:\n",
    "            delitelji.append(i)\n",
    "    return delitelji\n",
    "    \n",
    "def gcd(a, b):\n",
    "    delitelji_a = vsi_delitelji(a)\n",
    "    delitelji_b = vsi_delitelji(b)\n",
    "    in kaj zdaj?!?!\n",
    "```\n",
    "\n",
    "Zdaj imamo dva seznama. Kdo bo našel največje število, ki se pojavi v obeh? Za vsako število iz enega seznama bi bilo potrebno preveriti, ali obstaja tudi v drugem in ali je večje od največjega doslej.\n",
    "\n",
    "Čisto za vajo naredimo to reč učinkovito."
   ]
  },
  {
   "cell_type": "code",
   "execution_count": 12,
   "metadata": {},
   "outputs": [],
   "source": [
    "def vsi_delitelji(a):\n",
    "    delitelji = []\n",
    "    for i in range(1, a):\n",
    "        if a % i == 0:\n",
    "            delitelji.append(i)\n",
    "    return delitelji\n",
    "    \n",
    "def gcd(a, b):\n",
    "    delitelji_a = vsi_delitelji(a)\n",
    "    delitelji_b = vsi_delitelji(b)\n",
    "    ia = ib = -1\n",
    "    while True:\n",
    "        if delitelji_a[ia] == delitelji_b[ib]:\n",
    "            return delitelji_a[ia]\n",
    "        if delitelji_a[ia] > delitelji_b[ib]:\n",
    "            ia -= 1\n",
    "        else:\n",
    "            ib -= 1"
   ]
  },
  {
   "cell_type": "code",
   "execution_count": 13,
   "metadata": {},
   "outputs": [
    {
     "data": {
      "text/plain": [
       "14"
      ]
     },
     "execution_count": 13,
     "metadata": {},
     "output_type": "execute_result"
    }
   ],
   "source": [
    "gcd(2 * 7 * 13 * 5, 2 * 7 * 3 * 11 * 17)"
   ]
  },
  {
   "cell_type": "markdown",
   "metadata": {},
   "source": [
    "To je lepo, a ni?\n",
    "\n",
    "Aja, moram prej razložiti, kako deluje. Seznama vsebujeta delitelje `a` in `b`, urejene po velikosti. Z enim prstom pokažemo na zadnji element prvega seznama, z drugim na zadnji element drugega. Preverimo, kateri prst kaže na večjo število in ga premaknemo za en element levo, na manjše število. To ponavljamo, dokler ne kažeta oba prsta na enako število - v skrajnem primeru bo to 1. To število je potem največji skupni delitelj.\n",
    "\n",
    "To je bila čista stranpot, pokazal sem samo zato, ker je tako lepo. Oni študentki tega nisem kazal, spomnil sem jo na stari, dobri in učinkovitejši Evklidov algoritem. Če bi že vedeli za množice, pa bi jo lahko vprašal, če ne bi bilo morda boljše uporabiti množic... Kolegica bi rekla, ah, seveda in jadrno napisala"
   ]
  },
  {
   "cell_type": "code",
   "execution_count": 14,
   "metadata": {},
   "outputs": [],
   "source": [
    "def vsi_delitelji(a):\n",
    "    delitelji = []\n",
    "    for i in range(1, a):\n",
    "        if a % i == 0:\n",
    "            delitelji.append(i)\n",
    "    return delitelji\n",
    "    \n",
    "def gcd(a, b):\n",
    "    delitelji_a = set(vsi_delitelji(a))\n",
    "    delitelji_b = set(vsi_delitelji(b))\n",
    "    return max(delitelji_a & delitelji_b)"
   ]
  },
  {
   "cell_type": "code",
   "execution_count": 15,
   "metadata": {},
   "outputs": [
    {
     "data": {
      "text/plain": [
       "14"
      ]
     },
     "execution_count": 15,
     "metadata": {},
     "output_type": "execute_result"
    }
   ],
   "source": [
    "gcd(2 * 7 * 13 * 5, 2 * 7 * 3 * 11 * 17)"
   ]
  },
  {
   "cell_type": "markdown",
   "metadata": {},
   "source": [
    "Ali, z enim zamahom."
   ]
  },
  {
   "cell_type": "code",
   "execution_count": 16,
   "metadata": {},
   "outputs": [],
   "source": [
    "def vsi_delitelji(a):\n",
    "    delitelji = []\n",
    "    for i in range(1, a):\n",
    "        if a % i == 0:\n",
    "            delitelji.append(i)\n",
    "    return delitelji\n",
    "    \n",
    "def gcd(a, b):\n",
    "    delitelji_a = set(vsi_delitelji(a))\n",
    "    delitelji_b = set(vsi_delitelji(b))\n",
    "    return max(delitelji_a & delitelji_b)"
   ]
  },
  {
   "cell_type": "code",
   "execution_count": 17,
   "metadata": {},
   "outputs": [
    {
     "data": {
      "text/plain": [
       "14"
      ]
     },
     "execution_count": 17,
     "metadata": {},
     "output_type": "execute_result"
    }
   ],
   "source": [
    "gcd(2 * 7 * 13 * 5, 2 * 7 * 3 * 11 * 17)"
   ]
  },
  {
   "cell_type": "markdown",
   "metadata": {},
   "source": [
    "Drugo funkcijo lahko očitno brez posebnega znanja stlačimo v eno vrstico. Zanimivo je, da lahko tudi prvo. Kot reklamo za to, kar nas čaka v prihodnjih tednih:"
   ]
  },
  {
   "cell_type": "code",
   "execution_count": 18,
   "metadata": {},
   "outputs": [],
   "source": [
    "def vsi_delitelji(a):\n",
    "    return {i for i in range(1, a) if a % i == 0}\n",
    "    \n",
    "def gcd(a, b):\n",
    "    return max(vsi_delitelji(a) & vsi_delitelji(b))"
   ]
  },
  {
   "cell_type": "code",
   "execution_count": 19,
   "metadata": {},
   "outputs": [
    {
     "data": {
      "text/plain": [
       "14"
      ]
     },
     "execution_count": 19,
     "metadata": {},
     "output_type": "execute_result"
    }
   ],
   "source": [
    "gcd(2 * 7 * 13 * 5, 2 * 7 * 3 * 11 * 17)"
   ]
  },
  {
   "cell_type": "markdown",
   "metadata": {},
   "source": [
    "## Malo bolj zapleteni slovarji\n",
    "\n",
    "Vrnimo se k slovarjem, a ne pozabivši množic. V neki nalogi z vaj smo pomagali natakarju, ki je prejel naročila v takšnem seznamu:"
   ]
  },
  {
   "cell_type": "code",
   "execution_count": 20,
   "metadata": {},
   "outputs": [],
   "source": [
    "s = [(\"Ana\", \"kava\"), (\"Berta\", \"pita\"), (\"Ana\", \"pita\"),\n",
    "     (\"Cilka\", \"caj\"), (\"Ana\", \"voda\"), (\"Berta\", \"voda\")]"
   ]
  },
  {
   "cell_type": "markdown",
   "metadata": {},
   "source": [
    "Napisati želimo funkcijo (ali program, tule nam ni mar), ki to predela v slovar, katerega ključi so imena strank, vrednosti pa povedo, kaj je stranka naročila. Na vajah smo rekli, naj bodo vrednosti *seznami* naročenih reči. Zdaj, ko vemo za množice, ni razloga, da ne bi uporabili množic. Dobiti hočemo torej"
   ]
  },
  {
   "cell_type": "code",
   "execution_count": 21,
   "metadata": {},
   "outputs": [],
   "source": [
    "narocila = {\"Ana\": {\"kava\", \"pita\", \"voda\"}, \"Berta\": {\"pita\", \"voda\"}, \"Cilka\": {\"caj\"}}"
   ]
  },
  {
   "cell_type": "markdown",
   "metadata": {},
   "source": [
    "Stvar sploh ni tako težka, kot so mislili študenti FRI, ko jih je ta naloga zadela na izpitu. Drznil bi si trditi celo, da niso vedeli, da je čisto lahka in, v bistvu, nič drugačna od naloge, v kateri štejemo, kolikokrat je Benjamin poklical katero od An, Bert in Cilk. (In, naj izdam skrivnost: nič težja ali lažja od dveh izmed funkcij, ki ju morate narediti v naslednjem tednu! :)\n",
    "\n",
    "Pripravimo si prazen slovar. Narediti nam je tole: gremo čez vse pare `(ime, narocilo)` v `s`. Za vsako ime pogledamo, ali je že v slovarju in če ga ni, ga dodamo, kot vrednost, pa mu damo - ne 0, kot pri klicih, temveč prazno množico, `set()`. Potem dodamo v seznam, kar je dotična gospa naročila."
   ]
  },
  {
   "cell_type": "code",
   "execution_count": 22,
   "metadata": {},
   "outputs": [
    {
     "data": {
      "text/plain": [
       "{'Ana': {'kava', 'pita', 'voda'}, 'Berta': {'pita', 'voda'}, 'Cilka': {'caj'}}"
      ]
     },
     "execution_count": 22,
     "metadata": {},
     "output_type": "execute_result"
    }
   ],
   "source": [
    "narocila = {}\n",
    "for stranka, narocilo in s:\n",
    "    if not stranka in narocila:\n",
    "        narocila[stranka] = set()\n",
    "    narocila[stranka].add(narocilo)\n",
    "    \n",
    "narocila"
   ]
  },
  {
   "cell_type": "markdown",
   "metadata": {},
   "source": [
    "Še lažje je, če se spomnimo na `defaultdict`."
   ]
  },
  {
   "cell_type": "code",
   "execution_count": 23,
   "metadata": {},
   "outputs": [
    {
     "data": {
      "text/plain": [
       "defaultdict(set,\n",
       "            {'Ana': {'kava', 'pita', 'voda'},\n",
       "             'Berta': {'pita', 'voda'},\n",
       "             'Cilka': {'caj'}})"
      ]
     },
     "execution_count": 23,
     "metadata": {},
     "output_type": "execute_result"
    }
   ],
   "source": [
    "from collections import defaultdict\n",
    "\n",
    "narocila = defaultdict(set)\n",
    "\n",
    "for stranka, narocilo in s:\n",
    "    narocila[stranka].add(narocilo)\n",
    "    \n",
    "narocila"
   ]
  }
 ],
 "metadata": {
  "kernelspec": {
   "display_name": "Python 3",
   "language": "python",
   "name": "python3"
  },
  "language_info": {
   "codemirror_mode": {
    "name": "ipython",
    "version": 3
   },
   "file_extension": ".py",
   "mimetype": "text/x-python",
   "name": "python",
   "nbconvert_exporter": "python",
   "pygments_lexer": "ipython3",
   "version": "3.7.4"
  }
 },
 "nbformat": 4,
 "nbformat_minor": 4
}
