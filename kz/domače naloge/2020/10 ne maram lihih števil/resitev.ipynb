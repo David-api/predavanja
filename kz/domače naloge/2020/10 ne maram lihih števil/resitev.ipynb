{
 "cells": [
  {
   "cell_type": "markdown",
   "metadata": {},
   "source": [
    "# Ne maram lihih števil\n",
    "\n",
    "Vse te naloge je potrebno reševati z rekurzivnimi funkcijami. Nobenih zank `for`, nobenih izpeljanih seznamov. Testi bodo to (kolikor toliko) preverjali.\n",
    "\n",
    "Funkcije iz ogrevalnega dela niso težje od teh iz obveznega, razlika je le, da vam v ogrevalnem že povem rekurzivno definicijo naloge, ki ustreza, temu, kar morate sprogramirati. Samo prevedete iz slovenščine v Python. :) Obenem pa funkcije iz ogrevalnega malo spominjajo, uvajajo v tiste iz obveznega.\n",
    "\n",
    "## Ogrevanje\n",
    "\n",
    "- Napiši funkcijo `vsebuja_sama_soda(s)`, ki vrne `True`, če podani seznam števil vsebuje sama soda števila.\n",
    "\n",
    "   Spomnimo se: seznam vsebuje sama soda števila, če je prazen ali pa je prvo število sodo in vsebuje tudi preostanek sama soda števila.\n",
    "\n",
    "- Napiši funkcijo `obrni(s)`, ki prejme seznam števil in vrne seznam, ki vsebuje iste elemente, a v obratnem vrstnem redu.\n",
    "\n",
    "   Seznam je najpreprosteje obrniti tako, da daš prvo število na konec obrnjenega seznama. Točneje, sešteješ seznam, ki vsebuje vsa ostala števila, vendar obrnjena, in seznam, ki vsebuje prvo število.\n",
    "\n",
    "   Klic `obrni([5, 3, 8])` vrne `[8, 3, 5]`.\n",
    "\n",
    "- Napiši funkcijo `samo_soda(s)`, ki prejme seznam števil in vrne seznam, ki vsebuje samo soda števila iz tega seznama. \n",
    "\n",
    "   Očitno je potrebno vrniti seznam, ki v primeru, da je prvo število sodo, vrne to število in še vsa ostala, ki so soda. Če prvo število ni sodo, pa vrne soda števila iz ostanka.\n",
    "\n",
    "   Klic `samo_soda([5, 3, 4, 8, 5, 6, 2])` vrne `[4, 8, 6, 2]`.\n",
    "\n",
    "### Rešitev\n",
    "\n",
    "#### `vsebuje_sama_soda`\n",
    "\n",
    "... če je prazen ali pa je prvo število sodo in vsebuje tudi preostanek sama soda števila."
   ]
  },
  {
   "cell_type": "code",
   "execution_count": 1,
   "metadata": {},
   "outputs": [],
   "source": [
    "def vsebuje_sama_soda(s):\n",
    "    return s == [] or s[0] % 2 == 0 and vsebuje_sama_soda(s[1:])"
   ]
  },
  {
   "cell_type": "code",
   "execution_count": 2,
   "metadata": {},
   "outputs": [
    {
     "data": {
      "text/plain": [
       "True"
      ]
     },
     "execution_count": 2,
     "metadata": {},
     "output_type": "execute_result"
    }
   ],
   "source": [
    "vsebuje_sama_soda([4, 6, 2, 12])"
   ]
  },
  {
   "cell_type": "code",
   "execution_count": 3,
   "metadata": {},
   "outputs": [
    {
     "data": {
      "text/plain": [
       "False"
      ]
     },
     "execution_count": 3,
     "metadata": {},
     "output_type": "execute_result"
    }
   ],
   "source": [
    "vsebuje_sama_soda([4, 6, 3, 2, 12])"
   ]
  },
  {
   "cell_type": "markdown",
   "metadata": {},
   "source": [
    "#### `obrni`"
   ]
  },
  {
   "cell_type": "code",
   "execution_count": 4,
   "metadata": {},
   "outputs": [],
   "source": [
    "def obrni(s):\n",
    "    if s == []:\n",
    "        return s\n",
    "    else:\n",
    "        return obrni(s[1:]) + [s[0]]"
   ]
  },
  {
   "cell_type": "code",
   "execution_count": 5,
   "metadata": {},
   "outputs": [
    {
     "data": {
      "text/plain": [
       "['Dani', 'Cilka', 'Berta', 'Ana']"
      ]
     },
     "execution_count": 5,
     "metadata": {},
     "output_type": "execute_result"
    }
   ],
   "source": [
    "obrni([\"Ana\", \"Berta\", \"Cilka\", \"Dani\"])"
   ]
  },
  {
   "cell_type": "markdown",
   "metadata": {},
   "source": [
    "K seznamu moramo prišteti seznam. To mora biti seznam, ki vsebuje prvi element, torej `[s[0]]`. Lahko pa pišemo tudi `s[:1]`. Če ob tem še zamenjamo `if s == []` z `if not s`, ne bo funkcija nikjer več predpostavljala, da je `s` seznam."
   ]
  },
  {
   "cell_type": "code",
   "execution_count": 6,
   "metadata": {},
   "outputs": [],
   "source": [
    "def obrni(s):\n",
    "    if not s:\n",
    "        return s\n",
    "    else:\n",
    "        return obrni(s[1:]) + s[:1]"
   ]
  },
  {
   "cell_type": "code",
   "execution_count": 7,
   "metadata": {},
   "outputs": [
    {
     "data": {
      "text/plain": [
       "['Dani', 'Cilka', 'Berta', 'Ana']"
      ]
     },
     "execution_count": 7,
     "metadata": {},
     "output_type": "execute_result"
    }
   ],
   "source": [
    "obrni([\"Ana\", \"Berta\", \"Cilka\", \"Dani\"])"
   ]
  },
  {
   "cell_type": "code",
   "execution_count": 8,
   "metadata": {},
   "outputs": [
    {
     "data": {
      "text/plain": [
       "(5, 4, 3, 2, 1)"
      ]
     },
     "execution_count": 8,
     "metadata": {},
     "output_type": "execute_result"
    }
   ],
   "source": [
    "obrni((1, 2, 3, 4, 5))"
   ]
  },
  {
   "cell_type": "code",
   "execution_count": 9,
   "metadata": {},
   "outputs": [
    {
     "data": {
      "text/plain": [
       "'rašmed zenaj'"
      ]
     },
     "execution_count": 9,
     "metadata": {},
     "output_type": "execute_result"
    }
   ],
   "source": [
    "obrni(\"janez demšar\")"
   ]
  },
  {
   "cell_type": "markdown",
   "metadata": {},
   "source": [
    "#### `samo_soda`\n",
    "\n",
    "Spet so že navodila povedala vse."
   ]
  },
  {
   "cell_type": "code",
   "execution_count": 10,
   "metadata": {},
   "outputs": [],
   "source": [
    "def samo_soda(s):\n",
    "    if not s:\n",
    "        return s\n",
    "    ostala_soda = samo_soda(s[1:])\n",
    "    if s[0] % 2 == 0:\n",
    "        return [s[0]] + ostala_soda\n",
    "    else:\n",
    "        return ostala_soda"
   ]
  },
  {
   "cell_type": "code",
   "execution_count": 11,
   "metadata": {},
   "outputs": [
    {
     "data": {
      "text/plain": [
       "[4, 8, 6, 2]"
      ]
     },
     "execution_count": 11,
     "metadata": {},
     "output_type": "execute_result"
    }
   ],
   "source": [
    "samo_soda([5, 3, 4, 8, 5, 6, 2])"
   ]
  },
  {
   "cell_type": "markdown",
   "metadata": {},
   "source": [
    "## Obvezni del\n",
    "\n",
    "- Napiši funkcijo `prestej_liha(s)`, ki vrne število lihih števil v podanem seznamu števil.\n",
    "\n",
    "   Klic `prestej_liha([5, 3, 4, 8, 5, 6, 2])` vrne `3`.\n",
    "\n",
    "- Napiši funkcijo `ena_vec(s)`, ki prejme seznam števil in vrne seznam, v katerem je vsako od števil za ena večje kot v podanem seznamu.\n",
    "\n",
    "    Klic `ena_vec([5, 2, 8])` vrne `[6, 3, 9]`.\n",
    "\n",
    "- In zdaj naš končni cilj: napiši funkcijo `zbij_liho(s)`, ki prejme seznam števil in vrne nov seznam z enakimi elementi, le vsem lihim številom odštejemo 1, da postanejo soda.\n",
    "\n",
    "    Klic `zbij_liha([5, 2, 8, 7, 1, 6])` vrne `[4, 2, 8, 6, 0, 6]`.\n",
    "    \n",
    "### Rešitev\n",
    "\n",
    "#### `prestej_liha`\n",
    "\n",
    "Če je seznam prazen, vsebuje 0 lihih števil. Sicer pa vsebuje toliko lihih števil, kot jih je v preostanku (brez prvega), in še eno več, če je tudi prvo liho."
   ]
  },
  {
   "cell_type": "code",
   "execution_count": 12,
   "metadata": {},
   "outputs": [],
   "source": [
    "def prestej_liha(s):\n",
    "    if not s:\n",
    "        return 0\n",
    "    lihih = prestej_liha(s[1:])\n",
    "    if s[0] % 2 == 1:\n",
    "        lihih += 1\n",
    "    return lihih"
   ]
  },
  {
   "cell_type": "code",
   "execution_count": 13,
   "metadata": {},
   "outputs": [
    {
     "data": {
      "text/plain": [
       "3"
      ]
     },
     "execution_count": 13,
     "metadata": {},
     "output_type": "execute_result"
    }
   ],
   "source": [
    "prestej_liha([5, 3, 4, 8, 5, 6, 2])"
   ]
  },
  {
   "cell_type": "markdown",
   "metadata": {},
   "source": [
    "Zazrevši se v program opazimo, da k `lihih` prištejemo `1`, takrat ko je `s[0] % 2` enak `1`. Ko ni enak `1`, pa je enak `0` in takrat prištejemo `0`. Zategadelj lahko k `lihih` prištejemo, preprosto, `s[0] % 2`, ki je pač kolikorsižebodi."
   ]
  },
  {
   "cell_type": "code",
   "execution_count": 14,
   "metadata": {},
   "outputs": [],
   "source": [
    "def prestej_liha(s):\n",
    "    if not s:\n",
    "        return 0\n",
    "    return s[0] % 2 + prestej_liha(s[1:])"
   ]
  },
  {
   "cell_type": "code",
   "execution_count": 15,
   "metadata": {},
   "outputs": [
    {
     "data": {
      "text/plain": [
       "3"
      ]
     },
     "execution_count": 15,
     "metadata": {},
     "output_type": "execute_result"
    }
   ],
   "source": [
    "prestej_liha([5, 3, 4, 8, 5, 6, 2])"
   ]
  },
  {
   "cell_type": "markdown",
   "metadata": {},
   "source": [
    "#### `ena_vec`\n",
    "\n",
    "Ako je seznam prazen, tu ni kaj: tak bode tudi ostal. Sicer pa sestavimo seznam tako, da k seznamu, ki vsebuje prvi element, povečan za 1, prištejemo seznam, ki vsebuje ostale elemente, povečane za 1."
   ]
  },
  {
   "cell_type": "code",
   "execution_count": 16,
   "metadata": {},
   "outputs": [],
   "source": [
    "def ena_vec(s):\n",
    "    if not s:\n",
    "        return s\n",
    "    return [s[0] + 1] + ena_vec(s[1:])"
   ]
  },
  {
   "cell_type": "code",
   "execution_count": 17,
   "metadata": {},
   "outputs": [
    {
     "data": {
      "text/plain": [
       "[6, 4, 5, 9, 6, 7, 3]"
      ]
     },
     "execution_count": 17,
     "metadata": {},
     "output_type": "execute_result"
    }
   ],
   "source": [
    "ena_vec([5, 3, 4, 8, 5, 6, 2])"
   ]
  },
  {
   "cell_type": "markdown",
   "metadata": {},
   "source": [
    "#### `zbij_liha`\n",
    "\n",
    "Ta funkcija pa je zmes vsega, kar smo počeli doslej. Če je prazen, vrnemo prazen seznam. Sicer pa prvega zmanjšamo za 1, če je njegov ostanek po deljenju z 1 enak 1. Če je enak 0, pa ga pustimo pri miru, ali pa se pohecamo in ga zmanjšamo za `0`. Hec je v tem primeru na mestu, ker skrajša program: število zmanjšamo za ostanek tega števila po deljenju z 2."
   ]
  },
  {
   "cell_type": "code",
   "execution_count": 18,
   "metadata": {},
   "outputs": [],
   "source": [
    "def zbij_liha(s):\n",
    "    if not s:\n",
    "        return s\n",
    "    return [s[0] - (s[0] % 2)] + zbij_liha(s[1:])"
   ]
  },
  {
   "cell_type": "code",
   "execution_count": 19,
   "metadata": {},
   "outputs": [
    {
     "data": {
      "text/plain": [
       "[4, 2, 4, 8, 4, 6, 2]"
      ]
     },
     "execution_count": 19,
     "metadata": {},
     "output_type": "execute_result"
    }
   ],
   "source": [
    "zbij_liha([5, 3, 4, 8, 5, 6, 2])"
   ]
  },
  {
   "cell_type": "markdown",
   "metadata": {},
   "source": [
    "Omembe vredno je tole: `s[0] - (s[0] % 2)`. Pisali bi lahko tudi kar `s[0] - s[0] % 2` in bi bilo isto, saj ima deljenje (in prav tako ostanek po deljenju) prednost pred odštevanjem. Vendar je oblika z oklepaji preglednejša, oblika brez pa ... čudna.\n",
    "\n",
    "## Dodatni del\n",
    "\n",
    "- Napiši funkcijo `zadnje_liho(s)`, ki prejme seznam števil in vrne zadnje liho število v njem. Če v seznamu ni lihih števil, pa naj vrne `False`.\n",
    "\n",
    "   Klic `zadnje_liho([5, 2, 8, 7, 1, 6])` vrne `1`.\n",
    "   \n",
    "#### Rešitev\n",
    "\n",
    "Če je seznam prazen, vrnemo `False`. Nato poiščemo zadnje liho število v preostanku seznama. Če obstaja, ga vrnemo, saj je to pač zadnje liho število, ne glede na to, ali je prvi element lih ali ne. Če ne obstaja (in funkcija za ostanek seznama vrne `False`, pa preverimo, ali je prvo število morda liho. Če, potem je to zadnje liho število `s`, saj v preostanku ni več lihih števil. Če pa tudi prvo število ni liho, v celem `s` ni lihih števil, torej vrnemo `False`. Z drugimi besedami, v drugem jeziku:"
   ]
  },
  {
   "cell_type": "code",
   "execution_count": 20,
   "metadata": {},
   "outputs": [],
   "source": [
    "def zadnje_liho(s):\n",
    "    if not s:\n",
    "        return False\n",
    "    zadnje = zadnje_liho(s[1:])\n",
    "    if zadnje != False:\n",
    "        return zadnje\n",
    "    if s[0] % 2 == 1:\n",
    "        return s[0]\n",
    "    return False"
   ]
  },
  {
   "cell_type": "code",
   "execution_count": 21,
   "metadata": {},
   "outputs": [
    {
     "data": {
      "text/plain": [
       "1"
      ]
     },
     "execution_count": 21,
     "metadata": {},
     "output_type": "execute_result"
    }
   ],
   "source": [
    "zadnje_liho([5, 2, 8, 7, 1, 6])"
   ]
  },
  {
   "cell_type": "markdown",
   "metadata": {},
   "source": [
    "Funkcija ima neko nenavadnost: drznil sem si napisati `if zadnje != False`, čeprav vas že skoraj od 1. oktobra prepričujem, da je to grozno in da se piše `if not zadnje`. Vendar je tule stvar nekoliko specifična: tu je zadnje lahko bodisi število (`int`) bodisi logična vrednost (`bool`). Tu me *v resnici* zanima, ali ni `False`.\n",
    "\n",
    "Nadalje se tu skriva past:"
   ]
  },
  {
   "cell_type": "code",
   "execution_count": 22,
   "metadata": {},
   "outputs": [
    {
     "data": {
      "text/plain": [
       "True"
      ]
     },
     "execution_count": 22,
     "metadata": {},
     "output_type": "execute_result"
    }
   ],
   "source": [
    "False == 0"
   ]
  },
  {
   "cell_type": "code",
   "execution_count": 23,
   "metadata": {},
   "outputs": [
    {
     "data": {
      "text/plain": [
       "False"
      ]
     },
     "execution_count": 23,
     "metadata": {},
     "output_type": "execute_result"
    }
   ],
   "source": [
    "False != 0"
   ]
  },
  {
   "cell_type": "markdown",
   "metadata": {},
   "source": [
    "Če bi bilo zadnje liho število v preostanku seznama slučajno enako 0, bi program zmotno mislil, da je funkcija vrnila `False`, saj je `0` in `False` eno in isto. Vendar `0` iz nekih razlogov, ki imajo korenine globoko v matematiki, ne more biti zadnje liho število v seznamu. (Tu se ne bomo preveč poglabljali v matematiko, tako da bom samo namignil: osnovni trik je v tem, da `0` ni liho število. :)-.\n",
    "\n",
    "Vseeno pa je lepo tule pisati takole:"
   ]
  },
  {
   "cell_type": "code",
   "execution_count": 24,
   "metadata": {},
   "outputs": [],
   "source": [
    "def zadnje_liho(s):\n",
    "    if not s:\n",
    "        return False\n",
    "    zadnje = zadnje_liho(s[1:])\n",
    "    if zadnje is False:\n",
    "        return zadnje\n",
    "    if s[0] % 2 == 1:\n",
    "        return s[0]\n",
    "    return False"
   ]
  },
  {
   "cell_type": "markdown",
   "metadata": {},
   "source": [
    "Zato ker"
   ]
  },
  {
   "cell_type": "code",
   "execution_count": 25,
   "metadata": {},
   "outputs": [
    {
     "data": {
      "text/plain": [
       "True"
      ]
     },
     "execution_count": 25,
     "metadata": {},
     "output_type": "execute_result"
    }
   ],
   "source": [
    "False == 0"
   ]
  },
  {
   "cell_type": "code",
   "execution_count": 26,
   "metadata": {},
   "outputs": [
    {
     "data": {
      "text/plain": [
       "False"
      ]
     },
     "execution_count": 26,
     "metadata": {},
     "output_type": "execute_result"
    }
   ],
   "source": [
    "False is 0"
   ]
  },
  {
   "cell_type": "markdown",
   "metadata": {},
   "source": [
    "#### Neželena alternativna rešitev\n",
    "\n",
    "Skoraj vsi študenti so izziv te naloge videli drugje. V vseh nalogah, kjer smo šli z rekurzijo prek seznama, smo šli od začetka proti koncu. Prvo liho število smo poiskali z"
   ]
  },
  {
   "cell_type": "code",
   "execution_count": 27,
   "metadata": {},
   "outputs": [],
   "source": [
    "def prvo_liho(s):\n",
    "    if not s:\n",
    "        return False\n",
    "    if s[0] % 2 == 1:\n",
    "        return s[0]\n",
    "    else:\n",
    "        return prvo_liho(s[1:])"
   ]
  },
  {
   "cell_type": "code",
   "execution_count": 28,
   "metadata": {},
   "outputs": [
    {
     "data": {
      "text/plain": [
       "5"
      ]
     },
     "execution_count": 28,
     "metadata": {},
     "output_type": "execute_result"
    }
   ],
   "source": [
    "prvo_liho([2, 4, 5, 3, 4, 8, 7, 2])"
   ]
  },
  {
   "cell_type": "markdown",
   "metadata": {},
   "source": [
    "Za zadnje liho so vse skupaj le obrnili in gledali s konca seznama."
   ]
  },
  {
   "cell_type": "code",
   "execution_count": 29,
   "metadata": {},
   "outputs": [],
   "source": [
    "def zadnje_liho(s):\n",
    "    if not s:\n",
    "        return False\n",
    "    if s[-1] % 2 == 1:\n",
    "        return s[-1]\n",
    "    else:\n",
    "        return zadnje_liho(s[:-1])"
   ]
  },
  {
   "cell_type": "code",
   "execution_count": 30,
   "metadata": {},
   "outputs": [
    {
     "data": {
      "text/plain": [
       "7"
      ]
     },
     "execution_count": 30,
     "metadata": {},
     "output_type": "execute_result"
    }
   ],
   "source": [
    "zadnje_liho([2, 4, 5, 3, 4, 8, 7, 2])"
   ]
  },
  {
   "cell_type": "markdown",
   "metadata": {},
   "source": [
    "OK. Čeprav je bila ideja v tem, da znamo najti zadnje liho ob iskanju naprej, ne nazaj.\n",
    "\n",
    "Ob sestavljanju naloge na to nisem niti pomislil. Ves hec rekurzije na seznamih namreč prihaja iz Lispa. To je jezik, ki nima spremenljivk in zato tudi ne zank, prav tako nima seznamov, temveč pare. Seznam `[2, 4, 5, 3, 4, 8, 7, 2]` bi se v Lispu zapisal kot"
   ]
  },
  {
   "cell_type": "code",
   "execution_count": 31,
   "metadata": {},
   "outputs": [],
   "source": [
    "s = (2, (4, (5, (3, (4, (8, (7, (2, None))))))))"
   ]
  },
  {
   "cell_type": "markdown",
   "metadata": {},
   "source": [
    "Za iskanje prvega lihega v takšnem seznamu bi napisali funkcijo"
   ]
  },
  {
   "cell_type": "code",
   "execution_count": 32,
   "metadata": {},
   "outputs": [],
   "source": [
    "def prvo_liho_lisp(s):\n",
    "    prvi, ostali = s\n",
    "    if prvi % 2 == 1:\n",
    "        return prvi\n",
    "    else:\n",
    "        return prvo_liho_lisp(ostali)"
   ]
  },
  {
   "cell_type": "code",
   "execution_count": 33,
   "metadata": {},
   "outputs": [
    {
     "data": {
      "text/plain": [
       "5"
      ]
     },
     "execution_count": 33,
     "metadata": {},
     "output_type": "execute_result"
    }
   ],
   "source": [
    "prvo_liho_lisp(s)"
   ]
  },
  {
   "cell_type": "markdown",
   "metadata": {},
   "source": [
    "(Samo da bi namesto `prvi` in `ostali` pisali `car` in `cdr`. Dolga zgodba.)\n",
    "\n",
    "Za iskanje zadnjega lihega trik z `s[-1]` zdaj ne vžge več, ker nimamo več nobenega pametnega načina za dostopanje do zadnjega elementa (izvzemši zanko), predvsem pa nimamo res nobenega pametnega načina, da odrežemo zadnji element (`s[:-1]`). Zato bi iskanje zadnjega nujno sprogramirali s funkcijo, podobno tisti v prvi rešitvi.\n",
    "\n",
    "Ob tem je potrebno omeniti, da je Lisp eden prvih računalniških jezikov in ga pogosto povezujejo tudi z umetno inteligenco. Ker je bil namenjen preprostim računalnikom, ima zelo malo elementov, torej je v nekem smislu zelo preprost. In prav zato zelo zapleten: sestavni deli, ki jih imamo na voljo, so zelo \"primitivni\", predvsem pa programiranje v njem zahteva zelo drugačen način razmišljanja kot v večini programskih jezikov, ki jih uporabljamo. To povedši pa moramo vseeno dodati, da je Lisp eden tistih starih jezikov, ki so najmanj mrtvi: ne le, da je inspiriral marsikaj v sodobnih jezikih, temveč je zaradi drugačnega načina razmišljanja uporaben za predstavljanje določenih konceptov in tudi za splošno rekreacijo programerjev.\n",
    "\n",
    "#### Napačna rešitev\n",
    "\n",
    "Tole ne deluje."
   ]
  },
  {
   "cell_type": "code",
   "execution_count": 49,
   "metadata": {},
   "outputs": [],
   "source": [
    "def zadnje_liho(s):\n",
    "    if not s:\n",
    "        return False\n",
    "    t = obrni(s)\n",
    "    if t[0] % 2 == 1:\n",
    "        return t[0]\n",
    "    else:\n",
    "        return zadnje_liho(t[1:])"
   ]
  },
  {
   "cell_type": "code",
   "execution_count": 50,
   "metadata": {},
   "outputs": [
    {
     "data": {
      "text/plain": [
       "5"
      ]
     },
     "execution_count": 50,
     "metadata": {},
     "output_type": "execute_result"
    }
   ],
   "source": [
    "zadnje_liho([2, 4, 5, 6, 8, 9, 10, 12, 14])"
   ]
  },
  {
   "cell_type": "markdown",
   "metadata": {},
   "source": [
    "Problem je v tem, da se seznam obrne ob vsakem klicu. O tem se hitro prepričamo z dodatnim `print`-om."
   ]
  },
  {
   "cell_type": "code",
   "execution_count": 52,
   "metadata": {},
   "outputs": [],
   "source": [
    "def zadnje_liho(s):\n",
    "    print(s)\n",
    "    if not s:\n",
    "        return False\n",
    "    t = obrni(s)\n",
    "    if t[0] % 2 == 1:\n",
    "        return t[0]\n",
    "    else:\n",
    "        return zadnje_liho(t[1:])"
   ]
  },
  {
   "cell_type": "code",
   "execution_count": 53,
   "metadata": {},
   "outputs": [
    {
     "name": "stdout",
     "output_type": "stream",
     "text": [
      "[2, 4, 5, 6, 8, 9, 10, 12, 14]\n",
      "[12, 10, 9, 8, 6, 5, 4, 2]\n",
      "[4, 5, 6, 8, 9, 10, 12]\n",
      "[10, 9, 8, 6, 5, 4]\n",
      "[5, 6, 8, 9, 10]\n",
      "[9, 8, 6, 5]\n"
     ]
    },
    {
     "data": {
      "text/plain": [
       "5"
      ]
     },
     "execution_count": 53,
     "metadata": {},
     "output_type": "execute_result"
    }
   ],
   "source": [
    "zadnje_liho([2, 4, 5, 6, 8, 9, 10, 12, 14])"
   ]
  },
  {
   "cell_type": "markdown",
   "metadata": {},
   "source": [
    "Funkcija bo vrnila prvo ali zadnje liho število, odvisno od tega, kateri je bližji robu.\n",
    "\n",
    "Ta napaka je zanimiva, ker kaže na to, da ne razumemo ali pa nismo dobro razmislili, kaj se dogaja v rekurziji."
   ]
  }
 ],
 "metadata": {
  "kernelspec": {
   "display_name": "Python 3",
   "language": "python",
   "name": "python3"
  },
  "language_info": {
   "codemirror_mode": {
    "name": "ipython",
    "version": 3
   },
   "file_extension": ".py",
   "mimetype": "text/x-python",
   "name": "python",
   "nbconvert_exporter": "python",
   "pygments_lexer": "ipython3",
   "version": "3.7.4"
  }
 },
 "nbformat": 4,
 "nbformat_minor": 4
}
