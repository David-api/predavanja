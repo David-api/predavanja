{
 "cells": [
  {
   "cell_type": "markdown",
   "metadata": {},
   "source": [
    "## Ponovitev: Preštevanje daril\n",
    "\n",
    "Dudley je za rojstni dan dobil darila, katerih imena je zložil v seznam, recimo `[\"avto\", \"lok\", \"avto\", \"avto\", \"bomboni\", \"lok\"]`.\n",
    "\n",
    "- Napiši funkcijo `prestej(s)`, ki dobi takšen seznam in vrne slovar, katerega ključi so imena daril, pripadajoče vrednosti pa število kosov tega darila. Za gornji seznam bi funkcija vrnila `{\"avto\": 3, \"lok\": 2, \"bomboni\": 1}`.\n",
    "\n",
    "### Rešitev\n",
    "\n",
    "Če mora funkcija vrniti slovar, mora najprej narediti slovar. Prazen slovar. Nato gremo čez darila. Če je že dobil kakšno takšno darilo, povečamo števec. Če ni, ga vstavimo v slovar in zabeležimo, da je dobil en izvod tega darila."
   ]
  },
  {
   "cell_type": "code",
   "execution_count": 1,
   "metadata": {},
   "outputs": [
    {
     "data": {
      "text/plain": [
       "{'avto': 3, 'lok': 2, 'bomboni': 1}"
      ]
     },
     "execution_count": 1,
     "metadata": {},
     "output_type": "execute_result"
    }
   ],
   "source": [
    "def prestej(darila):\n",
    "    stevila = {}\n",
    "    for darilo in darila:\n",
    "        if darilo in stevila:\n",
    "            stevila[darilo] += 1\n",
    "        else:\n",
    "            stevila[darilo] = 1\n",
    "    return stevila\n",
    "\n",
    "prestej([\"avto\", \"lok\", \"avto\", \"avto\", \"bomboni\", \"lok\"])"
   ]
  },
  {
   "cell_type": "markdown",
   "metadata": {},
   "source": [
    "Alternativa je, da darila, ki jih še ni dobil, dodamo v slovar z vrednostjo 0 in potem v vsakem primeru povečamo števec."
   ]
  },
  {
   "cell_type": "code",
   "execution_count": 2,
   "metadata": {},
   "outputs": [
    {
     "data": {
      "text/plain": [
       "{'avto': 3, 'lok': 2, 'bomboni': 1}"
      ]
     },
     "execution_count": 2,
     "metadata": {},
     "output_type": "execute_result"
    }
   ],
   "source": [
    "def prestej(darila):\n",
    "    stevila = {}\n",
    "    for darilo in darila:\n",
    "        if darilo not in stevila:\n",
    "            stevila[darilo] = 0\n",
    "        stevila[darilo] += 1\n",
    "    return stevila\n",
    "\n",
    "prestej([\"avto\", \"lok\", \"avto\", \"avto\", \"bomboni\", \"lok\"])"
   ]
  },
  {
   "cell_type": "markdown",
   "metadata": {},
   "source": [
    "Na predavanjih sem najbrž povedal za `defaultdict` - ali pa morda tudi ne, saj ga skoraj noben študent ni uporabil. Torej bo zanj potrebno povedati ali pa ga vsaj ponoviti. Dobimo ga v modulu `collections`. `defaultdict` nas odreši nastavljanja manjkajočih elementov iz 0."
   ]
  },
  {
   "cell_type": "code",
   "execution_count": 3,
   "metadata": {},
   "outputs": [
    {
     "data": {
      "text/plain": [
       "defaultdict(int, {'avto': 3, 'lok': 2, 'bomboni': 1})"
      ]
     },
     "execution_count": 3,
     "metadata": {},
     "output_type": "execute_result"
    }
   ],
   "source": [
    "from collections import defaultdict\n",
    "\n",
    "def prestej(darila):\n",
    "    stevila = defaultdict(int)\n",
    "    for darilo in darila:\n",
    "        stevila[darilo] += 1\n",
    "    return stevila\n",
    "\n",
    "prestej([\"avto\", \"lok\", \"avto\", \"avto\", \"bomboni\", \"lok\"])"
   ]
  },
  {
   "cell_type": "markdown",
   "metadata": {},
   "source": [
    "Ta funkcija sicer ne vrne slovarja (`dict`) temveč slovar s privzetimi vrednostmi (`defaultdict`), kar ni čisto skladno z navodili naloge ... Ali pač. `defaultdict` je v resnici samo posebna vrsta `dict`-a.\n",
    "\n",
    "Pač pa je več študentov odkrilo `Counter`. To je lepo, res pa so se o tem naučili manj o programiranju in več o googlanju. Če uporabimo `Counter`, namreč ni česa programirati, saj je vse že narejeno."
   ]
  },
  {
   "cell_type": "code",
   "execution_count": 4,
   "metadata": {},
   "outputs": [
    {
     "data": {
      "text/plain": [
       "Counter({'avto': 3, 'lok': 2, 'bomboni': 1})"
      ]
     },
     "execution_count": 4,
     "metadata": {},
     "output_type": "execute_result"
    }
   ],
   "source": [
    "from collections import Counter\n",
    "\n",
    "def prestej(darila):\n",
    "    return Counter(darila)\n",
    "\n",
    "prestej([\"avto\", \"lok\", \"avto\", \"avto\", \"bomboni\", \"lok\"])"
   ]
  },
  {
   "cell_type": "markdown",
   "metadata": {},
   "source": [
    "## Obvezna naloga\n",
    "\n",
    "V posameznem paketu je lahko več daril - a vedno iste vrste, da ne bi bilo zmede. Tako je dobil, recimo paket z dvema avtoma, paket z dvema lokoma, paket s štirimi avti, paket z enim avtom, paket z 42 bomboni in paket s tremi loki, ali, v Pythonu: `[(\"avto\", 2), (\"lok\", 2), (\"avto\", 4), (\"avto\", 1), (\"bomboni\", 42), (\"lok\", 3)]`.\n",
    "\n",
    "- Napiši funkcijo `sestej(darila)`, ki dobi seznam v tej obliki in vrne podoben slovar kot v ogrevalni nalogi, torej, `{\"avto\": 7, \"lok\": 5, \"bomboni\": 42}`.\n",
    "\n",
    "- Poleg tega napiši funkcijo `stevilo_daril(darila)`, ki prejme slovar, kot ga vrača gornja funkcija (recimo `{\"avto\": 7, \"lok\": 5, \"bomboni\": 42}`) in vrne skupno število daril (v gornjem primeru 54, to je `7 + 5 + 42`).\n",
    "\n",
    "- Napiši tudi funkcijo `razlicnih_daril(darila)`, ki dobi takšen slovar in vrne število različnih daril - v gornjem primeru 3.\n",
    "\n",
    "- Napiši funkcijo `cena(darila, cene)`, ki prejme takšen slovar in slovar s cenami različnih daril, vrne pa skupno ceno prejetih daril. Če pokličemo, recimo,\n",
    "\n",
    "```python\n",
    "cena({\"avto\": 7, \"lok\": 5, \"bomboni\": 42},\n",
    "     {\"avto\": 3, \"lok\": 5, \"bomboni\": 1, \"dron\": 10})\n",
    "```\n",
    "\n",
    "(avto stane 3 evre, lok 5, bombon 1, dron 10), je skupna cena daril 88 (`7 * 3 + 5 * 5 + 42 * 1`). V slovarju s cenami so cene vseh daril, ki jih je prejel, lahko pa je v njem tudi cena česa, česar mu niso kupili.\n",
    "\n",
    "\n",
    "### Rešitev\n",
    "\n",
    "#### Funkcija: `sestej`\n",
    "\n",
    "Podobna reč, le da ne gremo prek daril, temveč prek parov daril in količin.\n",
    "Namesto, da bi povečevali za `1` (oz. postavljali na `1`), povečujemo za\n",
    "(in postavljamo na) `kolicina`."
   ]
  },
  {
   "cell_type": "code",
   "execution_count": 5,
   "metadata": {},
   "outputs": [
    {
     "data": {
      "text/plain": [
       "{'avto': 7, 'lok': 5, 'bomboni': 42}"
      ]
     },
     "execution_count": 5,
     "metadata": {},
     "output_type": "execute_result"
    }
   ],
   "source": [
    "def sestej(darila):\n",
    "    stevila = {}\n",
    "    for darilo, kolicina in darila:\n",
    "        if darilo in stevila:\n",
    "            stevila[darilo] += kolicina\n",
    "        else:\n",
    "            stevila[darilo] = kolicina\n",
    "    return stevila\n",
    "\n",
    "sestej([(\"avto\", 2), (\"lok\", 2), (\"avto\", 4), (\"avto\", 1), (\"bomboni\", 42), (\"lok\", 3)])"
   ]
  },
  {
   "cell_type": "markdown",
   "metadata": {},
   "source": [
    "Ali z, recimo, `defaultdict`-om:"
   ]
  },
  {
   "cell_type": "code",
   "execution_count": 6,
   "metadata": {},
   "outputs": [
    {
     "data": {
      "text/plain": [
       "defaultdict(int, {'avto': 7, 'lok': 5, 'bomboni': 42})"
      ]
     },
     "execution_count": 6,
     "metadata": {},
     "output_type": "execute_result"
    }
   ],
   "source": [
    "def sestej(darila):\n",
    "    stevila = defaultdict(int)\n",
    "    for darilo, kolicina in darila:\n",
    "        stevila[darilo] += kolicina\n",
    "    return stevila\n",
    "\n",
    "sestej([(\"avto\", 2), (\"lok\", 2), (\"avto\", 4), (\"avto\", 1), (\"bomboni\", 42), (\"lok\", 3)])"
   ]
  },
  {
   "cell_type": "markdown",
   "metadata": {},
   "source": [
    "Kdor je v začetnem delu uporabil `Counter`, tokrat nima več sreče z bližnjicami. :)\n",
    "\n",
    "#### Funkcija: `vseh_daril`\n",
    "\n",
    "Če vemo, da `stevila.values()` vrne vse vrednosti in da funkcija `sum` sešteje,\n",
    "kar ji damo, je preštevanje vseh daril trivialno."
   ]
  },
  {
   "cell_type": "code",
   "execution_count": 7,
   "metadata": {},
   "outputs": [
    {
     "data": {
      "text/plain": [
       "54"
      ]
     },
     "execution_count": 7,
     "metadata": {},
     "output_type": "execute_result"
    }
   ],
   "source": [
    "def vseh_daril(stevila):\n",
    "    return sum(stevila.values())\n",
    "\n",
    "vseh_daril({\"avto\": 7, \"lok\": 5, \"bomboni\": 42})"
   ]
  },
  {
   "cell_type": "markdown",
   "metadata": {},
   "source": [
    "Po pričakovanjih je precej študentov tu pozabilo na funkcijo `sum`, tako da so seštevali sami. Tudi prav. Vaja iz tipkanja ne bo škodila. Pa iz programiranja tudi ne.\n",
    "\n",
    "#### Funkcija: `stevilo_daril`\n",
    "\n",
    "Število različnih daril je kar število ključev v slovarju. Vsak ključ je namreč unikaten."
   ]
  },
  {
   "cell_type": "code",
   "execution_count": 8,
   "metadata": {},
   "outputs": [
    {
     "data": {
      "text/plain": [
       "3"
      ]
     },
     "execution_count": 8,
     "metadata": {},
     "output_type": "execute_result"
    }
   ],
   "source": [
    "def stevilo_daril(darila):\n",
    "    return len(darila)\n",
    "\n",
    "stevilo_daril({\"avto\": 7, \"lok\": 5, \"bomboni\": 42})"
   ]
  },
  {
   "cell_type": "markdown",
   "metadata": {},
   "source": [
    "Zanimivo, koliko študentov je dolžino slovarja raje izračunalo z zanko."
   ]
  },
  {
   "cell_type": "code",
   "execution_count": 9,
   "metadata": {},
   "outputs": [
    {
     "data": {
      "text/plain": [
       "3"
      ]
     },
     "execution_count": 9,
     "metadata": {},
     "output_type": "execute_result"
    }
   ],
   "source": [
    "def stevilo_daril(darila):\n",
    "    i = 0\n",
    "    for darilo in darila:\n",
    "        i += 1\n",
    "    return i\n",
    "\n",
    "stevilo_daril({\"avto\": 7, \"lok\": 5, \"bomboni\": 42})"
   ]
  },
  {
   "cell_type": "markdown",
   "metadata": {},
   "source": [
    "Vaja iz tipkanja je mogoče res koristna, v smislu programiranja pa tale vaja pravzaprav ni nek presežek.\n",
    "\n",
    "#### Funkcija: `cena`\n",
    "\n",
    "Za računanje cene gremo prek parov daril in kosov. Za to uporabimo\n",
    "`stevila.items()`. Za vsako `darilo` pogledamo, koliko stane; to imamo,\n",
    "priročno, zapisano v `cene[darilo]`. Ceno pomnožimo s številom kosov in\n",
    "prištejemo k vsoti."
   ]
  },
  {
   "cell_type": "code",
   "execution_count": 10,
   "metadata": {},
   "outputs": [
    {
     "data": {
      "text/plain": [
       "88"
      ]
     },
     "execution_count": 10,
     "metadata": {},
     "output_type": "execute_result"
    }
   ],
   "source": [
    "cene = {\"avto\": 3, \"lok\": 5, \"bomboni\": 1, \"dron\": 10}\n",
    "\n",
    "def cena(stevila, cene):\n",
    "    vsota = 0\n",
    "    for darilo, kosov in stevila.items():\n",
    "        vsota += kosov * cene[darilo]\n",
    "    return vsota\n",
    "\n",
    "cena({\"avto\": 7, \"lok\": 5, \"bomboni\": 42}, cene)"
   ]
  },
  {
   "cell_type": "markdown",
   "metadata": {},
   "source": [
    "Po pričakovanjih vas je precej sprogramiralo funkcijo `cena` takole:"
   ]
  },
  {
   "cell_type": "code",
   "execution_count": 11,
   "metadata": {},
   "outputs": [
    {
     "data": {
      "text/plain": [
       "42"
      ]
     },
     "execution_count": 11,
     "metadata": {},
     "output_type": "execute_result"
    }
   ],
   "source": [
    "def cena(darila, cene):\n",
    "    cena=0\n",
    "    for darilo, kosov in cene.items():\n",
    "        for darilo1, cena in darila.items():\n",
    "            if darilo == darilo1:\n",
    "                cena += kosov * cena\n",
    "    return cena\n",
    "\n",
    "cena({\"avto\": 7, \"lok\": 5, \"bomboni\": 42}, cene)"
   ]
  },
  {
   "cell_type": "markdown",
   "metadata": {},
   "source": [
    "To je kar slabo. Ne samo, da je notranja zanka je počasna in nepotrebna -- slovarje imamo namreč prav zato, da nam je ne bi bilo potrebno pisati. Slabo je predvsem to, da to pomeni, da še ne vemo čisto dobro, kaj slovarji so in kaj se da z njimi početi. Da jih pravzaprav še ne razumemo čisto. Vendar ... bo že prišlo, sčasoma.\n",
    "\n",
    "\n",
    "## Dodatna naloga: Napredek\n",
    "\n",
    "Dudley je, kot je znano, občutljiv na to, koliko daril prejme.\n",
    "\n",
    "- Napiši funkcijo `napredek(lani, letos)`, ki prejme dva slovarja - prvi vsebuje lanska darila, drugi letošnja funkcija naj vrne slovar, katerega ključi so imena daril, katerih število je letos drugačno kot lani, pripadajoče vrednosti pa povedo, za koliko. Če pokličemo\n",
    "\n",
    "```python\n",
    "napredek({\"avto\": 3, \"lok\": 5, \"bomboni\": 3, \"dron\": 1},\n",
    "         {\"avto\": 8, \"lok\": 3, \"bomboni\": 3, \"čokolada\": 2})\n",
    "```\n",
    "\n",
    "Funkcija vrne `{\"avto\": 5, \"lok\": -2, \"dron\": -1, \"čokolada\": 2}`. Ne spreglej, da rezultat ne vsebuje bombonov, saj jih je prejel toliko kot lani.\n",
    "\n",
    "\n",
    "### Rešitev\n",
    "\n",
    "Pregledati bo potrebno oba slovarja.\n",
    "\n",
    "- Za vsako stvar, ki jo je dobil letos (`for darilo, kolicina in letos.items()`) preverimo, ali je lani ni (v tem primeru je napredek očiten: `razlika[darilo] = kolicia`; sicer pa preverimo, ali je letošnja količina tega darila različna od lanske in v tem primeru zabeležimo razliko.\n",
    "- Za vsako stvar, ki jo je prejel lani, preverimo, ali je letos ni in v tem primeru zabeležimo  negativen trend (`razlika[darilo] = -kolicina`)."
   ]
  },
  {
   "cell_type": "code",
   "execution_count": 12,
   "metadata": {},
   "outputs": [
    {
     "data": {
      "text/plain": [
       "{'avto': 5, 'lok': -2, 'čokolada': 2, 'dron': -1}"
      ]
     },
     "execution_count": 12,
     "metadata": {},
     "output_type": "execute_result"
    }
   ],
   "source": [
    "def napredek(lani, letos):\n",
    "    razlika = {}\n",
    "    for darilo, kolicina in letos.items():\n",
    "        if darilo not in lani:\n",
    "            razlika[darilo] = kolicina\n",
    "        elif kolicina != lani[darilo]:\n",
    "            razlika[darilo] = kolicina - lani[darilo]\n",
    "    \n",
    "    for darilo, kolicina in lani.items():\n",
    "        if darilo not in letos:\n",
    "            razlika[darilo] = -kolicina\n",
    "            \n",
    "    return razlika\n",
    "\n",
    "napredek({\"avto\": 3, \"lok\": 5, \"bomboni\": 3, \"dron\": 1},\n",
    "         {\"avto\": 8, \"lok\": 3, \"bomboni\": 3, \"čokolada\": 2})"
   ]
  },
  {
   "cell_type": "markdown",
   "metadata": {},
   "source": [
    "Nekateri študenti radi pišejo `0 - kolicina`. Ni potrebe po odštevanju od 0. Pythonov `-` se vede tudi kot unarni operator. Predpostavljam, da bi si `x = -15` upali napisati? In ne bi pisali `x = 0 - 15`? :)\n",
    "\n",
    "Program lahko malenkost skrajšamo, če uporabimo `get`: če darila ni v lanskem slovarju, to pomeni, da je lani dobil 0 kosov tega darila."
   ]
  },
  {
   "cell_type": "code",
   "execution_count": 13,
   "metadata": {},
   "outputs": [
    {
     "data": {
      "text/plain": [
       "{'avto': 5, 'lok': -2, 'čokolada': 2, 'dron': -1}"
      ]
     },
     "execution_count": 13,
     "metadata": {},
     "output_type": "execute_result"
    }
   ],
   "source": [
    "def napredek(lani, letos):\n",
    "    razlika = {}\n",
    "    for darilo, kolicina in letos.items():\n",
    "        delta = kolicina - lani.get(darilo, 0)\n",
    "        if delta != 0:\n",
    "            razlika[darilo] = delta\n",
    "    \n",
    "    for darilo, kolicina in lani.items():\n",
    "        if darilo not in letos:\n",
    "            razlika[darilo] = -kolicina\n",
    "            \n",
    "    return razlika\n",
    "\n",
    "napredek({\"avto\": 3, \"lok\": 5, \"bomboni\": 3, \"dron\": 1},\n",
    "         {\"avto\": 8, \"lok\": 3, \"bomboni\": 3, \"čokolada\": 2})"
   ]
  },
  {
   "cell_type": "markdown",
   "metadata": {},
   "source": [
    "Prav dosti pa nismo profitirali.\n",
    "\n",
    "Pač pa so nekateri razmišljali podobno, vendar so se `get`-u izognili tako, da so dopolnili slovar."
   ]
  },
  {
   "cell_type": "code",
   "execution_count": 14,
   "metadata": {},
   "outputs": [
    {
     "data": {
      "text/plain": [
       "{'avto': 5, 'lok': -2, 'čokolada': 2, 'dron': -1}"
      ]
     },
     "execution_count": 14,
     "metadata": {},
     "output_type": "execute_result"
    }
   ],
   "source": [
    "def napredek(lani, letos):\n",
    "    # Tole je zelo slaba ideja!!!\n",
    "    for darilo in letos:\n",
    "        if darilo not in lani:\n",
    "            lani[darilo] = 0\n",
    "            \n",
    "    razlika = {}\n",
    "    for darilo, kolicina in letos.items():\n",
    "        delta = kolicina - lani.get(darilo, 0)\n",
    "        if delta != 0:\n",
    "            razlika[darilo] = delta\n",
    "    \n",
    "    for darilo, kolicina in lani.items():\n",
    "        if darilo not in letos:\n",
    "            razlika[darilo] = -kolicina\n",
    "            \n",
    "    return razlika\n",
    "\n",
    "napredek({\"avto\": 3, \"lok\": 5, \"bomboni\": 3, \"dron\": 1},\n",
    "         {\"avto\": 8, \"lok\": 3, \"bomboni\": 3, \"čokolada\": 2})"
   ]
  },
  {
   "cell_type": "markdown",
   "metadata": {},
   "source": [
    "**To se ne počne.** Poglejte tole:"
   ]
  },
  {
   "cell_type": "code",
   "execution_count": 15,
   "metadata": {},
   "outputs": [
    {
     "name": "stdout",
     "output_type": "stream",
     "text": [
      "Napredek: {'avto': 8, 'lok': 3, 'bomboni': 3, 'čokolada': 2}\n",
      "Lani: {'avto': 0, 'lok': 0, 'bomboni': 0, 'čokolada': 0}\n"
     ]
    }
   ],
   "source": [
    "lani = {}\n",
    "letos = {\"avto\": 8, \"lok\": 3, \"bomboni\": 3, \"čokolada\": 2}\n",
    "print(\"Napredek:\", napredek(lani, letos))\n",
    "print(\"Lani:\", lani)"
   ]
  },
  {
   "cell_type": "markdown",
   "metadata": {},
   "source": [
    "Funkcija je zapackala slovar `lani`, vanj je svojevoljno dodajala nove elemente. To se ne dela!\n",
    "\n",
    "Si predstavljate, da bi bila funkcija `sum`, ki vrne vsoto elementov seznama, napisana tako?"
   ]
  },
  {
   "cell_type": "code",
   "execution_count": 16,
   "metadata": {},
   "outputs": [],
   "source": [
    "def sum(s):\n",
    "   v = 0\n",
    "   while s != []:\n",
    "       v += s.pop()\n",
    "   return v"
   ]
  },
  {
   "cell_type": "markdown",
   "metadata": {},
   "source": [
    "Saj dela ... samo seznam izprazni!"
   ]
  },
  {
   "cell_type": "code",
   "execution_count": 17,
   "metadata": {},
   "outputs": [
    {
     "name": "stdout",
     "output_type": "stream",
     "text": [
      "Vsota, prvič: 11\n",
      "Seznam po vsoti: []\n",
      "Vsota, drugič: 0\n"
     ]
    }
   ],
   "source": [
    "s = [2, 4, 5]\n",
    "print(\"Vsota, prvič:\", sum(s))\n",
    "print(\"Seznam po vsoti:\", s)\n",
    "print(\"Vsota, drugič:\", sum(s))"
   ]
  },
  {
   "cell_type": "markdown",
   "metadata": {},
   "source": [
    "Funkcije ne smejo nikoli, nikoli, nikoli spreminjati seznamov, slovarjev ... česarkoli, kar so dobile kot argument. Razen, seveda, če je točno to njihov namen. Za hrbtom pa - ne.\n",
    "\n",
    "## Rešitve, kot se jih bomo učili kmalu\n",
    "\n",
    "```python\n",
    "def prestej(s):\n",
    "    return {x: s.count(x) for x in s}\n",
    "\n",
    "def sestej(darila):\n",
    "    return {darilo: sum(y for x, y in darila if x == darilo) for darilo, _ in darila}\n",
    "\n",
    "def vseh_daril(darila):\n",
    "    return sum(darila.values())\n",
    "\n",
    "def razlicnih_daril(darila):\n",
    "    return len(darila)\n",
    "\n",
    "def cena(darila, cene):\n",
    "    return sum(stevilo * cene[darilo] for darilo, stevilo in darila.items())\n",
    "\n",
    "def napredek(lani, letos):\n",
    "    return {x: letos.get(x, 0) - lani.get(x, 0) for x in set(letos) | set(lani) if letos.get(x, 0) != lani.get(x, 0)}\n",
    "```"
   ]
  }
 ],
 "metadata": {
  "kernelspec": {
   "display_name": "Python 3",
   "language": "python",
   "name": "python3"
  },
  "language_info": {
   "codemirror_mode": {
    "name": "ipython",
    "version": 3
   },
   "file_extension": ".py",
   "mimetype": "text/x-python",
   "name": "python",
   "nbconvert_exporter": "python",
   "pygments_lexer": "ipython3",
   "version": "3.7.4"
  }
 },
 "nbformat": 4,
 "nbformat_minor": 4
}
