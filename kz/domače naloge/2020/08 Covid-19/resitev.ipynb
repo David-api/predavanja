{
 "cells": [
  {
   "cell_type": "markdown",
   "metadata": {},
   "source": [
    "## Covid-19\n",
    "\n",
    "Požvižgale so se na prepovedi in skupaj kofetkale, telovadile ...\n",
    "\n",
    "Takole lahko predstavimo, kdo je bil kje."
   ]
  },
  {
   "cell_type": "code",
   "execution_count": 1,
   "metadata": {},
   "outputs": [],
   "source": [
    "obiski = [(\"Ana\", \"kava\"), (\"Berta\", \"kava\"), (\"Cilka\", \"telovadba\"),\n",
    "          (\"Dani\", \"zdravnik\"), (\"Ana\", \"zdravnik\"), (\"Cilka\", \"kava\"),\n",
    "          (\"Ema\", \"telovadba\"), (\"Fanči\", \"telovadba\"),\n",
    "          (\"Greta\", \"telovadba\")]"
   ]
  },
  {
   "cell_type": "markdown",
   "metadata": {},
   "source": [
    "## Za oceno 6\n",
    "\n",
    "Napiši naslednje funkcije:\n",
    "\n",
    "- `osebe(obiski)` prejme seznam, kot je gornji, in vrne množico imen vseh oseb, ki se pojavljajo v njih; za gornje podatke vrne `{\"Ana\", \"Berta\", \"Cilka\", \"Dani\", \"Ema\", \"Fanči\", \"Greta\"}`.\n",
    "\n",
    "- `aktivnosti(obiski)` prejme seznam, kot je gornji in vrne množico vseh aktivnosti; v gornjem primeru `{\"kava\", \"telovadba\", \"zdravnik\"}`.\n",
    "\n",
    "- `udelezenci(aktivnost, obiski)` prejme ime aktivnosti, na primer `\"kava\"` in seznam, kot je gornji, ter vrne množico imen vseh, ki so sodelovali v tej aktivnosti (torej `{\"Ana\", \"Berta\", \"Cilka\"}`.)\n",
    "\n",
    "- `po_aktivnostih(obiski)` prav tako prejme seznam, vrne pa slovar, katerega ključi so aktivnosti, vrednosti pa osebe, ki so se udeleževale te aktivnosti, na primer\n",
    "\n",
    "    ```python\n",
    "    {\"kava\": {\"Ana\", \"Berta\", \"Cilka\"},\n",
    "     \"zdravnik\": {\"Ana\", \"Dani\"},\n",
    "     \"telovadba\": {\"Cilka\", \"Ema\"}}\n",
    "    ```\n",
    "\n",
    "- `skupine(obiski)` vrne seznam množic ljudi, ki so se družile ob posameznih aktivnostih. Za gornji primer vrne `[{\"Ana\", \"Berta\", \"Cilka\"}, {\"Ana\", \"Dani\"}, {\"Cilka\", \"Ema\"}]`. Vrstni red množic v seznamu je lahko poljuben.\n",
    "\n",
    "### Rešitev\n",
    "\n",
    "Prve tri so res preproste. Zahtevajo samo, da znamo sestaviti slovar."
   ]
  },
  {
   "cell_type": "code",
   "execution_count": 2,
   "metadata": {},
   "outputs": [],
   "source": [
    "def osebe(obiski):\n",
    "    vse_osebe = set()\n",
    "    for oseba, aktivnost in obiski:\n",
    "        vse_osebe.add(oseba)\n",
    "    return vse_osebe\n",
    "\n",
    "def aktivnosti(obiski):\n",
    "    vse_aktivnosti = set()\n",
    "    for oseba, aktivnost in obiski:\n",
    "        vse_aktivnosti.add(aktivnost)\n",
    "    return vse_aktivnosti\n",
    "\n",
    "def udelezenci(aktivnost, obiski):\n",
    "    vsi_udelezenci = set()\n",
    "    for oseba, aktivnost1 in obiski:\n",
    "        if aktivnost1 == aktivnost:\n",
    "            vsi_udelezenci.add(oseba)\n",
    "    return vsi_udelezenci"
   ]
  },
  {
   "cell_type": "markdown",
   "metadata": {},
   "source": [
    "Hitro jih še preskusimo."
   ]
  },
  {
   "cell_type": "code",
   "execution_count": 3,
   "metadata": {},
   "outputs": [
    {
     "data": {
      "text/plain": [
       "{'Ana', 'Berta', 'Cilka', 'Dani', 'Ema', 'Fanči', 'Greta'}"
      ]
     },
     "execution_count": 3,
     "metadata": {},
     "output_type": "execute_result"
    }
   ],
   "source": [
    "osebe(obiski)"
   ]
  },
  {
   "cell_type": "code",
   "execution_count": 4,
   "metadata": {},
   "outputs": [
    {
     "data": {
      "text/plain": [
       "{'kava', 'telovadba', 'zdravnik'}"
      ]
     },
     "execution_count": 4,
     "metadata": {},
     "output_type": "execute_result"
    }
   ],
   "source": [
    "aktivnosti(obiski)"
   ]
  },
  {
   "cell_type": "code",
   "execution_count": 5,
   "metadata": {},
   "outputs": [
    {
     "data": {
      "text/plain": [
       "{'Ana', 'Berta', 'Cilka'}"
      ]
     },
     "execution_count": 5,
     "metadata": {},
     "output_type": "execute_result"
    }
   ],
   "source": [
    "udelezenci(\"kava\", obiski)"
   ]
  },
  {
   "cell_type": "markdown",
   "metadata": {},
   "source": [
    "Tudi v izpeljane sezname jih pretvorimo, ne da bi zašvicali."
   ]
  },
  {
   "cell_type": "code",
   "execution_count": 6,
   "metadata": {},
   "outputs": [],
   "source": [
    "def osebe(obiski):\n",
    "    return {oseba for oseba, aktivnost in obiski}\n",
    "\n",
    "def aktivnosti(obiski):\n",
    "    return {aktivnost for oseba, aktivnost in obiski}\n",
    "\n",
    "def udelezenci(aktivnost, obiski):\n",
    "    return {oseba for oseba, aktivnost1 in obiski if aktivnost1 == aktivnost}"
   ]
  },
  {
   "cell_type": "markdown",
   "metadata": {},
   "source": [
    "Funkcija `po_aktivnostih` je preprosta, če uporabimo funkciji `aktivnosti` in `udeleženci`."
   ]
  },
  {
   "cell_type": "code",
   "execution_count": 7,
   "metadata": {},
   "outputs": [],
   "source": [
    "def po_aktivnostih(obiski):\n",
    "    po_akt = {}\n",
    "    for aktivnost in aktivnosti(obiski):\n",
    "        po_akt[aktivnost] = udelezenci(aktivnost, obiski)\n",
    "    return po_akt"
   ]
  },
  {
   "cell_type": "markdown",
   "metadata": {},
   "source": [
    "Brez njiju nas čaka tole:"
   ]
  },
  {
   "cell_type": "code",
   "execution_count": 8,
   "metadata": {},
   "outputs": [],
   "source": [
    "from collections import defaultdict\n",
    "\n",
    "def po_aktivnostih(obiski):\n",
    "    po_akt = defaultdict(set)\n",
    "    for oseba, aktivnost in obiski:\n",
    "        po_akt[aktivnost].add(oseba)\n",
    "    return po_akt"
   ]
  },
  {
   "cell_type": "markdown",
   "metadata": {},
   "source": [
    "Ali, če se ne domislimo `defaultdict`-a, celo tole:"
   ]
  },
  {
   "cell_type": "code",
   "execution_count": 9,
   "metadata": {},
   "outputs": [],
   "source": [
    "def po_aktivnostih(obiski):\n",
    "    po_akt = {}\n",
    "    for oseba, aktivnost in obiski:\n",
    "        if aktivnost not in po_akt:\n",
    "            po_akt[aktivnost] = set()\n",
    "        po_akt[aktivnost].add(oseba)\n",
    "    return po_akt"
   ]
  },
  {
   "cell_type": "markdown",
   "metadata": {},
   "source": [
    "Nobena od teh dveh tudi ne bo voljna zlesti v eno vrstico, v izpeljan slovar. Bistvena razlika med tema dvema funkcijama in prvo je, da tidve dodajata v slovar: vanj vstavita nek ključ in vrednost, kasneje pa k tej vrednosti še dodajata. Izpeljani slovarji pa so \"deklarativni\": povemo, kaj je ključ in kakšna je pripadajoča vrednost. Kasnejšega dodajanja ni.\n",
    "\n",
    "Prva pa se kar sama ponuja, da bi šla v eno vrstico."
   ]
  },
  {
   "cell_type": "code",
   "execution_count": 10,
   "metadata": {},
   "outputs": [],
   "source": [
    "def po_aktivnostih(obiski):\n",
    "    return {aktivnost: udelezenci(aktivnost, obiski) for aktivnost in aktivnosti(obiski)}"
   ]
  },
  {
   "cell_type": "markdown",
   "metadata": {},
   "source": [
    "Preverimo, da res deluje."
   ]
  },
  {
   "cell_type": "code",
   "execution_count": 11,
   "metadata": {},
   "outputs": [
    {
     "data": {
      "text/plain": [
       "{'zdravnik': {'Ana', 'Dani'},\n",
       " 'kava': {'Ana', 'Berta', 'Cilka'},\n",
       " 'telovadba': {'Cilka', 'Ema', 'Fanči', 'Greta'}}"
      ]
     },
     "execution_count": 11,
     "metadata": {},
     "output_type": "execute_result"
    }
   ],
   "source": [
    "po_aktivnostih(obiski)"
   ]
  },
  {
   "cell_type": "markdown",
   "metadata": {},
   "source": [
    "Funkcija `skupine` pa je najpreprostejša od vseh: zahteva le, da vrnemo vse vrednosti v slovarju, kakršnega sestavi `po_aktivnostih`."
   ]
  },
  {
   "cell_type": "code",
   "execution_count": 12,
   "metadata": {},
   "outputs": [
    {
     "data": {
      "text/plain": [
       "[{'Ana', 'Dani'},\n",
       " {'Ana', 'Berta', 'Cilka'},\n",
       " {'Cilka', 'Ema', 'Fanči', 'Greta'}]"
      ]
     },
     "execution_count": 12,
     "metadata": {},
     "output_type": "execute_result"
    }
   ],
   "source": [
    "def skupine(obiski):\n",
    "    return list(po_aktivnostih(obiski).values())\n",
    "\n",
    "skupine(obiski)"
   ]
  },
  {
   "cell_type": "markdown",
   "metadata": {},
   "source": [
    "Bi se dalo drugače, brez te funkcije? Da, vendar ne brez slovarja. Vsaj ne prav lahko. Vsaka razumna rešitev, ki ne bi klicala funkcije `aktivnosti`, bi v bistvu ponavljala, kar smo napisali v eni od gornjih oblik te funkcije.\n",
    "\n",
    "## Za oceno 7\n",
    "\n",
    "Odkod nam podatki? Izvorno so bili predstavljeni takole:\n",
    "\n",
    "```\n",
    "kava: Ana, Berta\n",
    "telovadba: Cilka\n",
    "zdravnik: Dani, Ana\n",
    "kava: Cilka\n",
    "telovadba: Ema, Fanči, Greta\n",
    "```\n",
    "\n",
    "Vrstice se med seboj dopolnjujejo: če v drugi vrstici piše, da je bila Cilka na telovadbi in v zadnji, da so bile tam tudi Ema, Fanči in Greta, je kaj možno, da so vse štiri telovadile skupaj.\n",
    "\n",
    "Napiši funkcijo\n",
    "\n",
    "- `preberi_zapiske(zapiski)` prejme seznam, ki vsebuje vrstice, kot je gornjih pet. Vrne seznam parov (oseba, aktivnost), kot smo ga videvali v nalogi za oceno 6. Pari naj bodo v takšnem vrstnem redu, kot se pojavljajo v vrsticah. Tako mora klic\n",
    "\n",
    "    ```python\n",
    "    preberi_zapiske([\n",
    "        \"kava: Ana, Berta\",\n",
    "        \"telovadba: Cilka\",\n",
    "        \"zdravnik: Dani, Ana\",\n",
    "        \"kava: Cilka\",\n",
    "        \"telovadba: Ema, Fanči, Greta\"\n",
    "    ])\n",
    "    ```\n",
    "\n",
    "    vrniti\n",
    "\n",
    "    ```python\n",
    "    [(\"Ana\", \"kava\"), (\"Berta\", \"kava\"), (\"Cilka\", \"telovadba\"),\n",
    "    (\"Dani\", \"zdravnik\"), (\"Ana\", \"zdravnik\"), (\"Cilka\", \"kava\"),\n",
    "    (\"Ema\", \"telovadba\"), (\"Fanči\", \"telovadba\"), (\"Greta\", \"telovadba\")]\n",
    "    ```\n",
    "\n",
    "### Rešitev\n",
    "\n",
    "Iti bo potrebno čez vse vrstice.\n",
    "\n",
    "```python\n",
    "for zapisek in zapiski:\n",
    "````\n",
    "\n",
    "Vsako bomo razcepili s `split(\":\")`; levo je aktivnost, desno seznam oseb, \n",
    "\n",
    "```python\n",
    "    aktivnost, osebe = zapisek.split(\":\")\n",
    "```\n",
    "\n",
    "Nato gremo prek vseh oseb, ki jih dobimo tako, da seznam razdelimo glede na vejice.\n",
    "\n",
    "```python\n",
    "    for oseba in osebe.split(\",\")\n",
    "```\n",
    "\n",
    "V seznam dodamo vse pare te aktivnosti in teh oseb.\n",
    "\n",
    "```python\n",
    "        obiski.append((oseba.strip(), aktivnost.strip()))\n",
    "```\n",
    "\n",
    "Oziroma, vse skupaj:"
   ]
  },
  {
   "cell_type": "code",
   "execution_count": 13,
   "metadata": {},
   "outputs": [],
   "source": [
    "def preberi_zapiske(zapiski):\n",
    "    obiski = []\n",
    "    for zapisek in zapiski:\n",
    "        aktivnost, osebe = zapisek.split(\":\")\n",
    "        for oseba in osebe.split(\",\"):\n",
    "            obiski.append((oseba.strip(), aktivnost.strip()))\n",
    "    return obiski"
   ]
  },
  {
   "cell_type": "markdown",
   "metadata": {},
   "source": [
    "Gre tudi z izpeljanim seznamom, le da zahteva nekaj gnezdenja generatorjev."
   ]
  },
  {
   "cell_type": "code",
   "execution_count": 14,
   "metadata": {},
   "outputs": [],
   "source": [
    "def preberi_zapiske(zapiski):\n",
    "    return [(oseba.strip(), zapisek.split(\":\")[0])\n",
    "            for zapisek in zapiski for oseba in zapisek.split(\":\")[1].split(\",\")]"
   ]
  },
  {
   "cell_type": "markdown",
   "metadata": {},
   "source": [
    "## Za oceno 8\n",
    "\n",
    "\n",
    "- `okuzeni(skupine, nosilci)` prejme seznam skupin, kot ga vrača prejšnja funkcija, in množico ljudi, za katere vemo, da so okuženi (`nosilci`). Funkcija vrne množico imen vseh ljudi, ki so jih `nosilci` potencialno okužili. Za skupine iz prejšnjega primera mora klic `okuzeni(skupine, {\"Cilka\", \"Berta\"})` vrniti `{\"Ana\", \"Ema\"}`.\n",
    "\n",
    "- `zlati_prinasalec(skupine)` vrne ime osebe, ki lahko okuži največ ljudi, torej človeka, ki se je družil z največ drugimi ljudmi. Pazi, to ni nujno tisti, ki je v največ skupinah! Kadar je enako \"zlatih\" oseb več, je Zlatko tisti, ki je prej po abecedi. Za gornje skupine lahko Ana in Cilka okužita po tri ljudi, zato funkcija vrne `\"Ana\"`.\n",
    "\n",
    "\n",
    "### Rešitev\n",
    "\n",
    "Funkcija `okuzeni` od študenta zahteva, da zna delati z množicami. Konkretno, računati preseke, unije in razlike. Iti mora čez vse skupine. Za vsako skupino preveri, ali je v njej kdo okužen (tako da izračuna *presek* članov te skupine in tistih, ki so bolni). Če je, potem mora člane te skupine dodati (*unija*) k novookuženim. Ker funkcija ne sme vrniti tudi imen tistih, ki so bili okuženi že od prej, mora na koncu od množice novookuženih odšteti množico tistih, ki so bili okuženi že prej."
   ]
  },
  {
   "cell_type": "code",
   "execution_count": 15,
   "metadata": {},
   "outputs": [],
   "source": [
    "def okuzeni(skupine, nosilci):\n",
    "    vsi_okuzeni = set()\n",
    "    for skupina in skupine:\n",
    "        if skupina & nosilci:\n",
    "            vsi_okuzeni |= skupina\n",
    "    return vsi_okuzeni - nosilci"
   ]
  },
  {
   "cell_type": "code",
   "execution_count": 16,
   "metadata": {},
   "outputs": [
    {
     "data": {
      "text/plain": [
       "{'Ana', 'Cilka'}"
      ]
     },
     "execution_count": 16,
     "metadata": {},
     "output_type": "execute_result"
    }
   ],
   "source": [
    "skupine = [{'Ana', 'Dani'},\n",
    "           {'Ana', 'Berta', 'Cilka'},\n",
    "           {'Cilka', 'Ema', 'Fanči', 'Greta'}]\n",
    "\n",
    "okuzeni(skupine, {\"Dani\", \"Berta\"})"
   ]
  },
  {
   "cell_type": "markdown",
   "metadata": {},
   "source": [
    "Reševanje te naloge v eni vrstici je sodilo pod \"oceno 11\". Mislil sem namreč, da bo potrebno zanj uporabiti funkcijo `reduce`. Poleg tega pa še uporabiti `set.union`, za katero niti ne vemo dobro, kaj je (v resnici: nevezana metoda, *unbound method*, kar je v sodobnem Pythonu praktično isto kot funkcija)."
   ]
  },
  {
   "cell_type": "code",
   "execution_count": 17,
   "metadata": {},
   "outputs": [],
   "source": [
    "from functools import reduce\n",
    "\n",
    "def okuzeni(skupine, nosilci):\n",
    "    return reduce(set.union,\n",
    "                  (skupina for skupina in skupine if skupina & nosilci),\n",
    "                  set()\n",
    "                 ) - nosilci"
   ]
  },
  {
   "cell_type": "markdown",
   "metadata": {},
   "source": [
    "`reduce` se vam gotovo splača naštudirati. Eden od študentov pa je odkril, da `set.union` kot argument sprejme tudi poljubno število množi. To rešitev poenostavi v"
   ]
  },
  {
   "cell_type": "code",
   "execution_count": 18,
   "metadata": {},
   "outputs": [],
   "source": [
    "def okuzeni(skupine, nosilci):\n",
    "    return set.union(*(skupina for skupina in skupine if skupina & nosilci), set()) - nosilci"
   ]
  },
  {
   "cell_type": "markdown",
   "metadata": {},
   "source": [
    "Za `zlatega_prinasalca` najprej potrebujemo seznam oseb. Potem pa za vsako od oseb preveri, koliko jih okuži in si zapomnimo tisto, ki jih okuži največ. To je preprosto, če se spomnimo (in znamo) uporabiti funkcijo `okuzeni`."
   ]
  },
  {
   "cell_type": "code",
   "execution_count": 19,
   "metadata": {},
   "outputs": [],
   "source": [
    "def zlati_prinasalec(skupine):\n",
    "    vse_osebe = set()\n",
    "    for skupina in skupine:\n",
    "        vse_osebe |= skupina\n",
    "\n",
    "    zlatko = None\n",
    "    zrtev = 0\n",
    "    for oseba in vse_osebe:\n",
    "        n_okuzenih = len(okuzeni(skupine, {oseba}))\n",
    "        if n_okuzenih > zrtev or (n_okuzenih == zrtev and oseba < zlatko):\n",
    "            zlatko = oseba\n",
    "            zrtev = n_okuzenih\n",
    "    return zlatko\n"
   ]
  },
  {
   "cell_type": "code",
   "execution_count": 20,
   "metadata": {},
   "outputs": [
    {
     "data": {
      "text/plain": [
       "'Cilka'"
      ]
     },
     "execution_count": 20,
     "metadata": {},
     "output_type": "execute_result"
    }
   ],
   "source": [
    "zlati_prinasalec(skupine)"
   ]
  },
  {
   "cell_type": "markdown",
   "metadata": {},
   "source": [
    "Največji kamen spotike je bil, kako klicati funkcijo `okuzeni` z eno samo osebo. Klic `okuzeni(skupine, oseba)` ne bo deloval, ker `okuzeni` kot drugi argument pričakuje množico, `oseba` pa je niz. Klic `okuzeni(skupine, set(oseba))`, ker `set(\"Cilka\")` ni množica, ki vsebuje niz `Cilka`, temveč"
   ]
  },
  {
   "cell_type": "code",
   "execution_count": 21,
   "metadata": {},
   "outputs": [
    {
     "data": {
      "text/plain": [
       "{'C', 'a', 'i', 'k', 'l'}"
      ]
     },
     "execution_count": 21,
     "metadata": {},
     "output_type": "execute_result"
    }
   ],
   "source": [
    "set(\"Cilka\")"
   ]
  },
  {
   "cell_type": "markdown",
   "metadata": {},
   "source": [
    "Množico, ki vsebuje niz `\"Cilka\"` zapišemo kot `{\"Cilka\"}`, množico, ki vsebuje niz, shranjen v spremenljivki `oseba`, pa kot `{oseba}`. Pravilni klic je torej takšen, kot ga vidimo zgoraj: `okuzeni(skupine, {oseba})`.\n",
    "\n",
    "V eno vrstico - kar je bil spet le dodani izziv - ga najlažje spravimo tako, da sestavimo pare (-število_okuženih, ime) in poiščemo minimum. Na ta način bomo dobili tistega, ki jih je okužil največ (ker iščemo minimum negativne vrednosti), med tistimi, ki so jih okužili enako, pa tistega, ki je prej po abecedi. Če bi iskali maksimum parov (število okuženih, ime), bi med enako pridnimi prenašalci dobili tistega, ki je po abecedi kasneje.\n",
    "\n",
    "Tudi s tem trikom rešitev v eni vrstici zahteva lambdo."
   ]
  },
  {
   "cell_type": "code",
   "execution_count": 22,
   "metadata": {},
   "outputs": [],
   "source": [
    "def zlati_prinasalec(skupine):\n",
    "    return min(set.union(*skupine), key=lambda oseba: (-len(okuzeni(skupine, {oseba})), oseba))"
   ]
  },
  {
   "cell_type": "markdown",
   "metadata": {},
   "source": [
    "Gre tudi brez, a ni nič lepše."
   ]
  },
  {
   "cell_type": "code",
   "execution_count": 23,
   "metadata": {},
   "outputs": [],
   "source": [
    "def zlati_prinasalec(skupine):\n",
    "    return min((-len(okuzeni(skupine, {oseba})), oseba) for oseba in set.union(*skupine))[1]"
   ]
  },
  {
   "cell_type": "markdown",
   "metadata": {},
   "source": [
    "## Za oceno 9\n",
    "\n",
    "Vse funkcije razen zadnjih treh (`okuženi`, `zlati_prinasalec`, `korakov_do_vseh`) napiši s pomočjo izpeljanih seznamov, množic, slovarjev, tako da bodo dolge le eno vrstico - vsebovale bodo samo `return ...`. Pri tem seveda ne smeš definirati dodatnih funkcij, saj bi lahko potem goljufal tako, da bi vse delo opravil v njih.\n",
    "\n",
    "### Rešitev\n",
    "\n",
    "Smo že sproti.\n",
    "\n",
    "## Za oceno 10\n",
    "\n",
    "- `korakov_do_vseh(skupine, prvi)`, ki prejme skupine in prvega okuženega. Vrne število korakov, po katerih bodo okuženi vsi. Če pa slučajno obstaja kdo (ali skupina ljudi), ki ga (jih) okužba nikoli ne doseže, ker se ni(so) družil(i) z drugimi, naj funkcija vrne `None`.\n",
    "\n",
    "    Recimo, da imamo skupine\n",
    "\n",
    "    ```python\n",
    "    [{\"Cilka\", \"Ema\", \"Jana\", \"Saša\"},\n",
    "    {\"Ema\"},\n",
    "    {\"Fanči\", \"Greta\", \"Saša\"},\n",
    "    {\"Greta\", \"Nina\"},\n",
    "    {\"Greta\", \"Olga\", \"Rebeka\"},\n",
    "    {\"Micka\", \"Ana\", \"Klara\"},\n",
    "    {\"Fanči\", \"Iva\", \"Berta\", \"Špela\"},\n",
    "    {\"Klara\", \"Cilka\", \"Dani\"},\n",
    "    {\"Petra\", \"Dani\", \"Lara\", \"Špela\"}]\n",
    "    ```\n",
    "\n",
    "    in da je prvookužena Ana. Ana bo okužila Micko in Klaro. V drugem koraku bosta tidve okužili Dani in Cilko. V tretjem koraku bosta tidve okužili Laro, Jano, Petro, Sašo, Emo in Špelo. V četrtem koraku bodo te okužile Berto, Fanči, Greto in Ivo. V petek bodo le-te okužile Olgo, Nino in Rebeko. Da bodo bolni vsi, bo torej potrebnih pet korakov - če začnemo z Ano. Funkcija zato v tem primeru vrne 5.\n",
    "\n",
    "|korak| okuženi       |\n",
    "|:-:|:------------------|\n",
    "| 0| Ana             |\n",
    "| 1| Micka, Klara    |\n",
    "| 2| Dani, Cilka     |\n",
    "| 3| Lara, Jana, Petra, Saša, Ema, Špela |\n",
    "| 4| Berta, Fanči, Greta, Iva |\n",
    "| 5| Olga, Nina, Rebeka       |\n",
    "\n",
    "### Rešitev\n",
    "\n",
    "Bistvo funkcije je, da širimo množico okuženih. V bistvu delamo `vsi_okuzeni |= okuzeni(skupine, vsi_okuzeni)` - k vsem okuženim v vsakem koraku dodamo vse, ki jih okužijo vsi, ki so okuženi.\n",
    "\n",
    "V začetku potrebujemo množico vseh oseb. To lahko dobimo tako, kot v `zlati_prinasalec`, ali po bližnjici, ki smo jo odkrili zgoraj, `vsi = set.union(*skupine)`. Množica prvotno okuženih je `{prinasalec}`.\n",
    "\n",
    "Nato potrebujemo zanko, eno in edino. V njej bomo šteli korake. Zanka je lahko oblike\n",
    "\n",
    "```python\n",
    "korakov = 0\n",
    "while True:\n",
    "    ...\n",
    "    korakov += 1\n",
    "```\n",
    "\n",
    "pomaga pa, če vemo za `itertools.count()`, ki je v bistvu neskončen `range`, torej funkcija, ki šteje od 0 do neskončno. Gornjo zanko lahko torej zamenjamo z\n",
    "\n",
    "```python\n",
    "for korakov in count():\n",
    "```\n",
    "\n",
    "Znotraj znake pa nam je ponavljati tole. Če so `doslej_okuzeni` že `vsi`, vrnemo število korakov. (To je lahko tudi `0`, če je `prinasalec` edina oseba na svetu. Sicer izvemo, kdo so `novookuzeni`. Če jih ni, vrnemo `None`, ker še niso okuženi vsi, in tudi nikoli ne bodo. Če imamo kakega novookuženega, pa ga dodamo k doslej okuženim."
   ]
  },
  {
   "cell_type": "code",
   "execution_count": 24,
   "metadata": {},
   "outputs": [],
   "source": [
    "from itertools import count\n",
    "\n",
    "def korakov_do_vseh(skupine, prinasalec):\n",
    "    vsi = set.union(*skupine)\n",
    "    doslej_okuzeni = {prinasalec}\n",
    "    for i in count():\n",
    "        if doslej_okuzeni == vsi:\n",
    "            return i\n",
    "        novookuzeni = okuzeni(skupine, doslej_okuzeni)\n",
    "        print(novookuzeni)\n",
    "        if not novookuzeni:\n",
    "            return None\n",
    "\n",
    "        doslej_okuzeni |= novookuzeni"
   ]
  },
  {
   "cell_type": "markdown",
   "metadata": {},
   "source": [
    "Za primerjavo s tabelico iz opisa naloge, smo dodali še en `print`"
   ]
  },
  {
   "cell_type": "code",
   "execution_count": 25,
   "metadata": {},
   "outputs": [
    {
     "name": "stdout",
     "output_type": "stream",
     "text": [
      "{'Micka', 'Klara'}\n",
      "{'Dani', 'Cilka'}\n",
      "{'Saša', 'Jana', 'Petra', 'Ema', 'Lara', 'Špela'}\n",
      "{'Berta', 'Iva', 'Greta', 'Fanči'}\n",
      "{'Olga', 'Rebeka', 'Nina'}\n"
     ]
    },
    {
     "data": {
      "text/plain": [
       "5"
      ]
     },
     "execution_count": 25,
     "metadata": {},
     "output_type": "execute_result"
    }
   ],
   "source": [
    "korakov_do_vseh([{\"Cilka\", \"Ema\", \"Jana\", \"Saša\"},\n",
    "    {\"Ema\"},\n",
    "    {\"Fanči\", \"Greta\", \"Saša\"},\n",
    "    {\"Greta\", \"Nina\"},\n",
    "    {\"Greta\", \"Olga\", \"Rebeka\"},\n",
    "    {\"Micka\", \"Ana\", \"Klara\"},\n",
    "    {\"Fanči\", \"Iva\", \"Berta\", \"Špela\"},\n",
    "    {\"Klara\", \"Cilka\", \"Dani\"},\n",
    "    {\"Petra\", \"Dani\", \"Lara\", \"Špela\"}], \"Ana\")"
   ]
  },
  {
   "cell_type": "markdown",
   "metadata": {},
   "source": [
    "Točno, kot mora biti:\n",
    "\n",
    "|korak| okuženi       |\n",
    "|:-:|:------------------|\n",
    "| 0| Ana             |\n",
    "| 1| Micka, Klara    |\n",
    "| 2| Dani, Cilka     |\n",
    "| 3| Lara, Jana, Petra, Saša, Ema, Špela |\n",
    "| 4| Berta, Fanči, Greta, Iva |\n",
    "| 5| Olga, Nina, Rebeka       |\n",
    "\n",
    "Se da tudi to v eni vrstici? Da, vendar zahteva dodatne trike, kakršnih se nismo učili. Osnovni problem je, kako shraniti nekaj, kar si naračunal, v spremenljivko, da ne bo potrebno računati ponovno. Spodnji trik ima neko lispovsko eleganco (Lisp je eden najstarejših programskih jezikov, a še vedno priljubljen med \"pravimi računalnikarji\" zaradi svoje elementarnosti in, no, svojske elegance): če hočeš neko naračunano vrednost uporabiti večkrat, napišeš lambdo in jo pokličeš s to vrednostjo. Se pravi, namesto `f(x) * (1 + f(x))` napišeš `(lambda y: y * (1 + y))(f(x))`.\n",
    "\n",
    "To naredi spodnjo funkcijo skoraj prebavljivo."
   ]
  },
  {
   "cell_type": "code",
   "execution_count": 26,
   "metadata": {},
   "outputs": [],
   "source": [
    "def korakov_do_vseh(skupine, doslej):\n",
    "    return korakov_do_vseh(skupine, {doslej}) if isinstance(doslej, str) else (\n",
    "        0 if set.union(*skupine) == doslej else\n",
    "        (lambda novi:\n",
    "             (lambda korakov: None if korakov is None else korakov + 1)(korakov_do_vseh(skupine, doslej | novi)) if novi else None)\n",
    "        (okuzeni(skupine, doslej))\n",
    "    )"
   ]
  },
  {
   "cell_type": "markdown",
   "metadata": {},
   "source": [
    "## Za oceno 11\n",
    "\n",
    "Naštudiraj funkcijo `functools.reduce` dodatne argumente funkcij, kot so `min`, `max` ali `sort` ... in v eni vrstici napiši vse funkcije razen `korakov_do_vseh`. (`reduce` seveda uporabi, kjer ga potrebuješ. Kjer ne, ne.)\n",
    "\n",
    "### Rešitev\n",
    "\n",
    "Smo že pokazali."
   ]
  }
 ],
 "metadata": {
  "kernelspec": {
   "display_name": "Python 3",
   "language": "python",
   "name": "python3"
  },
  "language_info": {
   "codemirror_mode": {
    "name": "ipython",
    "version": 3
   },
   "file_extension": ".py",
   "mimetype": "text/x-python",
   "name": "python",
   "nbconvert_exporter": "python",
   "pygments_lexer": "ipython3",
   "version": "3.7.4"
  }
 },
 "nbformat": 4,
 "nbformat_minor": 4
}
