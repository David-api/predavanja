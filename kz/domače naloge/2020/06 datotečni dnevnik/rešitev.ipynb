{
 "cells": [
  {
   "cell_type": "markdown",
   "metadata": {},
   "source": [
    "# Datotečni dnevnik\n",
    "\n",
    "Nek računalnik hrani arhiv vseh sprememb datotek: vsakič, ko shranimo datoteko, zabeleži trenutni datum, ime datoteke in njeno dolžino. Podatki so lahko, recimo, takšni:\n",
    "\n",
    "```python\n",
    "arhiv = [\n",
    "    \"12/31/2018 ime_dat.avi 21532\",\n",
    "    \"10/16/2020 ime_dat.avi 314236\",\n",
    "    \"10/16/2020 some_other.avi 314236\",\n",
    "    \"1/1/1971 ime_dat.avi 312353\",\n",
    "    \"5/16/2020 ime_dat.avi 21532\",\n",
    "    \"10/18/2020 another_file.avi 351352\",\n",
    "    \"10/18/2018 another_file.avi 314236\",\n",
    "]\n",
    "```\n",
    "\n",
    "Vsaka vrstica opisuje spremembo datoteke:\n",
    "- datum v obliki mesec/dan/leto,\n",
    "- ime datoteke; le-to nikoli ne vsebuje presledkov,\n",
    "- številka, ki predstavlja dolžino datoteke.\n",
    "\n",
    "Med podatki so presledki. Vrstice niso urejene po datumu ali čemerkoli drugem.\n",
    "\n",
    "Na disku, ki ga opisuje gornji seznam, so trenutno samo tri datoteke (\"ime_dat.avi\", \"some_other.avi\" in \"another_file.avi\"). Datoteka \"ime_dat.avi\" je bila shranjena štirikrat, in sicer 31. decembra 2018, 16. oktobra 2020, 1. januarja 1971, in 16. maja 2020. Na disku le zadnja različica, s 16. oktobra letos.\n",
    "\n",
    "\n",
    "## Obvezna naloga\n",
    "\n",
    "Prve štiri funkcije, ki jih moraš napisati, prejmejo ime vrstice, kot je gornja. Te štiri funkcije se lahko seveda kličejo med sabo. Katera kliče katero, je stvar tvoje odločitve; nalogo je mogoče rešiti na različne načine.\n",
    "\n",
    "- `datum(vrstica)` vrne datum kot terko (leto, mesec, dan). Klic `datum(\"5/15/1970 ime_dat.avi 42\")` vrne `(1970, 5, 15)`.\n",
    "- `ime(vrstica)` vrne ime datoteke. Klic `ime(\"5/15/1970 ime_dat.avi 42\")` vrne niz `\"ime_dat.avi\"`.\n",
    "- `dolzina(vrstica)` vrne dolžino datoteke. Klic `dolzina(\"5/15/1970 ime_dat.avi   42\")` vrne 42.\n",
    "- `podatki(vrstica)` vrne terko z gornjimi podatki. Klic `podatki(\"5/15/1970 ime_dat.avi 42\")` vrne `((1970, 5, 15), \"ime_dat.avi\", 42)`.\n",
    "\n",
    "Poleg teh štirih napiši še naslednji funkciji.\n",
    "\n",
    "- `je_novejsa(s1, s2)` prejme dve vrstici in vrne `True`, če ima `s1` novejši (kasnejši) datum kot `s2`, in `False`, če ne. Klic `je_novejsa(\"11/16/2020 ime.txt 316\", \"11/15/2015 foo.txt 314\")` vrne `True`.\n",
    "- `najnovejsa(ime_datoteke, arhiv)` prejme ime datoteke in seznam, kot je na začetku naloge. Vrniti mora podatke o datoteki v času zadnje spremembe. Klic `najnovejsa(\"ime_dat.avi\", arhiv)` (pri čemer je `arhiv` takšen, kot je definiran zgoraj) vrne `((2020, 10, 16), \"ime_dat.avi\", 314236)`, saj so to podatki o datoteki, kot je bila shranjena na zadnjega izmed štirih datumov, ko smo spreminjali to datoteko.\n",
    "\n",
    "### Rešitev\n",
    "\n",
    "Prve štiri funkcije so vaje iz `split`-a. Vrstico s `split()` razsekamo na tri podnize, ki vebujejo datum, ime in dolžino, vse troje kot niz. Do teh treh delov pridemo torej z `datum, ime, dolzina = vrstica.split()`. Odtod naprej gre vsaka funkcija po svoje."
   ]
  },
  {
   "cell_type": "code",
   "execution_count": 1,
   "metadata": {},
   "outputs": [],
   "source": [
    "def ime(vrstica):\n",
    "    ime, datum, dolzina = vrstica.split()\n",
    "    return ime\n",
    "\n",
    "def datum(vrstica):\n",
    "    ime, datum, dolzina = vrstica.split()\n",
    "    mes, dan, let = datum.split(\"/\")\n",
    "    return int(let), int(mes), int(dan)\n",
    "\n",
    "def dolzina(s):\n",
    "    ime, datum, dolzina = vrstica.split()\n",
    "    return int(dolzina)\n",
    "\n",
    "def podatki(s):\n",
    "    return datum(s), ime(s), dolzina(s)"
   ]
  },
  {
   "cell_type": "markdown",
   "metadata": {},
   "source": [
    "Zadnja funkcija, podatki, le kliče gornje tri funkcije.\n",
    "\n",
    "Seveda bi se dalo obrniti tudi drugače: lahko bi vse delo opravila zadnja funkcija, prve tri pa klicale njo. Pomembno je le, da si dela ne podvajamo in se te funkcije kličejo med seboj. \n",
    "\n",
    "Preostali funkciji tudi ne bi smeli biti raketna znanost. `je_novejsa` mora le primerjati datume. Terki sta že oblikovani tako, da imamo najprej leto, nato mesec in dan. Ko Python primerja terke, najprej primerja prvi element; če sta enaka, primerja drugega in če sta enaka tudi tadva, še tretjega. Točno to, kar potrebujemo.\n",
    "\n",
    "Funkcija `je_novejsa` pa je nekaj, kar prežvekujemo že ves čas: iskanje največjega elementa po določenem kriteriju - tokrat datumu."
   ]
  },
  {
   "cell_type": "code",
   "execution_count": 2,
   "metadata": {},
   "outputs": [],
   "source": [
    "def je_novejsa(s1, s2):\n",
    "    return datum(s1) > datum(s2)\n",
    "\n",
    "def najnovejsa(ime, arhiv):\n",
    "    naj_pod = None\n",
    "    naj_dat = None\n",
    "    for vrstica in arhiv:\n",
    "        pod = dat, ime2, _2 = podatki(vrstica)\n",
    "        if ime == ime2 and (naj_dat == None or dat > naj_dat):\n",
    "            naj_pod = pod\n",
    "            naj_dat = dat\n",
    "    return naj_pod"
   ]
  },
  {
   "cell_type": "markdown",
   "metadata": {},
   "source": [
    "Nekateri so funkcijo `je_novejsa` programirali zelo narobe, namreč tako:"
   ]
  },
  {
   "cell_type": "code",
   "execution_count": 3,
   "metadata": {},
   "outputs": [],
   "source": [
    "# Tole je narobe!\n",
    "\n",
    "def je_novejsa(s1, s2):\n",
    "    l1, m1, d1 = s1\n",
    "    l2, m2, d2 = s2\n",
    "    if l1 > l2:\n",
    "        return True\n",
    "    if m1 > m2:\n",
    "        return True\n",
    "    if d2 > d2:\n",
    "        return True\n",
    "    return False"
   ]
  },
  {
   "cell_type": "markdown",
   "metadata": {},
   "source": [
    "Problem je v tem: če je `l1 > l2`, moramo res vrniti `False`. Če ni, pa ne moremo kar tako primerjati mesecev, temveč moramo prej preveriti, da sta leti enaki. Če je namreč `l1 < l2`, je potrebno vrniti `False`.\n",
    "\n",
    "## Dodatna naloga\n",
    "\n",
    "- `datumi(ime_datoteke, arhiv)` vrne datume sprememb podane datoteke. Datumi morajo biti urejeni od kasnejših proti starejšim. Klic `datumi(\"ime_dat.avi\", arhiv)` vrne `[(2020, 10, 16), (2020, 5, 16), (2018, 12, 31), (1971, 1, 1)]`.\n",
    "- `brez(ime_datoteke, arhiv)` vrne seznam, ki je enak podanemu, le brez vrstica, ki se nanašajo na podano datoteko. Klic `brez(\"ime_dat.avi\", arhiv)` vrne\n",
    "\n",
    "    ```\n",
    "    [\"10/16/2020 some_other.avi 314236\",\n",
    "    \"10/18/2020 another_file.avi 351352\",\n",
    "    \"10/18/2018 another_file.avi 314236\",\n",
    "    ]\n",
    "    ```\n",
    "\n",
    "### Rešitev\n",
    "\n",
    "Gremo čez vse vrstice arhiva, pogledamo podatke in če je ime pravo, dodamo datum v seznam datumov. Na koncu pokličemo `sort` z argumentom `reverse=True`, da bodo datumi urejeni padajoče."
   ]
  },
  {
   "cell_type": "code",
   "execution_count": 4,
   "metadata": {},
   "outputs": [],
   "source": [
    " def datumi(ime, arhiv):\n",
    "    dats = []\n",
    "    for vrstica in arhiv:\n",
    "        dat, im, _ = podatki(vrstica)\n",
    "        if im == ime:\n",
    "            dats.append(dat)\n",
    "    return sorted(dats, reverse=True)"
   ]
  },
  {
   "cell_type": "markdown",
   "metadata": {},
   "source": [
    "V drugi funkciji pa pripravimo prazen seznam in vanj zlagamo vse vrstice, pri katerih je ime drugačno od podanega."
   ]
  },
  {
   "cell_type": "code",
   "execution_count": 5,
   "metadata": {},
   "outputs": [],
   "source": [
    "def brez(im, arhiv):\n",
    "    filtriran = []\n",
    "    for vrstica in arhiv:\n",
    "        if ime(vrstica) != im:\n",
    "            filtriran.append(vrstica)\n",
    "    return filtriran"
   ]
  }
 ],
 "metadata": {
  "kernelspec": {
   "display_name": "Python 3",
   "language": "python",
   "name": "python3"
  },
  "language_info": {
   "codemirror_mode": {
    "name": "ipython",
    "version": 3
   },
   "file_extension": ".py",
   "mimetype": "text/x-python",
   "name": "python",
   "nbconvert_exporter": "python",
   "pygments_lexer": "ipython3",
   "version": "3.7.4"
  }
 },
 "nbformat": 4,
 "nbformat_minor": 4
}
