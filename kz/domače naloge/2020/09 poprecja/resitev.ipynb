{
 "cells": [
  {
   "cell_type": "markdown",
   "metadata": {},
   "source": [
    "# Poprečja\n",
    "\n",
    "Imamo datoteko, ki je videti, recimo, tako\n",
    "\n",
    "```\n",
    "Ana 4 2 3 4 5\n",
    "Berta 4 3\n",
    "Cilka 5 5 3 5\n",
    "Dani 4 3 5\n",
    "Ema 3\n",
    "```\n",
    "\n",
    "Vsaka vrstica vsebuje ime šolarke, sledijo njene ocene (pri matematiki).\n",
    "\n",
    "V splošnem lahko datoteka vsebuje tudi kakšna druga imena. Tudi ime datoteke ni vedno enako; podano je kot argument funkciji.\n",
    "\n",
    "Napiši funkcije\n",
    "\n",
    "- `redovalnica(ime_datoteke)` prejme ime datoteke in vrne slovar, katerega ključi so imena, pripadajoči seznami pa ocene (kot števila, ne nizi).\n",
    "\n",
    "    Za gornje podatke mora vrniti\n",
    "    ```\n",
    "    {\"Ana\": [4, 2, 3, 4, 5],\n",
    "    \"Berta\": [4, 3],\n",
    "    \"Cilka\": [5, 5, 3, 5],\n",
    "    \"Dani\": [4, 3, 5],\n",
    "    \"Ema\": [3]\n",
    "    }\n",
    "    ```\n",
    "\n",
    "- `poprecne_ocene(ime_datoteke)` prejme ime datoteke in vrne slovar, katerega ključi so imena, vrednosti pa poprečne ocene, zaokrožene navzgor. Če imamo neko (ne nujno celo) število `x`, dobimo navzgor zaokroženo celo število s klicem `int(ceil(x))`, pri čemer funkcijo `ceil` (zaokrožanje navzgor) uvozimo z `from math import ceil`.\n",
    "\n",
    "Za gornje ocene mora vrniti `{'Ana': 4, 'Berta': 4, 'Cilka': 5, 'Dani': 4, 'Ema': 3}`.   \n",
    "\n",
    "- `zapisi_poprecja(vhod, izhod)` prejme ime vhodne in izhodne datoteke. Iz vhodne prebere podatke, v izhodno pa izpiše imena in poprečja.\n",
    "\n",
    "   V gornjem primeru mora v datoteko z imenom `izhod` zapisati\n",
    "\n",
    "   ```\n",
    "   Ana 4\n",
    "   Berta 4\n",
    "   Cilka 5\n",
    "   Dani 4\n",
    "   Ema 3\n",
    "   ```\n",
    "\n",
    "   Metoda `write` sprejme le en argument in ta mora biti niz. Če imamo `ime` in poprečno oceno `x`, bomo to sestavili v niz takole: `ime + \" \"  + str(x)`. (Prihodnji teden se bomo to naučili narediti preprosteje.)\n",
    "\n",
    "   Testi so napisani tako, da za branje datoteke uporabijo kar vašo funkcijo `redovalnica`. Če boste napisali kaj neumnega, se torej utegne zgoditi, da bo napako javila `redovalnica`.\n",
    "\n",
    "   Testi si bodo izmislili naključno ime izhodne datoteke. Če bo vse v redu, jo bodo potem pobrisali. Če ni vse v redu, jo bodo pustili, tako da jo lahko pogledate in vidite, kaj ste napisali vanjo.\n",
    "   \n",
    " \n",
    "## Rešitev\n",
    "\n",
    "### `redovalnica`\n",
    "\n",
    "Gremo čez vrstice. Vsako razbijemo s `split()` in shranimo v `polja`. Prvi element, `polja[0]` vsebuje `ime`, ostali, `polja[1:]` pa so ocene. Iz ostalih sestavimo seznam - se pravi seznam, ki vsebuje `int(x)` za vsak iz iz `polja[1:]`. To damo v slovar."
   ]
  },
  {
   "cell_type": "code",
   "execution_count": 1,
   "metadata": {},
   "outputs": [
    {
     "data": {
      "text/plain": [
       "{'Ana': [4, 2, 3, 4, 5],\n",
       " 'Berta': [4, 3],\n",
       " 'Cilka': [5, 5, 3, 5],\n",
       " 'Dani': [4, 3, 5],\n",
       " 'Ema': [3]}"
      ]
     },
     "execution_count": 1,
     "metadata": {},
     "output_type": "execute_result"
    }
   ],
   "source": [
    "def redovalnica(ime_datoteke):\n",
    "    red = {}\n",
    "    for vrstica in open(ime_datoteke):\n",
    "        polja = vrstica.split()\n",
    "        red[polja[0]] = [int(x) for x in polja[1:]]\n",
    "    return red\n",
    "\n",
    "redovalnica(\"ocene.txt\")"
   ]
  },
  {
   "cell_type": "markdown",
   "metadata": {},
   "source": [
    "### `poprecne_ocene`\n",
    "\n",
    "Pomagali si bomo s funkcijo `redovalnica`; šli bomo prek vseh parov (ključ, vrednost) iz tega slovarja (torej: `items()`). Poimenovali jih bomo `ime` in `ocene`. Torej: \n",
    "\n",
    "```python\n",
    "for ime, ocene in redovalnica(ime_datoteke).items()\n",
    "```\n",
    "\n",
    "Sestaviti moramo slovar, katerega ključi bodo imena, vrednosti pa poprečne ocene. Če so ocene v seznamu `ocene`, bomo poprečje izračunali s `sum(ocene) / len(ocene)`. Vsako oceno moramo zaokrožiti navzgor (`ceil`) in spremeniti v celo število (`int`). Torej:"
   ]
  },
  {
   "cell_type": "code",
   "execution_count": 2,
   "metadata": {},
   "outputs": [
    {
     "data": {
      "text/plain": [
       "{'Ana': 4, 'Berta': 4, 'Cilka': 5, 'Dani': 4, 'Ema': 3}"
      ]
     },
     "execution_count": 2,
     "metadata": {},
     "output_type": "execute_result"
    }
   ],
   "source": [
    "from math import ceil\n",
    "\n",
    "def poprecne_ocene(ime_datoteke):\n",
    "    return {ime: int(ceil(sum(ocene) / len(ocene)))\n",
    "            for ime, ocene in redovalnica(ime_datoteke).items()}\n",
    "\n",
    "poprecne_ocene(\"ocene.txt\")"
   ]
  },
  {
   "cell_type": "markdown",
   "metadata": {},
   "source": [
    "### `zapisi_poprecje`\n",
    "\n",
    "Tu ni kaj modrovati. Odpremo datoteko in zapisujemo."
   ]
  },
  {
   "cell_type": "code",
   "execution_count": 3,
   "metadata": {},
   "outputs": [],
   "source": [
    "def zapisi_poprecja(vhod, izhod):\n",
    "    f = open(izhod, \"wt\")\n",
    "    for ime, popr in poprecne_ocene(vhod).items():\n",
    "        f.write(ime + \" \" + str(popr) + \"\\n\")"
   ]
  }
 ],
 "metadata": {
  "kernelspec": {
   "display_name": "Python 3",
   "language": "python",
   "name": "python3"
  },
  "language_info": {
   "codemirror_mode": {
    "name": "ipython",
    "version": 3
   },
   "file_extension": ".py",
   "mimetype": "text/x-python",
   "name": "python",
   "nbconvert_exporter": "python",
   "pygments_lexer": "ipython3",
   "version": "3.7.4"
  }
 },
 "nbformat": 4,
 "nbformat_minor": 4
}
